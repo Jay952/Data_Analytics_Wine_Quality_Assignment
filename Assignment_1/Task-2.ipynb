{
 "cells": [
  {
   "cell_type": "code",
   "execution_count": 12,
   "metadata": {},
   "outputs": [],
   "source": [
    "import pandas as pd\n",
    "import numpy as np\n",
    "import matplotlib.pyplot as plt\n",
    "plt.style.use('ggplot')\n",
    "%matplotlib inline\n",
    "\n",
    "import seaborn as sns\n",
    "plt.rcParams['figure.figsize']=(12,8)\n"
   ]
  },
  {
   "cell_type": "code",
   "execution_count": 13,
   "metadata": {},
   "outputs": [],
   "source": [
    "test_data = pd.read_csv(\"wineQualityRed_test.csv\", sep=\";|,\", engine=\"python\", skipfooter=1) \n",
    "train_data = pd.read_csv(\"wineQualityRed_train.csv\", sep=\";|,\", engine=\"python\", skipfooter=1)"
   ]
  },
  {
   "cell_type": "code",
   "execution_count": 14,
   "metadata": {},
   "outputs": [
    {
     "data": {
      "text/plain": [
       "(479, 12)"
      ]
     },
     "execution_count": 14,
     "metadata": {},
     "output_type": "execute_result"
    }
   ],
   "source": [
    "test_data.shape"
   ]
  },
  {
   "cell_type": "code",
   "execution_count": 15,
   "metadata": {},
   "outputs": [
    {
     "data": {
      "text/plain": [
       "(1118, 12)"
      ]
     },
     "execution_count": 15,
     "metadata": {},
     "output_type": "execute_result"
    }
   ],
   "source": [
    "train_data.shape"
   ]
  },
  {
   "cell_type": "code",
   "execution_count": 16,
   "metadata": {},
   "outputs": [],
   "source": [
    "bins = (2, 6, 10)\n",
    "group_names = ['bad', 'good']\n",
    "train_data['\"\"quality\"\"\"'] = pd.cut(train_data['\"\"quality\"\"\"'], bins = bins, labels = group_names)"
   ]
  },
  {
   "cell_type": "code",
   "execution_count": 17,
   "metadata": {},
   "outputs": [],
   "source": [
    "bins = (2, 6, 10)\n",
    "group_names = ['bad', 'good']\n",
    "test_data['\"\"quality\"\"\"'] = pd.cut(test_data['\"\"quality\"\"\"'], bins = bins, labels = group_names)"
   ]
  },
  {
   "cell_type": "code",
   "execution_count": 18,
   "metadata": {},
   "outputs": [
    {
     "data": {
      "text/html": [
       "<div>\n",
       "<style scoped>\n",
       "    .dataframe tbody tr th:only-of-type {\n",
       "        vertical-align: middle;\n",
       "    }\n",
       "\n",
       "    .dataframe tbody tr th {\n",
       "        vertical-align: top;\n",
       "    }\n",
       "\n",
       "    .dataframe thead th {\n",
       "        text-align: right;\n",
       "    }\n",
       "</style>\n",
       "<table border=\"1\" class=\"dataframe\">\n",
       "  <thead>\n",
       "    <tr style=\"text-align: right;\">\n",
       "      <th></th>\n",
       "      <th>\"fixed acidity</th>\n",
       "      <th>\"\"volatile acidity\"\"</th>\n",
       "      <th>\"\"citric acid\"\"</th>\n",
       "      <th>\"\"residual sugar\"\"</th>\n",
       "      <th>\"\"chlorides\"\"</th>\n",
       "      <th>\"\"free sulfur dioxide\"\"</th>\n",
       "      <th>\"\"total sulfur dioxide\"\"</th>\n",
       "      <th>\"\"density\"\"</th>\n",
       "      <th>\"\"pH\"\"</th>\n",
       "      <th>\"\"sulphates\"\"</th>\n",
       "      <th>\"\"alcohol\"\"</th>\n",
       "      <th>\"\"quality\"\"\"</th>\n",
       "    </tr>\n",
       "  </thead>\n",
       "  <tbody>\n",
       "    <tr>\n",
       "      <th>0</th>\n",
       "      <td>10.6</td>\n",
       "      <td>0.28</td>\n",
       "      <td>0.39</td>\n",
       "      <td>15.5</td>\n",
       "      <td>0.069</td>\n",
       "      <td>6.0</td>\n",
       "      <td>23.0</td>\n",
       "      <td>1.0026</td>\n",
       "      <td>3.12</td>\n",
       "      <td>0.66</td>\n",
       "      <td>9.2</td>\n",
       "      <td>bad</td>\n",
       "    </tr>\n",
       "    <tr>\n",
       "      <th>1</th>\n",
       "      <td>9.4</td>\n",
       "      <td>0.30</td>\n",
       "      <td>0.56</td>\n",
       "      <td>2.8</td>\n",
       "      <td>0.080</td>\n",
       "      <td>6.0</td>\n",
       "      <td>17.0</td>\n",
       "      <td>0.9964</td>\n",
       "      <td>3.15</td>\n",
       "      <td>0.92</td>\n",
       "      <td>11.7</td>\n",
       "      <td>good</td>\n",
       "    </tr>\n",
       "    <tr>\n",
       "      <th>2</th>\n",
       "      <td>10.6</td>\n",
       "      <td>0.36</td>\n",
       "      <td>0.59</td>\n",
       "      <td>2.2</td>\n",
       "      <td>0.152</td>\n",
       "      <td>6.0</td>\n",
       "      <td>18.0</td>\n",
       "      <td>0.9986</td>\n",
       "      <td>3.04</td>\n",
       "      <td>1.05</td>\n",
       "      <td>9.4</td>\n",
       "      <td>bad</td>\n",
       "    </tr>\n",
       "    <tr>\n",
       "      <th>3</th>\n",
       "      <td>10.6</td>\n",
       "      <td>0.36</td>\n",
       "      <td>0.60</td>\n",
       "      <td>2.2</td>\n",
       "      <td>0.152</td>\n",
       "      <td>7.0</td>\n",
       "      <td>18.0</td>\n",
       "      <td>0.9986</td>\n",
       "      <td>3.04</td>\n",
       "      <td>1.06</td>\n",
       "      <td>9.4</td>\n",
       "      <td>bad</td>\n",
       "    </tr>\n",
       "    <tr>\n",
       "      <th>4</th>\n",
       "      <td>10.6</td>\n",
       "      <td>0.44</td>\n",
       "      <td>0.68</td>\n",
       "      <td>4.1</td>\n",
       "      <td>0.114</td>\n",
       "      <td>6.0</td>\n",
       "      <td>24.0</td>\n",
       "      <td>0.9970</td>\n",
       "      <td>3.06</td>\n",
       "      <td>0.66</td>\n",
       "      <td>13.4</td>\n",
       "      <td>bad</td>\n",
       "    </tr>\n",
       "  </tbody>\n",
       "</table>\n",
       "</div>"
      ],
      "text/plain": [
       "   \"fixed acidity  \"\"volatile acidity\"\"  \"\"citric acid\"\"  \"\"residual sugar\"\"  \\\n",
       "0            10.6                  0.28             0.39                15.5   \n",
       "1             9.4                  0.30             0.56                 2.8   \n",
       "2            10.6                  0.36             0.59                 2.2   \n",
       "3            10.6                  0.36             0.60                 2.2   \n",
       "4            10.6                  0.44             0.68                 4.1   \n",
       "\n",
       "   \"\"chlorides\"\"  \"\"free sulfur dioxide\"\"  \"\"total sulfur dioxide\"\"  \\\n",
       "0          0.069                      6.0                      23.0   \n",
       "1          0.080                      6.0                      17.0   \n",
       "2          0.152                      6.0                      18.0   \n",
       "3          0.152                      7.0                      18.0   \n",
       "4          0.114                      6.0                      24.0   \n",
       "\n",
       "   \"\"density\"\"  \"\"pH\"\"  \"\"sulphates\"\"  \"\"alcohol\"\" \"\"quality\"\"\"  \n",
       "0       1.0026    3.12           0.66          9.2          bad  \n",
       "1       0.9964    3.15           0.92         11.7         good  \n",
       "2       0.9986    3.04           1.05          9.4          bad  \n",
       "3       0.9986    3.04           1.06          9.4          bad  \n",
       "4       0.9970    3.06           0.66         13.4          bad  "
      ]
     },
     "execution_count": 18,
     "metadata": {},
     "output_type": "execute_result"
    }
   ],
   "source": [
    "train_data.head(5)"
   ]
  },
  {
   "cell_type": "code",
   "execution_count": 19,
   "metadata": {},
   "outputs": [
    {
     "data": {
      "text/html": [
       "<div>\n",
       "<style scoped>\n",
       "    .dataframe tbody tr th:only-of-type {\n",
       "        vertical-align: middle;\n",
       "    }\n",
       "\n",
       "    .dataframe tbody tr th {\n",
       "        vertical-align: top;\n",
       "    }\n",
       "\n",
       "    .dataframe thead th {\n",
       "        text-align: right;\n",
       "    }\n",
       "</style>\n",
       "<table border=\"1\" class=\"dataframe\">\n",
       "  <thead>\n",
       "    <tr style=\"text-align: right;\">\n",
       "      <th></th>\n",
       "      <th>\"fixed acidity</th>\n",
       "      <th>\"\"volatile acidity\"\"</th>\n",
       "      <th>\"\"citric acid\"\"</th>\n",
       "      <th>\"\"residual sugar\"\"</th>\n",
       "      <th>\"\"chlorides\"\"</th>\n",
       "      <th>\"\"free sulfur dioxide\"\"</th>\n",
       "      <th>\"\"total sulfur dioxide\"\"</th>\n",
       "      <th>\"\"density\"\"</th>\n",
       "      <th>\"\"pH\"\"</th>\n",
       "      <th>\"\"sulphates\"\"</th>\n",
       "      <th>\"\"alcohol\"\"</th>\n",
       "      <th>\"\"quality\"\"\"</th>\n",
       "    </tr>\n",
       "  </thead>\n",
       "  <tbody>\n",
       "    <tr>\n",
       "      <th>1113</th>\n",
       "      <td>6.8</td>\n",
       "      <td>0.620</td>\n",
       "      <td>0.08</td>\n",
       "      <td>1.9</td>\n",
       "      <td>0.068</td>\n",
       "      <td>28.0</td>\n",
       "      <td>38.0</td>\n",
       "      <td>0.99651</td>\n",
       "      <td>3.42</td>\n",
       "      <td>0.82</td>\n",
       "      <td>9.5</td>\n",
       "      <td>bad</td>\n",
       "    </tr>\n",
       "    <tr>\n",
       "      <th>1114</th>\n",
       "      <td>6.2</td>\n",
       "      <td>0.600</td>\n",
       "      <td>0.08</td>\n",
       "      <td>2.0</td>\n",
       "      <td>0.090</td>\n",
       "      <td>32.0</td>\n",
       "      <td>44.0</td>\n",
       "      <td>0.99490</td>\n",
       "      <td>3.45</td>\n",
       "      <td>0.58</td>\n",
       "      <td>10.5</td>\n",
       "      <td>bad</td>\n",
       "    </tr>\n",
       "    <tr>\n",
       "      <th>1115</th>\n",
       "      <td>5.9</td>\n",
       "      <td>0.550</td>\n",
       "      <td>0.10</td>\n",
       "      <td>2.2</td>\n",
       "      <td>0.062</td>\n",
       "      <td>39.0</td>\n",
       "      <td>51.0</td>\n",
       "      <td>0.99512</td>\n",
       "      <td>3.52</td>\n",
       "      <td>0.76</td>\n",
       "      <td>11.2</td>\n",
       "      <td>bad</td>\n",
       "    </tr>\n",
       "    <tr>\n",
       "      <th>1116</th>\n",
       "      <td>6.3</td>\n",
       "      <td>0.510</td>\n",
       "      <td>0.13</td>\n",
       "      <td>2.3</td>\n",
       "      <td>0.076</td>\n",
       "      <td>29.0</td>\n",
       "      <td>40.0</td>\n",
       "      <td>0.99574</td>\n",
       "      <td>3.42</td>\n",
       "      <td>0.75</td>\n",
       "      <td>11.0</td>\n",
       "      <td>bad</td>\n",
       "    </tr>\n",
       "    <tr>\n",
       "      <th>1117</th>\n",
       "      <td>5.9</td>\n",
       "      <td>0.645</td>\n",
       "      <td>0.12</td>\n",
       "      <td>2.0</td>\n",
       "      <td>0.075</td>\n",
       "      <td>32.0</td>\n",
       "      <td>44.0</td>\n",
       "      <td>0.99547</td>\n",
       "      <td>3.57</td>\n",
       "      <td>0.71</td>\n",
       "      <td>10.2</td>\n",
       "      <td>bad</td>\n",
       "    </tr>\n",
       "  </tbody>\n",
       "</table>\n",
       "</div>"
      ],
      "text/plain": [
       "      \"fixed acidity  \"\"volatile acidity\"\"  \"\"citric acid\"\"  \\\n",
       "1113             6.8                 0.620             0.08   \n",
       "1114             6.2                 0.600             0.08   \n",
       "1115             5.9                 0.550             0.10   \n",
       "1116             6.3                 0.510             0.13   \n",
       "1117             5.9                 0.645             0.12   \n",
       "\n",
       "      \"\"residual sugar\"\"  \"\"chlorides\"\"  \"\"free sulfur dioxide\"\"  \\\n",
       "1113                 1.9          0.068                     28.0   \n",
       "1114                 2.0          0.090                     32.0   \n",
       "1115                 2.2          0.062                     39.0   \n",
       "1116                 2.3          0.076                     29.0   \n",
       "1117                 2.0          0.075                     32.0   \n",
       "\n",
       "      \"\"total sulfur dioxide\"\"  \"\"density\"\"  \"\"pH\"\"  \"\"sulphates\"\"  \\\n",
       "1113                      38.0      0.99651    3.42           0.82   \n",
       "1114                      44.0      0.99490    3.45           0.58   \n",
       "1115                      51.0      0.99512    3.52           0.76   \n",
       "1116                      40.0      0.99574    3.42           0.75   \n",
       "1117                      44.0      0.99547    3.57           0.71   \n",
       "\n",
       "      \"\"alcohol\"\" \"\"quality\"\"\"  \n",
       "1113          9.5          bad  \n",
       "1114         10.5          bad  \n",
       "1115         11.2          bad  \n",
       "1116         11.0          bad  \n",
       "1117         10.2          bad  "
      ]
     },
     "execution_count": 19,
     "metadata": {},
     "output_type": "execute_result"
    }
   ],
   "source": [
    "train_data.tail()"
   ]
  },
  {
   "cell_type": "code",
   "execution_count": 21,
   "metadata": {},
   "outputs": [
    {
     "data": {
      "text/plain": [
       "bad     955\n",
       "good    163\n",
       "Name: \"\"quality\"\"\", dtype: int64"
      ]
     },
     "execution_count": 21,
     "metadata": {},
     "output_type": "execute_result"
    }
   ],
   "source": [
    "train_data['\"\"quality\"\"\"'].value_counts()"
   ]
  },
  {
   "cell_type": "code",
   "execution_count": 20,
   "metadata": {},
   "outputs": [
    {
     "data": {
      "text/plain": [
       "<matplotlib.axes._subplots.AxesSubplot at 0x1f43248a208>"
      ]
     },
     "execution_count": 20,
     "metadata": {},
     "output_type": "execute_result"
    },
    {
     "data": {
      "image/png": "[encoded data removed]",
      "text/plain": [
       "<Figure size 864x576 with 1 Axes>"
      ]
     },
     "metadata": {
      "needs_background": "light"
     },
     "output_type": "display_data"
    }
   ],
   "source": [
    "sns.countplot(train_data['\"\"quality\"\"\"'])"
   ]
  },
  {
   "cell_type": "code",
   "execution_count": 22,
   "metadata": {},
   "outputs": [
    {
     "data": {
      "text/plain": [
       "<matplotlib.axes._subplots.AxesSubplot at 0x1f432d24688>"
      ]
     },
     "execution_count": 22,
     "metadata": {},
     "output_type": "execute_result"
    },
    {
     "data": {
      "image/png": "[encoded data removed]",
      "text/plain": [
       "<Figure size 864x576 with 1 Axes>"
      ]
     },
     "metadata": {
      "needs_background": "light"
     },
     "output_type": "display_data"
    }
   ],
   "source": [
    "sns.countplot(test_data['\"\"quality\"\"\"'])"
   ]
  },
  {
   "cell_type": "code",
   "execution_count": 23,
   "metadata": {},
   "outputs": [],
   "source": [
    "from sklearn.preprocessing import StandardScaler, LabelEncoder\n",
    "label_quality = LabelEncoder()"
   ]
  },
  {
   "cell_type": "code",
   "execution_count": 24,
   "metadata": {},
   "outputs": [],
   "source": [
    "train_data['\"\"quality\"\"\"'] = label_quality.fit_transform(train_data['\"\"quality\"\"\"'])\n",
    "test_data['\"\"quality\"\"\"'] = label_quality.fit_transform(test_data['\"\"quality\"\"\"'])"
   ]
  },
  {
   "cell_type": "code",
   "execution_count": 25,
   "metadata": {},
   "outputs": [
    {
     "data": {
      "text/html": [
       "<div>\n",
       "<style scoped>\n",
       "    .dataframe tbody tr th:only-of-type {\n",
       "        vertical-align: middle;\n",
       "    }\n",
       "\n",
       "    .dataframe tbody tr th {\n",
       "        vertical-align: top;\n",
       "    }\n",
       "\n",
       "    .dataframe thead th {\n",
       "        text-align: right;\n",
       "    }\n",
       "</style>\n",
       "<table border=\"1\" class=\"dataframe\">\n",
       "  <thead>\n",
       "    <tr style=\"text-align: right;\">\n",
       "      <th></th>\n",
       "      <th>\"fixed acidity</th>\n",
       "      <th>\"\"volatile acidity\"\"</th>\n",
       "      <th>\"\"citric acid\"\"</th>\n",
       "      <th>\"\"residual sugar\"\"</th>\n",
       "      <th>\"\"chlorides\"\"</th>\n",
       "      <th>\"\"free sulfur dioxide\"\"</th>\n",
       "      <th>\"\"total sulfur dioxide\"\"</th>\n",
       "      <th>\"\"density\"\"</th>\n",
       "      <th>\"\"pH\"\"</th>\n",
       "      <th>\"\"sulphates\"\"</th>\n",
       "      <th>\"\"alcohol\"\"</th>\n",
       "      <th>\"\"quality\"\"\"</th>\n",
       "    </tr>\n",
       "  </thead>\n",
       "  <tbody>\n",
       "    <tr>\n",
       "      <th>0</th>\n",
       "      <td>10.6</td>\n",
       "      <td>0.28</td>\n",
       "      <td>0.39</td>\n",
       "      <td>15.5</td>\n",
       "      <td>0.069</td>\n",
       "      <td>6.0</td>\n",
       "      <td>23.0</td>\n",
       "      <td>1.0026</td>\n",
       "      <td>3.12</td>\n",
       "      <td>0.66</td>\n",
       "      <td>9.2</td>\n",
       "      <td>0</td>\n",
       "    </tr>\n",
       "    <tr>\n",
       "      <th>1</th>\n",
       "      <td>9.4</td>\n",
       "      <td>0.30</td>\n",
       "      <td>0.56</td>\n",
       "      <td>2.8</td>\n",
       "      <td>0.080</td>\n",
       "      <td>6.0</td>\n",
       "      <td>17.0</td>\n",
       "      <td>0.9964</td>\n",
       "      <td>3.15</td>\n",
       "      <td>0.92</td>\n",
       "      <td>11.7</td>\n",
       "      <td>1</td>\n",
       "    </tr>\n",
       "    <tr>\n",
       "      <th>2</th>\n",
       "      <td>10.6</td>\n",
       "      <td>0.36</td>\n",
       "      <td>0.59</td>\n",
       "      <td>2.2</td>\n",
       "      <td>0.152</td>\n",
       "      <td>6.0</td>\n",
       "      <td>18.0</td>\n",
       "      <td>0.9986</td>\n",
       "      <td>3.04</td>\n",
       "      <td>1.05</td>\n",
       "      <td>9.4</td>\n",
       "      <td>0</td>\n",
       "    </tr>\n",
       "    <tr>\n",
       "      <th>3</th>\n",
       "      <td>10.6</td>\n",
       "      <td>0.36</td>\n",
       "      <td>0.60</td>\n",
       "      <td>2.2</td>\n",
       "      <td>0.152</td>\n",
       "      <td>7.0</td>\n",
       "      <td>18.0</td>\n",
       "      <td>0.9986</td>\n",
       "      <td>3.04</td>\n",
       "      <td>1.06</td>\n",
       "      <td>9.4</td>\n",
       "      <td>0</td>\n",
       "    </tr>\n",
       "    <tr>\n",
       "      <th>4</th>\n",
       "      <td>10.6</td>\n",
       "      <td>0.44</td>\n",
       "      <td>0.68</td>\n",
       "      <td>4.1</td>\n",
       "      <td>0.114</td>\n",
       "      <td>6.0</td>\n",
       "      <td>24.0</td>\n",
       "      <td>0.9970</td>\n",
       "      <td>3.06</td>\n",
       "      <td>0.66</td>\n",
       "      <td>13.4</td>\n",
       "      <td>0</td>\n",
       "    </tr>\n",
       "  </tbody>\n",
       "</table>\n",
       "</div>"
      ],
      "text/plain": [
       "   \"fixed acidity  \"\"volatile acidity\"\"  \"\"citric acid\"\"  \"\"residual sugar\"\"  \\\n",
       "0            10.6                  0.28             0.39                15.5   \n",
       "1             9.4                  0.30             0.56                 2.8   \n",
       "2            10.6                  0.36             0.59                 2.2   \n",
       "3            10.6                  0.36             0.60                 2.2   \n",
       "4            10.6                  0.44             0.68                 4.1   \n",
       "\n",
       "   \"\"chlorides\"\"  \"\"free sulfur dioxide\"\"  \"\"total sulfur dioxide\"\"  \\\n",
       "0          0.069                      6.0                      23.0   \n",
       "1          0.080                      6.0                      17.0   \n",
       "2          0.152                      6.0                      18.0   \n",
       "3          0.152                      7.0                      18.0   \n",
       "4          0.114                      6.0                      24.0   \n",
       "\n",
       "   \"\"density\"\"  \"\"pH\"\"  \"\"sulphates\"\"  \"\"alcohol\"\"  \"\"quality\"\"\"  \n",
       "0       1.0026    3.12           0.66          9.2             0  \n",
       "1       0.9964    3.15           0.92         11.7             1  \n",
       "2       0.9986    3.04           1.05          9.4             0  \n",
       "3       0.9986    3.04           1.06          9.4             0  \n",
       "4       0.9970    3.06           0.66         13.4             0  "
      ]
     },
     "execution_count": 25,
     "metadata": {},
     "output_type": "execute_result"
    }
   ],
   "source": [
    "train_data.head()"
   ]
  },
  {
   "cell_type": "code",
   "execution_count": 26,
   "metadata": {},
   "outputs": [
    {
     "data": {
      "text/html": [
       "<div>\n",
       "<style scoped>\n",
       "    .dataframe tbody tr th:only-of-type {\n",
       "        vertical-align: middle;\n",
       "    }\n",
       "\n",
       "    .dataframe tbody tr th {\n",
       "        vertical-align: top;\n",
       "    }\n",
       "\n",
       "    .dataframe thead th {\n",
       "        text-align: right;\n",
       "    }\n",
       "</style>\n",
       "<table border=\"1\" class=\"dataframe\">\n",
       "  <thead>\n",
       "    <tr style=\"text-align: right;\">\n",
       "      <th></th>\n",
       "      <th>\"fixed acidity</th>\n",
       "      <th>\"\"volatile acidity\"\"</th>\n",
       "      <th>\"\"citric acid\"\"</th>\n",
       "      <th>\"\"residual sugar\"\"</th>\n",
       "      <th>\"\"chlorides\"\"</th>\n",
       "      <th>\"\"free sulfur dioxide\"\"</th>\n",
       "      <th>\"\"total sulfur dioxide\"\"</th>\n",
       "      <th>\"\"density\"\"</th>\n",
       "      <th>\"\"pH\"\"</th>\n",
       "      <th>\"\"sulphates\"\"</th>\n",
       "      <th>\"\"alcohol\"\"</th>\n",
       "      <th>\"\"quality\"\"\"</th>\n",
       "    </tr>\n",
       "  </thead>\n",
       "  <tbody>\n",
       "    <tr>\n",
       "      <th>0</th>\n",
       "      <td>7.4</td>\n",
       "      <td>0.70</td>\n",
       "      <td>0.00</td>\n",
       "      <td>1.9</td>\n",
       "      <td>0.076</td>\n",
       "      <td>11.0</td>\n",
       "      <td>34</td>\n",
       "      <td>0.9978</td>\n",
       "      <td>3.51</td>\n",
       "      <td>0.56</td>\n",
       "      <td>9.4</td>\n",
       "      <td>0</td>\n",
       "    </tr>\n",
       "    <tr>\n",
       "      <th>1</th>\n",
       "      <td>7.8</td>\n",
       "      <td>0.88</td>\n",
       "      <td>0.00</td>\n",
       "      <td>2.6</td>\n",
       "      <td>0.098</td>\n",
       "      <td>25.0</td>\n",
       "      <td>67</td>\n",
       "      <td>0.9968</td>\n",
       "      <td>3.20</td>\n",
       "      <td>0.68</td>\n",
       "      <td>9.8</td>\n",
       "      <td>0</td>\n",
       "    </tr>\n",
       "    <tr>\n",
       "      <th>2</th>\n",
       "      <td>7.8</td>\n",
       "      <td>0.76</td>\n",
       "      <td>0.04</td>\n",
       "      <td>2.3</td>\n",
       "      <td>0.092</td>\n",
       "      <td>15.0</td>\n",
       "      <td>54</td>\n",
       "      <td>0.9970</td>\n",
       "      <td>3.26</td>\n",
       "      <td>0.65</td>\n",
       "      <td>9.8</td>\n",
       "      <td>0</td>\n",
       "    </tr>\n",
       "    <tr>\n",
       "      <th>3</th>\n",
       "      <td>11.2</td>\n",
       "      <td>0.28</td>\n",
       "      <td>0.56</td>\n",
       "      <td>1.9</td>\n",
       "      <td>0.075</td>\n",
       "      <td>17.0</td>\n",
       "      <td>60</td>\n",
       "      <td>0.9980</td>\n",
       "      <td>3.16</td>\n",
       "      <td>0.58</td>\n",
       "      <td>9.8</td>\n",
       "      <td>0</td>\n",
       "    </tr>\n",
       "    <tr>\n",
       "      <th>4</th>\n",
       "      <td>7.4</td>\n",
       "      <td>0.70</td>\n",
       "      <td>0.00</td>\n",
       "      <td>1.9</td>\n",
       "      <td>0.076</td>\n",
       "      <td>11.0</td>\n",
       "      <td>34</td>\n",
       "      <td>0.9978</td>\n",
       "      <td>3.51</td>\n",
       "      <td>0.56</td>\n",
       "      <td>9.4</td>\n",
       "      <td>0</td>\n",
       "    </tr>\n",
       "  </tbody>\n",
       "</table>\n",
       "</div>"
      ],
      "text/plain": [
       "   \"fixed acidity  \"\"volatile acidity\"\"  \"\"citric acid\"\"  \"\"residual sugar\"\"  \\\n",
       "0             7.4                  0.70             0.00                 1.9   \n",
       "1             7.8                  0.88             0.00                 2.6   \n",
       "2             7.8                  0.76             0.04                 2.3   \n",
       "3            11.2                  0.28             0.56                 1.9   \n",
       "4             7.4                  0.70             0.00                 1.9   \n",
       "\n",
       "   \"\"chlorides\"\"  \"\"free sulfur dioxide\"\"  \"\"total sulfur dioxide\"\"  \\\n",
       "0          0.076                     11.0                        34   \n",
       "1          0.098                     25.0                        67   \n",
       "2          0.092                     15.0                        54   \n",
       "3          0.075                     17.0                        60   \n",
       "4          0.076                     11.0                        34   \n",
       "\n",
       "   \"\"density\"\"  \"\"pH\"\"  \"\"sulphates\"\"  \"\"alcohol\"\"  \"\"quality\"\"\"  \n",
       "0       0.9978    3.51           0.56          9.4             0  \n",
       "1       0.9968    3.20           0.68          9.8             0  \n",
       "2       0.9970    3.26           0.65          9.8             0  \n",
       "3       0.9980    3.16           0.58          9.8             0  \n",
       "4       0.9978    3.51           0.56          9.4             0  "
      ]
     },
     "execution_count": 26,
     "metadata": {},
     "output_type": "execute_result"
    }
   ],
   "source": [
    "test_data.head()"
   ]
  },
  {
   "cell_type": "code",
   "execution_count": 27,
   "metadata": {},
   "outputs": [],
   "source": [
    "X_train = train_data.drop('\"\"quality\"\"\"', axis = 1)\n",
    "Y_train = train_data['\"\"quality\"\"\"']\n",
    "x_test =  test_data.drop('\"\"quality\"\"\"', axis = 1)\n",
    "y_test =  test_data['\"\"quality\"\"\"']"
   ]
  },
  {
   "cell_type": "markdown",
   "metadata": {},
   "source": [
    "# a) Logistic Regression"
   ]
  },
  {
   "cell_type": "code",
   "execution_count": 28,
   "metadata": {},
   "outputs": [],
   "source": [
    "from sklearn.linear_model import LogisticRegression as LogReg\n",
    "logreg = LogReg()"
   ]
  },
  {
   "cell_type": "code",
   "execution_count": 52,
   "metadata": {},
   "outputs": [
    {
     "name": "stderr",
     "output_type": "stream",
     "text": [
      "C:\\Users\\jayde\\anaconda3\\lib\\site-packages\\sklearn\\linear_model\\_logistic.py:940: ConvergenceWarning: lbfgs failed to converge (status=1):\n",
      "STOP: TOTAL NO. of ITERATIONS REACHED LIMIT.\n",
      "\n",
      "Increase the number of iterations (max_iter) or scale the data as shown in:\n",
      "    https://scikit-learn.org/stable/modules/preprocessing.html\n",
      "Please also refer to the documentation for alternative solver options:\n",
      "    https://scikit-learn.org/stable/modules/linear_model.html#logistic-regression\n",
      "  extra_warning_msg=_LOGISTIC_SOLVER_CONVERGENCE_MSG)\n"
     ]
    }
   ],
   "source": [
    "logreg.fit(X_train, Y_train)\n",
    "logistic_predict = logreg.predict(x_test)"
   ]
  },
  {
   "cell_type": "code",
   "execution_count": 42,
   "metadata": {},
   "outputs": [
    {
     "data": {
      "text/plain": [
       "0.8837209302325582"
      ]
     },
     "execution_count": 42,
     "metadata": {},
     "output_type": "execute_result"
    }
   ],
   "source": [
    "logreg.score(X_train, Y_train)"
   ]
  },
  {
   "cell_type": "markdown",
   "metadata": {},
   "source": [
    "# b) Linear Regression as a Classifier"
   ]
  },
  {
   "cell_type": "code",
   "execution_count": 32,
   "metadata": {},
   "outputs": [],
   "source": [
    "from sklearn.linear_model import LinearRegression as LR\n",
    "lr = LR()"
   ]
  },
  {
   "cell_type": "code",
   "execution_count": 33,
   "metadata": {},
   "outputs": [
    {
     "data": {
      "text/plain": [
       "LinearRegression(copy_X=True, fit_intercept=True, n_jobs=None, normalize=False)"
      ]
     },
     "execution_count": 33,
     "metadata": {},
     "output_type": "execute_result"
    }
   ],
   "source": [
    "lr.fit(X_train, Y_train)"
   ]
  },
  {
   "cell_type": "code",
   "execution_count": 50,
   "metadata": {},
   "outputs": [],
   "source": [
    "linear_predict = lr.predict(x_test)"
   ]
  },
  {
   "cell_type": "code",
   "execution_count": 43,
   "metadata": {},
   "outputs": [
    {
     "data": {
      "text/plain": [
       "0.2656896240184289"
      ]
     },
     "execution_count": 43,
     "metadata": {},
     "output_type": "execute_result"
    }
   ],
   "source": [
    "lr.score(X_train, Y_train)"
   ]
  },
  {
   "cell_type": "markdown",
   "metadata": {},
   "source": [
    "# c) SVM"
   ]
  },
  {
   "cell_type": "code",
   "execution_count": 35,
   "metadata": {},
   "outputs": [],
   "source": [
    "from sklearn import svm\n",
    "svc = svm.SVC()"
   ]
  },
  {
   "cell_type": "code",
   "execution_count": 49,
   "metadata": {},
   "outputs": [],
   "source": [
    "svc.fit(X_train, Y_train)\n",
    "pred_svc = svc.predict(x_test)"
   ]
  },
  {
   "cell_type": "code",
   "execution_count": 44,
   "metadata": {},
   "outputs": [
    {
     "data": {
      "text/plain": [
       "0.8559928443649374"
      ]
     },
     "execution_count": 44,
     "metadata": {},
     "output_type": "execute_result"
    }
   ],
   "source": [
    "svc.score(X_train, Y_train)"
   ]
  },
  {
   "cell_type": "markdown",
   "metadata": {},
   "source": [
    "# d) Naive Bayesian"
   ]
  },
  {
   "cell_type": "code",
   "execution_count": 45,
   "metadata": {},
   "outputs": [],
   "source": [
    "from sklearn.naive_bayes import GaussianNB\n",
    "NaiveBays_model = GaussianNB()"
   ]
  },
  {
   "cell_type": "code",
   "execution_count": 46,
   "metadata": {},
   "outputs": [],
   "source": [
    "NaiveBays_model.fit(X_train,Y_train)\n",
    "pred_naive_bayes = NaiveBays_model.predict(x_test)"
   ]
  },
  {
   "cell_type": "code",
   "execution_count": 48,
   "metadata": {},
   "outputs": [
    {
     "data": {
      "text/plain": [
       "0.8506261180679785"
      ]
     },
     "execution_count": 48,
     "metadata": {},
     "output_type": "execute_result"
    }
   ],
   "source": [
    "NaiveBays_model.score(X_train,Y_train)"
   ]
  },
  {
   "cell_type": "code",
   "execution_count": null,
   "metadata": {},
   "outputs": [],
   "source": []
  }
 ],
 "metadata": {
  "kernelspec": {
   "display_name": "Python 3",
   "language": "python",
   "name": "python3"
  },
  "language_info": {
   "codemirror_mode": {
    "name": "ipython",
    "version": 3
   },
   "file_extension": ".py",
   "mimetype": "text/x-python",
   "name": "python",
   "nbconvert_exporter": "python",
   "pygments_lexer": "ipython3",
   "version": "3.7.6"
  }
 },
 "nbformat": 4,
 "nbformat_minor": 4
}
