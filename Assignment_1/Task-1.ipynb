{
 "cells": [
  {
   "cell_type": "markdown",
   "metadata": {},
   "source": [
    "# Importing required Libraries"
   ]
  },
  {
   "cell_type": "code",
   "execution_count": 98,
   "metadata": {},
   "outputs": [],
   "source": [
    "import pandas as pd\n",
    "import numpy as np\n",
    "import matplotlib.pyplot as plt\n",
    "plt.style.use('ggplot')\n",
    "%matplotlib inline\n",
    "import seaborn as sns\n",
    "plt.rcParams['figure.figsize']=(12,8)\n",
    "from sklearn import linear_model\n",
    "import statsmodels.api as sm\n",
    "regr = linear_model.LinearRegression()"
   ]
  },
  {
   "cell_type": "markdown",
   "metadata": {},
   "source": [
    "# Reading the Data"
   ]
  },
  {
   "cell_type": "code",
   "execution_count": 99,
   "metadata": {},
   "outputs": [],
   "source": [
    "test_data = pd.read_csv(\"wineQualityRed_test.csv\", sep=\";|,\", engine=\"python\", skipfooter=1) \n",
    "train_data = pd.read_csv(\"wineQualityRed_train.csv\", sep=\";|,\", engine=\"python\", skipfooter=1) "
   ]
  },
  {
   "cell_type": "code",
   "execution_count": 100,
   "metadata": {},
   "outputs": [
    {
     "data": {
      "text/plain": [
       "(479, 12)"
      ]
     },
     "execution_count": 100,
     "metadata": {},
     "output_type": "execute_result"
    }
   ],
   "source": [
    "test_data.shape"
   ]
  },
  {
   "cell_type": "code",
   "execution_count": 46,
   "metadata": {},
   "outputs": [
    {
     "data": {
      "text/plain": [
       "(1118, 12)"
      ]
     },
     "execution_count": 46,
     "metadata": {},
     "output_type": "execute_result"
    }
   ],
   "source": [
    "train_data.shape"
   ]
  },
  {
   "cell_type": "markdown",
   "metadata": {},
   "source": [
    "# Model Fitting on all attributes"
   ]
  },
  {
   "cell_type": "code",
   "execution_count": 47,
   "metadata": {},
   "outputs": [],
   "source": [
    "X_train = train_data[['\"fixed acidity', '\"\"volatile acidity\"\"', '\"\"citric acid\"\"', '\"\"residual sugar\"\"', '\"\"chlorides\"\"', '\"\"free sulfur dioxide\"\"', '\"\"total sulfur dioxide\"\"', '\"\"density\"\"', '\"\"pH\"\"', '\"\"sulphates\"\"', '\"\"alcohol\"\"']]\n",
    "Y_train = train_data['\"\"quality\"\"\"']\n",
    "X_test = test_data[['\"fixed acidity', '\"\"volatile acidity\"\"', '\"\"citric acid\"\"', '\"\"residual sugar\"\"', '\"\"chlorides\"\"', '\"\"free sulfur dioxide\"\"', '\"\"total sulfur dioxide\"\"', '\"\"density\"\"', '\"\"pH\"\"', '\"\"sulphates\"\"', '\"\"alcohol\"\"']]\n",
    "Y_test = test_data['\"\"quality\"\"\"']"
   ]
  },
  {
   "cell_type": "code",
   "execution_count": 48,
   "metadata": {},
   "outputs": [],
   "source": [
    "Model= regr.fit(X_train,Y_train)"
   ]
  },
  {
   "cell_type": "code",
   "execution_count": 49,
   "metadata": {},
   "outputs": [
    {
     "name": "stdout",
     "output_type": "stream",
     "text": [
      "Intercept: \n",
      " 31.646657790531332\n",
      "Coefficients: \n",
      " [-5.98685999e-03 -1.07149047e+00 -6.16635894e-02  1.02262313e-02\n",
      " -1.94206375e+00  3.51909544e-03 -2.15766610e-03 -2.67917412e+01\n",
      " -6.34967170e-01  1.24170827e+00  2.67809065e-01]\n"
     ]
    }
   ],
   "source": [
    "print('Intercept: \\n', regr.intercept_)\n",
    "print('Coefficients: \\n', regr.coef_)"
   ]
  },
  {
   "cell_type": "markdown",
   "metadata": {},
   "source": [
    "# Model Prediction"
   ]
  },
  {
   "cell_type": "code",
   "execution_count": 50,
   "metadata": {},
   "outputs": [
    {
     "data": {
      "text/plain": [
       "array([4.94072183, 5.1677163 , 5.21456421, 5.64926142, 4.94072183,\n",
       "       4.97859309, 5.05851966, 5.26208675, 5.26124076, 5.75347082,\n",
       "       5.09249195, 5.75347082, 5.11147359, 6.27458668, 5.28095673,\n",
       "       5.33875874, 5.94108458, 5.61830052, 4.9646268 , 5.68609638,\n",
       "       5.48647471, 5.3824345 , 5.85217733, 5.26810843, 5.51126041,\n",
       "       5.42324072, 5.5046006 , 5.85217733, 4.961491  , 5.27933905,\n",
       "       5.18260674, 5.33952697, 5.28960129, 5.07849447, 5.33753009,\n",
       "       5.11761867, 5.52516419, 5.79529259, 4.42831412, 5.86509139,\n",
       "       5.86509139, 5.06663054, 5.62944218, 6.19503941, 5.09223655,\n",
       "       5.96956951, 4.80002983, 5.50312591, 5.40464615, 5.37129504,\n",
       "       5.37739493, 5.39872155, 5.4376362 , 5.35748861, 5.64897935,\n",
       "       5.14907889, 5.70063994, 5.35184632, 5.28391492, 5.31196325,\n",
       "       5.30054259, 5.08279354, 5.31762899, 5.08561526, 5.24272961,\n",
       "       5.24272961, 5.26783819, 5.41647017, 6.09958926, 5.88404832,\n",
       "       5.19023848, 4.91392241, 4.91569552, 4.95471685, 5.73247104,\n",
       "       5.52763942, 5.52763942, 5.18469566, 5.04373415, 5.71773536,\n",
       "       5.29033382, 5.54448552, 5.10743483, 5.27269639, 5.93480954,\n",
       "       5.4472242 , 7.13107958, 5.43577457, 6.14205594, 4.90857362,\n",
       "       5.2063633 , 7.13107958, 7.14490981, 5.43577457, 4.81039771,\n",
       "       5.85271608, 5.25896348, 5.39104985, 4.96529612, 5.16817065,\n",
       "       5.3275089 , 5.59710968, 5.16817065, 5.04715245, 5.20460585,\n",
       "       5.04715245, 5.58578332, 5.242464  , 5.64911085, 4.90905507,\n",
       "       5.7235996 , 5.34015963, 5.36311503, 5.63522956, 5.7235996 ,\n",
       "       5.84662725, 5.37358518, 5.10500228, 5.65798388, 4.9075836 ,\n",
       "       4.29849619, 5.65798388, 4.87602485, 4.96514063, 5.06775722,\n",
       "       5.19392994, 4.60805679, 4.58896928, 5.91777158, 5.43483244,\n",
       "       4.94733689, 6.18232133, 6.18232133, 5.49601392, 4.93222858,\n",
       "       5.4219939 , 5.33350742, 5.28061017, 5.08894431, 5.09483655,\n",
       "       5.4219939 , 5.33350742, 6.95851272, 5.49104505, 6.95851272,\n",
       "       5.01432734, 5.03690302, 5.26668148, 5.52981905, 5.54679886,\n",
       "       5.70905952, 6.26656968, 5.25576329, 5.25576329, 5.67656007,\n",
       "       5.6608395 , 5.67656007, 5.6608395 , 4.94413103, 4.90860293,\n",
       "       4.96107256, 5.82736724, 5.45604422, 4.99023194, 4.99968299,\n",
       "       5.16187897, 5.1985389 , 5.05012476, 5.31799361, 5.98598389,\n",
       "       4.54843743, 5.41473166, 5.41473166, 5.74489044, 5.32313565,\n",
       "       5.58490048, 5.32313565, 5.39893529, 4.96513667, 5.31328695,\n",
       "       5.31328695, 5.30858645, 4.89908462, 4.9563215 , 4.95402137,\n",
       "       5.41085792, 5.23005047, 5.0042245 , 5.13404979, 5.15312336,\n",
       "       5.22911201, 5.44583953, 5.06479256, 5.350423  , 5.350423  ,\n",
       "       5.0679868 , 5.33920154, 6.28741378, 6.1647361 , 5.01787374,\n",
       "       6.12478763, 5.93992328, 5.60549058, 5.28949765, 5.28457868,\n",
       "       6.05718934, 6.05718934, 5.05549193, 5.40711478, 6.18863141,\n",
       "       6.51776336, 5.11495095, 5.74560822, 5.29656312, 5.32684687,\n",
       "       5.73348671, 5.64929498, 4.92386643, 5.31629158, 5.14916333,\n",
       "       5.46728673, 5.2921858 , 5.3036749 , 5.31388968, 5.34332084,\n",
       "       5.67909417, 6.13433051, 5.04670299, 5.67909417, 5.51981612,\n",
       "       6.04156937, 5.45721301, 5.56024686, 5.51981612, 4.6403945 ,\n",
       "       5.01280409, 5.01280409, 5.05165498, 5.01280409, 4.6403945 ,\n",
       "       5.50574446, 5.97859863, 5.25866383, 5.92940819, 5.92940819,\n",
       "       5.52950036, 5.02759893, 5.03396697, 5.25497978, 5.52950036,\n",
       "       5.93294987, 5.41934134, 5.70780543, 4.97156361, 5.41934134,\n",
       "       5.0915834 , 5.52059832, 5.03342371, 5.3101981 , 5.95473045,\n",
       "       5.5831021 , 4.76683151, 5.46804848, 5.58007416, 6.05580571,\n",
       "       6.03319873, 4.90739269, 6.70354259, 5.4192125 , 6.20248433,\n",
       "       5.71308457, 6.20248433, 5.82626257, 5.13767963, 5.24542842,\n",
       "       5.71308457, 5.4192125 , 6.20248433, 6.74180066, 5.82142711,\n",
       "       5.92522969, 5.81786419, 5.16231764, 5.82142711, 5.35562794,\n",
       "       5.35562794, 5.86969312, 5.78992819, 5.90375525, 5.62204966,\n",
       "       5.90375525, 5.53624478, 5.52441708, 5.61085709, 5.75036934,\n",
       "       5.46883183, 5.02073996, 5.1444453 , 5.18532257, 5.07249654,\n",
       "       5.61918766, 5.96885162, 5.23161899, 4.88207506, 4.87313764,\n",
       "       5.31364494, 5.01742397, 5.23440781, 5.22301598, 5.463155  ,\n",
       "       5.31364494, 5.15053858, 5.26040265, 5.12311893, 5.93360134,\n",
       "       5.89788986, 5.37891238, 5.30199265, 5.73419291, 5.30199265,\n",
       "       5.73419291, 5.20685235, 5.24804236, 5.31216164, 5.44409016,\n",
       "       5.44409016, 6.09108474, 6.20004068, 5.70813927, 5.51393201,\n",
       "       6.27788062, 6.27788062, 5.11643736, 5.69525195, 5.99302218,\n",
       "       6.09070612, 6.44716463, 5.6989672 , 6.22903907, 6.63723485,\n",
       "       6.22094668, 6.33526645, 5.63159113, 5.63159113, 5.79841669,\n",
       "       5.40065434, 6.06170378, 6.53317442, 5.88959297, 5.25144753,\n",
       "       5.64044143, 5.20832019, 5.32357819, 6.25853947, 6.33302709,\n",
       "       5.92623892, 6.13931815, 6.1736043 , 5.92833484, 5.56328387,\n",
       "       5.17767638, 5.81738166, 5.40675927, 6.06519962, 5.4869994 ,\n",
       "       6.42168662, 5.4869994 , 5.26541292, 5.30594818, 7.02651563,\n",
       "       5.30107825, 5.80871888, 6.46182756, 5.33056013, 6.02802368,\n",
       "       6.27899126, 6.36388086, 7.02651563, 6.78667246, 5.84583245,\n",
       "       5.88846562, 5.80887178, 5.88846562, 5.88846562, 5.3267359 ,\n",
       "       5.35966351, 5.30887758, 5.13876692, 5.37008652, 5.73083432,\n",
       "       6.10289034, 5.80887178, 5.40758862, 4.87964626, 5.40742158,\n",
       "       6.36840664, 4.96438201, 5.68112268, 5.68112268, 5.14092885,\n",
       "       4.96438201, 5.92646131, 5.62558713, 5.53301888, 5.13706178,\n",
       "       5.93297908, 5.86333943, 5.81819619, 6.02935969, 5.5458197 ,\n",
       "       5.29815151, 5.2811878 , 5.02693473, 6.30735594, 5.18382622,\n",
       "       5.34568886, 5.98584144, 5.22055693, 5.7943369 , 5.14823032,\n",
       "       6.06688036, 5.71440715, 5.07289976, 6.49077686, 5.07289976,\n",
       "       5.71440715, 5.57320892, 5.26696292, 5.30450115, 5.23313457,\n",
       "       6.49077686, 5.17281239, 6.64984837, 5.28902823, 5.93246065,\n",
       "       5.28902823, 5.44404445, 5.98312249, 5.93246065, 5.36049674,\n",
       "       6.09298716, 6.13105282, 5.63758835, 6.10621021, 6.38431266,\n",
       "       5.21340124, 5.91969807, 5.96309663, 5.49812336, 5.84914429,\n",
       "       5.84914429, 5.43393763, 5.41621141, 6.0895313 , 6.02642178,\n",
       "       6.38088023, 5.33084973, 5.15350087, 6.0895313 , 4.96885085,\n",
       "       5.88984624, 5.19673914, 6.28956181, 4.88559371, 5.7344884 ,\n",
       "       5.78001747, 6.0974812 , 6.93192943, 5.4017315 , 5.26384701,\n",
       "       5.86176652, 6.01907024, 5.97303177, 6.10259405, 5.94487105,\n",
       "       5.37977958, 5.75280579, 6.66052998, 5.37977958])"
      ]
     },
     "execution_count": 50,
     "metadata": {},
     "output_type": "execute_result"
    }
   ],
   "source": [
    "Model_Prediction = Model.predict(X_test)\n",
    "Model_Prediction"
   ]
  },
  {
   "cell_type": "markdown",
   "metadata": {},
   "source": [
    "# Mean Square Error"
   ]
  },
  {
   "cell_type": "code",
   "execution_count": 51,
   "metadata": {},
   "outputs": [],
   "source": [
    "from sklearn.metrics import mean_squared_error"
   ]
  },
  {
   "cell_type": "code",
   "execution_count": 52,
   "metadata": {},
   "outputs": [
    {
     "data": {
      "text/plain": [
       "0.4466950680066232"
      ]
     },
     "execution_count": 52,
     "metadata": {},
     "output_type": "execute_result"
    }
   ],
   "source": [
    "mse = mean_squared_error(Y_test, Model_Prediction )\n",
    "mse"
   ]
  },
  {
   "cell_type": "code",
   "execution_count": 53,
   "metadata": {},
   "outputs": [
    {
     "data": {
      "text/plain": [
       "213.9669375751725"
      ]
     },
     "execution_count": 53,
     "metadata": {},
     "output_type": "execute_result"
    }
   ],
   "source": [
    "sse = np.sum((Model_Prediction - Y_test)**2)\n",
    "sse"
   ]
  },
  {
   "cell_type": "markdown",
   "metadata": {},
   "source": [
    "# Model Fitting on single Attribute (citric Acid)"
   ]
  },
  {
   "cell_type": "code",
   "execution_count": 113,
   "metadata": {},
   "outputs": [],
   "source": [
    "x_train = train_data['\"\"citric acid\"\"'].values.reshape(-1,1)\n",
    "y_train = train_data['\"\"quality\"\"\"'].values.reshape(-1,1)\n",
    "x_test = test_data['\"\"citric acid\"\"'].values.reshape(-1,1)\n",
    "y_test = test_data['\"\"quality\"\"\"'].values.reshape(-1,1)"
   ]
  },
  {
   "cell_type": "code",
   "execution_count": 114,
   "metadata": {},
   "outputs": [
    {
     "data": {
      "text/plain": [
       "<matplotlib.collections.PathCollection at 0x2add0072c48>"
      ]
     },
     "execution_count": 114,
     "metadata": {},
     "output_type": "execute_result"
    },
    {
     "data": {
      "image/png": "[encoded data removed]",
      "text/plain": [
       "<Figure size 864x576 with 1 Axes>"
      ]
     },
     "metadata": {
      "needs_background": "light"
     },
     "output_type": "display_data"
    }
   ],
   "source": [
    "plt.scatter(train_data['\"\"citric acid\"\"'],train_data['\"\"quality\"\"\"'], color = 'indigo')"
   ]
  },
  {
   "cell_type": "code",
   "execution_count": 122,
   "metadata": {},
   "outputs": [
    {
     "data": {
      "text/plain": [
       "LinearRegression(copy_X=True, fit_intercept=True, n_jobs=None, normalize=False)"
      ]
     },
     "execution_count": 122,
     "metadata": {},
     "output_type": "execute_result"
    }
   ],
   "source": [
    "Model = regr.fit(x_train, y_train)\n",
    "Model"
   ]
  },
  {
   "cell_type": "code",
   "execution_count": 123,
   "metadata": {},
   "outputs": [
    {
     "name": "stdout",
     "output_type": "stream",
     "text": [
      "Intercept: \n",
      " [5.38997871]\n",
      "Coefficients: \n",
      " [[1.0645759]]\n"
     ]
    }
   ],
   "source": [
    "print('Intercept: \\n', regr.intercept_)\n",
    "print('Coefficients: \\n', regr.coef_)"
   ]
  },
  {
   "cell_type": "code",
   "execution_count": 130,
   "metadata": {},
   "outputs": [
    {
     "data": {
      "text/plain": [
       "<matplotlib.axes._subplots.AxesSubplot at 0x2add1a8fd48>"
      ]
     },
     "execution_count": 130,
     "metadata": {},
     "output_type": "execute_result"
    },
    {
     "data": {
      "image/png": "[encoded data removed]",
      "text/plain": [
       "<Figure size 864x576 with 1 Axes>"
      ]
     },
     "metadata": {
      "needs_background": "light"
     },
     "output_type": "display_data"
    }
   ],
   "source": [
    "plt.scatter(x_train, y_train, color = 'indigo')\n",
    "x_value = train_data['\"\"citric acid\"\"']\n",
    "y_value = 5.3899*x_value +1.064\n",
    "sns.lineplot(x_value, y_value,color=\"blue\")"
   ]
  },
  {
   "cell_type": "code",
   "execution_count": 128,
   "metadata": {},
   "outputs": [
    {
     "data": {
      "text/plain": [
       "array([[5.38997871],\n",
       "       [5.38997871],\n",
       "       [5.43256175],\n",
       "       [5.98614122],\n",
       "       [5.38997871],\n",
       "       [5.38997871],\n",
       "       [5.45385327],\n",
       "       [5.38997871],\n",
       "       [5.41127023],\n",
       "       [5.77322604],\n",
       "       [5.47514478],\n",
       "       [5.77322604],\n",
       "       [5.38997871],\n",
       "       [5.69870572],\n",
       "       [5.58160237],\n",
       "       [5.59224813],\n",
       "       [5.98614122],\n",
       "       [5.68805996],\n",
       "       [5.47514478],\n",
       "       [5.93291242],\n",
       "       [5.90097514],\n",
       "       [5.71999724],\n",
       "       [5.61353965],\n",
       "       [5.50708206],\n",
       "       [5.53901934],\n",
       "       [5.56031086],\n",
       "       [5.64547693],\n",
       "       [5.61353965],\n",
       "       [5.38997871],\n",
       "       [5.38997871],\n",
       "       [5.46449902],\n",
       "       [5.38997871],\n",
       "       [5.51772782],\n",
       "       [5.51772782],\n",
       "       [5.65612269],\n",
       "       [5.38997871],\n",
       "       [5.53901934],\n",
       "       [5.68805996],\n",
       "       [5.48579054],\n",
       "       [5.77322604],\n",
       "       [5.77322604],\n",
       "       [5.70935148],\n",
       "       [5.60289389],\n",
       "       [5.62418541],\n",
       "       [5.41127023],\n",
       "       [5.5496651 ],\n",
       "       [5.84774635],\n",
       "       [5.94355818],\n",
       "       [5.63483117],\n",
       "       [5.78387179],\n",
       "       [5.66676845],\n",
       "       [5.43256175],\n",
       "       [5.43256175],\n",
       "       [5.77322604],\n",
       "       [5.5496651 ],\n",
       "       [5.43256175],\n",
       "       [5.99678697],\n",
       "       [5.51772782],\n",
       "       [5.58160237],\n",
       "       [5.71999724],\n",
       "       [5.81580907],\n",
       "       [5.9116209 ],\n",
       "       [5.56031086],\n",
       "       [5.44320751],\n",
       "       [5.44320751],\n",
       "       [5.44320751],\n",
       "       [5.50708206],\n",
       "       [5.46449902],\n",
       "       [5.99678697],\n",
       "       [5.44320751],\n",
       "       [5.47514478],\n",
       "       [5.63483117],\n",
       "       [5.62418541],\n",
       "       [5.66676845],\n",
       "       [5.9648497 ],\n",
       "       [6.07130729],\n",
       "       [6.07130729],\n",
       "       [5.38997871],\n",
       "       [5.51772782],\n",
       "       [5.60289389],\n",
       "       [5.60289389],\n",
       "       [6.13518184],\n",
       "       [5.89032938],\n",
       "       [5.66676845],\n",
       "       [5.90097514],\n",
       "       [5.5496651 ],\n",
       "       [5.68805996],\n",
       "       [5.66676845],\n",
       "       [5.85839211],\n",
       "       [5.47514478],\n",
       "       [5.66676845],\n",
       "       [5.68805996],\n",
       "       [5.69870572],\n",
       "       [5.66676845],\n",
       "       [5.43256175],\n",
       "       [5.57095661],\n",
       "       [5.38997871],\n",
       "       [5.65612269],\n",
       "       [5.45385327],\n",
       "       [5.58160237],\n",
       "       [5.70935148],\n",
       "       [5.70935148],\n",
       "       [5.58160237],\n",
       "       [5.62418541],\n",
       "       [5.64547693],\n",
       "       [5.62418541],\n",
       "       [6.11389032],\n",
       "       [5.71999724],\n",
       "       [5.95420394],\n",
       "       [5.94355818],\n",
       "       [5.59224813],\n",
       "       [5.48579054],\n",
       "       [5.4964363 ],\n",
       "       [5.85839211],\n",
       "       [5.59224813],\n",
       "       [5.71999724],\n",
       "       [5.68805996],\n",
       "       [5.51772782],\n",
       "       [5.43256175],\n",
       "       [5.47514478],\n",
       "       [5.48579054],\n",
       "       [5.43256175],\n",
       "       [5.38997871],\n",
       "       [5.38997871],\n",
       "       [5.57095661],\n",
       "       [5.43256175],\n",
       "       [5.38997871],\n",
       "       [5.38997871],\n",
       "       [5.56031086],\n",
       "       [5.5496651 ],\n",
       "       [5.98614122],\n",
       "       [5.48579054],\n",
       "       [5.48579054],\n",
       "       [5.40062447],\n",
       "       [5.44320751],\n",
       "       [5.50708206],\n",
       "       [5.5496651 ],\n",
       "       [5.77322604],\n",
       "       [5.59224813],\n",
       "       [5.59224813],\n",
       "       [5.50708206],\n",
       "       [5.5496651 ],\n",
       "       [5.38997871],\n",
       "       [5.47514478],\n",
       "       [5.38997871],\n",
       "       [5.97549546],\n",
       "       [5.41127023],\n",
       "       [5.66676845],\n",
       "       [5.4964363 ],\n",
       "       [5.85839211],\n",
       "       [5.89032938],\n",
       "       [6.45455461],\n",
       "       [5.42191599],\n",
       "       [5.42191599],\n",
       "       [5.83710059],\n",
       "       [5.83710059],\n",
       "       [5.83710059],\n",
       "       [5.83710059],\n",
       "       [5.38997871],\n",
       "       [5.58160237],\n",
       "       [5.42191599],\n",
       "       [5.41127023],\n",
       "       [5.43256175],\n",
       "       [5.66676845],\n",
       "       [5.66676845],\n",
       "       [5.90097514],\n",
       "       [5.4964363 ],\n",
       "       [5.42191599],\n",
       "       [5.46449902],\n",
       "       [5.64547693],\n",
       "       [5.42191599],\n",
       "       [5.57095661],\n",
       "       [5.57095661],\n",
       "       [5.44320751],\n",
       "       [5.61353965],\n",
       "       [5.43256175],\n",
       "       [5.61353965],\n",
       "       [5.83710059],\n",
       "       [5.38997871],\n",
       "       [5.53901934],\n",
       "       [5.53901934],\n",
       "       [5.9116209 ],\n",
       "       [5.41127023],\n",
       "       [5.60289389],\n",
       "       [5.61353965],\n",
       "       [5.99678697],\n",
       "       [5.90097514],\n",
       "       [5.4964363 ],\n",
       "       [5.74128876],\n",
       "       [5.730643  ],\n",
       "       [5.76258028],\n",
       "       [5.65612269],\n",
       "       [5.51772782],\n",
       "       [5.61353965],\n",
       "       [5.61353965],\n",
       "       [5.74128876],\n",
       "       [5.70935148],\n",
       "       [6.02872425],\n",
       "       [5.47514478],\n",
       "       [5.45385327],\n",
       "       [5.89032938],\n",
       "       [5.90097514],\n",
       "       [5.50708206],\n",
       "       [5.76258028],\n",
       "       [5.77322604],\n",
       "       [6.17776488],\n",
       "       [6.17776488],\n",
       "       [5.71999724],\n",
       "       [5.68805996],\n",
       "       [6.00743273],\n",
       "       [6.02872425],\n",
       "       [5.64547693],\n",
       "       [6.07130729],\n",
       "       [5.66676845],\n",
       "       [5.47514478],\n",
       "       [5.9116209 ],\n",
       "       [5.56031086],\n",
       "       [5.62418541],\n",
       "       [5.59224813],\n",
       "       [5.74128876],\n",
       "       [5.78387179],\n",
       "       [5.66676845],\n",
       "       [5.43256175],\n",
       "       [5.65612269],\n",
       "       [5.77322604],\n",
       "       [5.65612269],\n",
       "       [5.92226666],\n",
       "       [5.53901934],\n",
       "       [5.65612269],\n",
       "       [5.65612269],\n",
       "       [5.43256175],\n",
       "       [5.45385327],\n",
       "       [5.60289389],\n",
       "       [5.65612269],\n",
       "       [5.48579054],\n",
       "       [5.38997871],\n",
       "       [5.38997871],\n",
       "       [5.38997871],\n",
       "       [5.38997871],\n",
       "       [5.48579054],\n",
       "       [5.78387179],\n",
       "       [5.98614122],\n",
       "       [5.4964363 ],\n",
       "       [5.85839211],\n",
       "       [5.85839211],\n",
       "       [5.38997871],\n",
       "       [5.46449902],\n",
       "       [5.57095661],\n",
       "       [5.45385327],\n",
       "       [5.38997871],\n",
       "       [5.85839211],\n",
       "       [5.38997871],\n",
       "       [5.90097514],\n",
       "       [5.83710059],\n",
       "       [5.38997871],\n",
       "       [5.63483117],\n",
       "       [5.78387179],\n",
       "       [5.38997871],\n",
       "       [6.1990564 ],\n",
       "       [5.89032938],\n",
       "       [5.63483117],\n",
       "       [5.43256175],\n",
       "       [5.42191599],\n",
       "       [5.63483117],\n",
       "       [5.9116209 ],\n",
       "       [5.94355818],\n",
       "       [5.38997871],\n",
       "       [5.87968363],\n",
       "       [5.43256175],\n",
       "       [5.93291242],\n",
       "       [5.45385327],\n",
       "       [5.93291242],\n",
       "       [6.00743273],\n",
       "       [5.60289389],\n",
       "       [5.58160237],\n",
       "       [5.45385327],\n",
       "       [5.43256175],\n",
       "       [5.93291242],\n",
       "       [5.86903787],\n",
       "       [5.730643  ],\n",
       "       [5.85839211],\n",
       "       [6.11389032],\n",
       "       [5.51772782],\n",
       "       [5.730643  ],\n",
       "       [5.46449902],\n",
       "       [5.46449902],\n",
       "       [5.97549546],\n",
       "       [5.51772782],\n",
       "       [5.48579054],\n",
       "       [5.95420394],\n",
       "       [5.48579054],\n",
       "       [5.90097514],\n",
       "       [5.63483117],\n",
       "       [5.65612269],\n",
       "       [5.94355818],\n",
       "       [5.87968363],\n",
       "       [5.78387179],\n",
       "       [5.45385327],\n",
       "       [5.41127023],\n",
       "       [5.45385327],\n",
       "       [5.45385327],\n",
       "       [5.90097514],\n",
       "       [5.51772782],\n",
       "       [5.51772782],\n",
       "       [6.02872425],\n",
       "       [5.90097514],\n",
       "       [5.730643  ],\n",
       "       [5.83710059],\n",
       "       [5.85839211],\n",
       "       [5.79451755],\n",
       "       [5.90097514],\n",
       "       [5.64547693],\n",
       "       [5.71999724],\n",
       "       [5.70935148],\n",
       "       [5.69870572],\n",
       "       [5.69870572],\n",
       "       [5.63483117],\n",
       "       [5.51772782],\n",
       "       [5.80516331],\n",
       "       [5.51772782],\n",
       "       [5.80516331],\n",
       "       [5.66676845],\n",
       "       [5.44320751],\n",
       "       [5.83710059],\n",
       "       [5.60289389],\n",
       "       [5.60289389],\n",
       "       [6.09259881],\n",
       "       [5.92226666],\n",
       "       [6.05001577],\n",
       "       [5.80516331],\n",
       "       [6.07130729],\n",
       "       [6.07130729],\n",
       "       [5.68805996],\n",
       "       [5.47514478],\n",
       "       [5.40062447],\n",
       "       [5.95420394],\n",
       "       [5.86903787],\n",
       "       [5.730643  ],\n",
       "       [6.00743273],\n",
       "       [5.9648497 ],\n",
       "       [5.92226666],\n",
       "       [5.90097514],\n",
       "       [5.89032938],\n",
       "       [5.89032938],\n",
       "       [5.92226666],\n",
       "       [5.38997871],\n",
       "       [5.41127023],\n",
       "       [6.10324456],\n",
       "       [5.71999724],\n",
       "       [5.38997871],\n",
       "       [5.62418541],\n",
       "       [5.38997871],\n",
       "       [5.38997871],\n",
       "       [6.23099367],\n",
       "       [5.81580907],\n",
       "       [5.40062447],\n",
       "       [5.94355818],\n",
       "       [6.09259881],\n",
       "       [6.09259881],\n",
       "       [6.09259881],\n",
       "       [5.63483117],\n",
       "       [5.71999724],\n",
       "       [6.09259881],\n",
       "       [6.06066153],\n",
       "       [6.09259881],\n",
       "       [5.92226666],\n",
       "       [6.09259881],\n",
       "       [6.03937001],\n",
       "       [5.94355818],\n",
       "       [5.95420394],\n",
       "       [5.41127023],\n",
       "       [5.81580907],\n",
       "       [5.90097514],\n",
       "       [5.62418541],\n",
       "       [6.06066153],\n",
       "       [6.1458276 ],\n",
       "       [5.92226666],\n",
       "       [5.95420394],\n",
       "       [6.09259881],\n",
       "       [5.79451755],\n",
       "       [5.83710059],\n",
       "       [6.11389032],\n",
       "       [5.83710059],\n",
       "       [5.83710059],\n",
       "       [5.68805996],\n",
       "       [5.46449902],\n",
       "       [5.66676845],\n",
       "       [5.5496651 ],\n",
       "       [5.66676845],\n",
       "       [5.71999724],\n",
       "       [5.44320751],\n",
       "       [6.11389032],\n",
       "       [5.94355818],\n",
       "       [6.03937001],\n",
       "       [6.08195305],\n",
       "       [6.1990564 ],\n",
       "       [5.41127023],\n",
       "       [6.01807849],\n",
       "       [6.01807849],\n",
       "       [5.62418541],\n",
       "       [5.41127023],\n",
       "       [5.70935148],\n",
       "       [5.9648497 ],\n",
       "       [5.9116209 ],\n",
       "       [5.44320751],\n",
       "       [5.87968363],\n",
       "       [5.89032938],\n",
       "       [6.09259881],\n",
       "       [6.00743273],\n",
       "       [5.9116209 ],\n",
       "       [5.75193452],\n",
       "       [5.76258028],\n",
       "       [5.56031086],\n",
       "       [5.95420394],\n",
       "       [5.75193452],\n",
       "       [5.64547693],\n",
       "       [6.07130729],\n",
       "       [5.51772782],\n",
       "       [5.93291242],\n",
       "       [5.38997871],\n",
       "       [5.74128876],\n",
       "       [5.42191599],\n",
       "       [5.60289389],\n",
       "       [5.89032938],\n",
       "       [5.60289389],\n",
       "       [5.42191599],\n",
       "       [5.47514478],\n",
       "       [5.62418541],\n",
       "       [5.74128876],\n",
       "       [6.06066153],\n",
       "       [5.89032938],\n",
       "       [5.76258028],\n",
       "       [6.12453608],\n",
       "       [6.06066153],\n",
       "       [5.97549546],\n",
       "       [6.06066153],\n",
       "       [5.70935148],\n",
       "       [6.16711912],\n",
       "       [5.97549546],\n",
       "       [5.58160237],\n",
       "       [6.15647336],\n",
       "       [6.08195305],\n",
       "       [6.1990564 ],\n",
       "       [5.9116209 ],\n",
       "       [5.40062447],\n",
       "       [5.4964363 ],\n",
       "       [6.02872425],\n",
       "       [5.69870572],\n",
       "       [5.62418541],\n",
       "       [6.12453608],\n",
       "       [6.12453608],\n",
       "       [5.95420394],\n",
       "       [5.42191599],\n",
       "       [6.06066153],\n",
       "       [5.81580907],\n",
       "       [6.10324456],\n",
       "       [5.80516331],\n",
       "       [5.61353965],\n",
       "       [6.06066153],\n",
       "       [6.09259881],\n",
       "       [5.94355818],\n",
       "       [5.62418541],\n",
       "       [6.11389032],\n",
       "       [6.13518184],\n",
       "       [5.9648497 ],\n",
       "       [5.81580907],\n",
       "       [5.83710059],\n",
       "       [5.86903787],\n",
       "       [6.12453608],\n",
       "       [5.41127023],\n",
       "       [6.08195305],\n",
       "       [5.83710059],\n",
       "       [5.97549546],\n",
       "       [5.97549546],\n",
       "       [5.93291242],\n",
       "       [5.64547693],\n",
       "       [5.82645483],\n",
       "       [5.9116209 ],\n",
       "       [5.64547693]])"
      ]
     },
     "execution_count": 128,
     "metadata": {},
     "output_type": "execute_result"
    }
   ],
   "source": [
    "Model_Prediction = Model.predict(x_test)\n",
    "Model_Prediction"
   ]
  },
  {
   "cell_type": "markdown",
   "metadata": {},
   "source": [
    "# Mean Square error for one attribute(citric acid)"
   ]
  },
  {
   "cell_type": "code",
   "execution_count": 120,
   "metadata": {},
   "outputs": [
    {
     "data": {
      "text/plain": [
       "31.808252455490088"
      ]
     },
     "execution_count": 120,
     "metadata": {},
     "output_type": "execute_result"
    }
   ],
   "source": [
    "mse = mean_squared_error(y_test, Model_Prediction )\n",
    "mse"
   ]
  },
  {
   "cell_type": "code",
   "execution_count": 121,
   "metadata": {},
   "outputs": [
    {
     "data": {
      "text/plain": [
       "15236.152926179751"
      ]
     },
     "execution_count": 121,
     "metadata": {},
     "output_type": "execute_result"
    }
   ],
   "source": [
    "sse = np.sum((Model_Prediction - y_test)**2)\n",
    "sse"
   ]
  },
  {
   "cell_type": "code",
   "execution_count": null,
   "metadata": {},
   "outputs": [],
   "source": []
  }
 ],
 "metadata": {
  "kernelspec": {
   "display_name": "Python 3",
   "language": "python",
   "name": "python3"
  },
  "language_info": {
   "codemirror_mode": {
    "name": "ipython",
    "version": 3
   },
   "file_extension": ".py",
   "mimetype": "text/x-python",
   "name": "python",
   "nbconvert_exporter": "python",
   "pygments_lexer": "ipython3",
   "version": "3.7.6"
  }
 },
 "nbformat": 4,
 "nbformat_minor": 4
}
