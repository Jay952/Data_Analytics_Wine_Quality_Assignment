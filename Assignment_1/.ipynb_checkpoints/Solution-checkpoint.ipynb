{
 "cells": [
  {
   "cell_type": "code",
   "execution_count": 13,
   "metadata": {},
   "outputs": [],
   "source": [
    "import pandas as pd"
   ]
  },
  {
   "cell_type": "code",
   "execution_count": 14,
   "metadata": {},
   "outputs": [],
   "source": [
    "import numpy as np"
   ]
  },
  {
   "cell_type": "code",
   "execution_count": 15,
   "metadata": {},
   "outputs": [],
   "source": [
    "import matplotlib.pyplot as plt\n",
    "plt.style.use('ggplot')\n",
    "%matplotlib inline"
   ]
  },
  {
   "cell_type": "code",
   "execution_count": 16,
   "metadata": {},
   "outputs": [],
   "source": [
    "import seaborn as sns\n",
    "plt.rcParams['figure.figsize']=(12,8)"
   ]
  },
  {
   "cell_type": "code",
   "execution_count": 17,
   "metadata": {},
   "outputs": [],
   "source": [
    "test_data = pd.read_csv(\"wineQualityRed_test.csv\", sep=\";|,\", engine=\"python\", skipfooter=1) "
   ]
  },
  {
   "cell_type": "code",
   "execution_count": 18,
   "metadata": {},
   "outputs": [],
   "source": [
    "train_data = pd.read_csv(\"wineQualityRed_train.csv\", sep=\";|,\", engine=\"python\", skipfooter=1) "
   ]
  },
  {
   "cell_type": "code",
   "execution_count": 19,
   "metadata": {
    "scrolled": true
   },
   "outputs": [
    {
     "data": {
      "text/html": [
       "<div>\n",
       "<style scoped>\n",
       "    .dataframe tbody tr th:only-of-type {\n",
       "        vertical-align: middle;\n",
       "    }\n",
       "\n",
       "    .dataframe tbody tr th {\n",
       "        vertical-align: top;\n",
       "    }\n",
       "\n",
       "    .dataframe thead th {\n",
       "        text-align: right;\n",
       "    }\n",
       "</style>\n",
       "<table border=\"1\" class=\"dataframe\">\n",
       "  <thead>\n",
       "    <tr style=\"text-align: right;\">\n",
       "      <th></th>\n",
       "      <th>\"fixed acidity</th>\n",
       "      <th>\"\"volatile acidity\"\"</th>\n",
       "      <th>\"\"citric acid\"\"</th>\n",
       "      <th>\"\"residual sugar\"\"</th>\n",
       "      <th>\"\"chlorides\"\"</th>\n",
       "      <th>\"\"free sulfur dioxide\"\"</th>\n",
       "      <th>\"\"total sulfur dioxide\"\"</th>\n",
       "      <th>\"\"density\"\"</th>\n",
       "      <th>\"\"pH\"\"</th>\n",
       "      <th>\"\"sulphates\"\"</th>\n",
       "      <th>\"\"alcohol\"\"</th>\n",
       "      <th>\"\"quality\"\"\"</th>\n",
       "    </tr>\n",
       "  </thead>\n",
       "  <tbody>\n",
       "    <tr>\n",
       "      <th>0</th>\n",
       "      <td>7.4</td>\n",
       "      <td>0.70</td>\n",
       "      <td>0.00</td>\n",
       "      <td>1.9</td>\n",
       "      <td>0.076</td>\n",
       "      <td>11.0</td>\n",
       "      <td>34</td>\n",
       "      <td>0.9978</td>\n",
       "      <td>3.51</td>\n",
       "      <td>0.56</td>\n",
       "      <td>9.4</td>\n",
       "      <td>5</td>\n",
       "    </tr>\n",
       "    <tr>\n",
       "      <th>1</th>\n",
       "      <td>7.8</td>\n",
       "      <td>0.88</td>\n",
       "      <td>0.00</td>\n",
       "      <td>2.6</td>\n",
       "      <td>0.098</td>\n",
       "      <td>25.0</td>\n",
       "      <td>67</td>\n",
       "      <td>0.9968</td>\n",
       "      <td>3.20</td>\n",
       "      <td>0.68</td>\n",
       "      <td>9.8</td>\n",
       "      <td>5</td>\n",
       "    </tr>\n",
       "    <tr>\n",
       "      <th>2</th>\n",
       "      <td>7.8</td>\n",
       "      <td>0.76</td>\n",
       "      <td>0.04</td>\n",
       "      <td>2.3</td>\n",
       "      <td>0.092</td>\n",
       "      <td>15.0</td>\n",
       "      <td>54</td>\n",
       "      <td>0.9970</td>\n",
       "      <td>3.26</td>\n",
       "      <td>0.65</td>\n",
       "      <td>9.8</td>\n",
       "      <td>5</td>\n",
       "    </tr>\n",
       "    <tr>\n",
       "      <th>3</th>\n",
       "      <td>11.2</td>\n",
       "      <td>0.28</td>\n",
       "      <td>0.56</td>\n",
       "      <td>1.9</td>\n",
       "      <td>0.075</td>\n",
       "      <td>17.0</td>\n",
       "      <td>60</td>\n",
       "      <td>0.9980</td>\n",
       "      <td>3.16</td>\n",
       "      <td>0.58</td>\n",
       "      <td>9.8</td>\n",
       "      <td>6</td>\n",
       "    </tr>\n",
       "    <tr>\n",
       "      <th>4</th>\n",
       "      <td>7.4</td>\n",
       "      <td>0.70</td>\n",
       "      <td>0.00</td>\n",
       "      <td>1.9</td>\n",
       "      <td>0.076</td>\n",
       "      <td>11.0</td>\n",
       "      <td>34</td>\n",
       "      <td>0.9978</td>\n",
       "      <td>3.51</td>\n",
       "      <td>0.56</td>\n",
       "      <td>9.4</td>\n",
       "      <td>5</td>\n",
       "    </tr>\n",
       "  </tbody>\n",
       "</table>\n",
       "</div>"
      ],
      "text/plain": [
       "   \"fixed acidity  \"\"volatile acidity\"\"  \"\"citric acid\"\"  \"\"residual sugar\"\"  \\\n",
       "0             7.4                  0.70             0.00                 1.9   \n",
       "1             7.8                  0.88             0.00                 2.6   \n",
       "2             7.8                  0.76             0.04                 2.3   \n",
       "3            11.2                  0.28             0.56                 1.9   \n",
       "4             7.4                  0.70             0.00                 1.9   \n",
       "\n",
       "   \"\"chlorides\"\"  \"\"free sulfur dioxide\"\"  \"\"total sulfur dioxide\"\"  \\\n",
       "0          0.076                     11.0                        34   \n",
       "1          0.098                     25.0                        67   \n",
       "2          0.092                     15.0                        54   \n",
       "3          0.075                     17.0                        60   \n",
       "4          0.076                     11.0                        34   \n",
       "\n",
       "   \"\"density\"\"  \"\"pH\"\"  \"\"sulphates\"\"  \"\"alcohol\"\"  \"\"quality\"\"\"  \n",
       "0       0.9978    3.51           0.56          9.4             5  \n",
       "1       0.9968    3.20           0.68          9.8             5  \n",
       "2       0.9970    3.26           0.65          9.8             5  \n",
       "3       0.9980    3.16           0.58          9.8             6  \n",
       "4       0.9978    3.51           0.56          9.4             5  "
      ]
     },
     "execution_count": 19,
     "metadata": {},
     "output_type": "execute_result"
    }
   ],
   "source": [
    "test_data.head()"
   ]
  },
  {
   "cell_type": "code",
   "execution_count": 20,
   "metadata": {},
   "outputs": [
    {
     "data": {
      "text/plain": [
       "(479, 12)"
      ]
     },
     "execution_count": 20,
     "metadata": {},
     "output_type": "execute_result"
    }
   ],
   "source": [
    "test_data.shape"
   ]
  },
  {
   "cell_type": "code",
   "execution_count": 21,
   "metadata": {},
   "outputs": [
    {
     "data": {
      "text/html": [
       "<div>\n",
       "<style scoped>\n",
       "    .dataframe tbody tr th:only-of-type {\n",
       "        vertical-align: middle;\n",
       "    }\n",
       "\n",
       "    .dataframe tbody tr th {\n",
       "        vertical-align: top;\n",
       "    }\n",
       "\n",
       "    .dataframe thead th {\n",
       "        text-align: right;\n",
       "    }\n",
       "</style>\n",
       "<table border=\"1\" class=\"dataframe\">\n",
       "  <thead>\n",
       "    <tr style=\"text-align: right;\">\n",
       "      <th></th>\n",
       "      <th>\"fixed acidity</th>\n",
       "      <th>\"\"volatile acidity\"\"</th>\n",
       "      <th>\"\"citric acid\"\"</th>\n",
       "      <th>\"\"residual sugar\"\"</th>\n",
       "      <th>\"\"chlorides\"\"</th>\n",
       "      <th>\"\"free sulfur dioxide\"\"</th>\n",
       "      <th>\"\"total sulfur dioxide\"\"</th>\n",
       "      <th>\"\"density\"\"</th>\n",
       "      <th>\"\"pH\"\"</th>\n",
       "      <th>\"\"sulphates\"\"</th>\n",
       "      <th>\"\"alcohol\"\"</th>\n",
       "      <th>\"\"quality\"\"\"</th>\n",
       "    </tr>\n",
       "  </thead>\n",
       "  <tbody>\n",
       "    <tr>\n",
       "      <th>0</th>\n",
       "      <td>10.6</td>\n",
       "      <td>0.280</td>\n",
       "      <td>0.39</td>\n",
       "      <td>15.50</td>\n",
       "      <td>0.069</td>\n",
       "      <td>6.0</td>\n",
       "      <td>23.0</td>\n",
       "      <td>1.0026</td>\n",
       "      <td>3.12</td>\n",
       "      <td>0.66</td>\n",
       "      <td>9.2</td>\n",
       "      <td>5</td>\n",
       "    </tr>\n",
       "    <tr>\n",
       "      <th>1</th>\n",
       "      <td>9.4</td>\n",
       "      <td>0.300</td>\n",
       "      <td>0.56</td>\n",
       "      <td>2.80</td>\n",
       "      <td>0.080</td>\n",
       "      <td>6.0</td>\n",
       "      <td>17.0</td>\n",
       "      <td>0.9964</td>\n",
       "      <td>3.15</td>\n",
       "      <td>0.92</td>\n",
       "      <td>11.7</td>\n",
       "      <td>8</td>\n",
       "    </tr>\n",
       "    <tr>\n",
       "      <th>2</th>\n",
       "      <td>10.6</td>\n",
       "      <td>0.360</td>\n",
       "      <td>0.59</td>\n",
       "      <td>2.20</td>\n",
       "      <td>0.152</td>\n",
       "      <td>6.0</td>\n",
       "      <td>18.0</td>\n",
       "      <td>0.9986</td>\n",
       "      <td>3.04</td>\n",
       "      <td>1.05</td>\n",
       "      <td>9.4</td>\n",
       "      <td>5</td>\n",
       "    </tr>\n",
       "    <tr>\n",
       "      <th>3</th>\n",
       "      <td>10.6</td>\n",
       "      <td>0.360</td>\n",
       "      <td>0.60</td>\n",
       "      <td>2.20</td>\n",
       "      <td>0.152</td>\n",
       "      <td>7.0</td>\n",
       "      <td>18.0</td>\n",
       "      <td>0.9986</td>\n",
       "      <td>3.04</td>\n",
       "      <td>1.06</td>\n",
       "      <td>9.4</td>\n",
       "      <td>5</td>\n",
       "    </tr>\n",
       "    <tr>\n",
       "      <th>4</th>\n",
       "      <td>10.6</td>\n",
       "      <td>0.440</td>\n",
       "      <td>0.68</td>\n",
       "      <td>4.10</td>\n",
       "      <td>0.114</td>\n",
       "      <td>6.0</td>\n",
       "      <td>24.0</td>\n",
       "      <td>0.9970</td>\n",
       "      <td>3.06</td>\n",
       "      <td>0.66</td>\n",
       "      <td>13.4</td>\n",
       "      <td>6</td>\n",
       "    </tr>\n",
       "    <tr>\n",
       "      <th>5</th>\n",
       "      <td>10.2</td>\n",
       "      <td>0.670</td>\n",
       "      <td>0.39</td>\n",
       "      <td>1.90</td>\n",
       "      <td>0.054</td>\n",
       "      <td>6.0</td>\n",
       "      <td>17.0</td>\n",
       "      <td>0.9976</td>\n",
       "      <td>3.17</td>\n",
       "      <td>0.47</td>\n",
       "      <td>10.0</td>\n",
       "      <td>5</td>\n",
       "    </tr>\n",
       "    <tr>\n",
       "      <th>6</th>\n",
       "      <td>10.2</td>\n",
       "      <td>0.670</td>\n",
       "      <td>0.39</td>\n",
       "      <td>1.90</td>\n",
       "      <td>0.054</td>\n",
       "      <td>6.0</td>\n",
       "      <td>17.0</td>\n",
       "      <td>0.9976</td>\n",
       "      <td>3.17</td>\n",
       "      <td>0.47</td>\n",
       "      <td>10.0</td>\n",
       "      <td>5</td>\n",
       "    </tr>\n",
       "    <tr>\n",
       "      <th>7</th>\n",
       "      <td>10.2</td>\n",
       "      <td>0.645</td>\n",
       "      <td>0.36</td>\n",
       "      <td>1.80</td>\n",
       "      <td>0.053</td>\n",
       "      <td>5.0</td>\n",
       "      <td>14.0</td>\n",
       "      <td>0.9982</td>\n",
       "      <td>3.17</td>\n",
       "      <td>0.42</td>\n",
       "      <td>10.0</td>\n",
       "      <td>6</td>\n",
       "    </tr>\n",
       "    <tr>\n",
       "      <th>8</th>\n",
       "      <td>11.6</td>\n",
       "      <td>0.320</td>\n",
       "      <td>0.55</td>\n",
       "      <td>2.80</td>\n",
       "      <td>0.081</td>\n",
       "      <td>35.0</td>\n",
       "      <td>67.0</td>\n",
       "      <td>1.0002</td>\n",
       "      <td>3.32</td>\n",
       "      <td>0.92</td>\n",
       "      <td>10.8</td>\n",
       "      <td>7</td>\n",
       "    </tr>\n",
       "    <tr>\n",
       "      <th>9</th>\n",
       "      <td>9.3</td>\n",
       "      <td>0.390</td>\n",
       "      <td>0.40</td>\n",
       "      <td>2.60</td>\n",
       "      <td>0.073</td>\n",
       "      <td>10.0</td>\n",
       "      <td>26.0</td>\n",
       "      <td>0.9984</td>\n",
       "      <td>3.34</td>\n",
       "      <td>0.75</td>\n",
       "      <td>10.2</td>\n",
       "      <td>6</td>\n",
       "    </tr>\n",
       "    <tr>\n",
       "      <th>10</th>\n",
       "      <td>9.3</td>\n",
       "      <td>0.775</td>\n",
       "      <td>0.27</td>\n",
       "      <td>2.80</td>\n",
       "      <td>0.078</td>\n",
       "      <td>24.0</td>\n",
       "      <td>56.0</td>\n",
       "      <td>0.9984</td>\n",
       "      <td>3.31</td>\n",
       "      <td>0.67</td>\n",
       "      <td>10.6</td>\n",
       "      <td>6</td>\n",
       "    </tr>\n",
       "    <tr>\n",
       "      <th>11</th>\n",
       "      <td>9.2</td>\n",
       "      <td>0.410</td>\n",
       "      <td>0.50</td>\n",
       "      <td>2.50</td>\n",
       "      <td>0.055</td>\n",
       "      <td>12.0</td>\n",
       "      <td>25.0</td>\n",
       "      <td>0.9952</td>\n",
       "      <td>3.34</td>\n",
       "      <td>0.79</td>\n",
       "      <td>13.3</td>\n",
       "      <td>7</td>\n",
       "    </tr>\n",
       "    <tr>\n",
       "      <th>12</th>\n",
       "      <td>8.9</td>\n",
       "      <td>0.400</td>\n",
       "      <td>0.51</td>\n",
       "      <td>2.60</td>\n",
       "      <td>0.052</td>\n",
       "      <td>13.0</td>\n",
       "      <td>27.0</td>\n",
       "      <td>0.9950</td>\n",
       "      <td>3.32</td>\n",
       "      <td>0.90</td>\n",
       "      <td>13.4</td>\n",
       "      <td>7</td>\n",
       "    </tr>\n",
       "    <tr>\n",
       "      <th>13</th>\n",
       "      <td>8.7</td>\n",
       "      <td>0.690</td>\n",
       "      <td>0.31</td>\n",
       "      <td>3.00</td>\n",
       "      <td>0.086</td>\n",
       "      <td>23.0</td>\n",
       "      <td>81.0</td>\n",
       "      <td>1.0002</td>\n",
       "      <td>3.48</td>\n",
       "      <td>0.74</td>\n",
       "      <td>11.6</td>\n",
       "      <td>6</td>\n",
       "    </tr>\n",
       "    <tr>\n",
       "      <th>14</th>\n",
       "      <td>6.5</td>\n",
       "      <td>0.390</td>\n",
       "      <td>0.23</td>\n",
       "      <td>8.30</td>\n",
       "      <td>0.051</td>\n",
       "      <td>28.0</td>\n",
       "      <td>91.0</td>\n",
       "      <td>0.9952</td>\n",
       "      <td>3.44</td>\n",
       "      <td>0.55</td>\n",
       "      <td>12.1</td>\n",
       "      <td>6</td>\n",
       "    </tr>\n",
       "    <tr>\n",
       "      <th>15</th>\n",
       "      <td>10.7</td>\n",
       "      <td>0.350</td>\n",
       "      <td>0.53</td>\n",
       "      <td>2.60</td>\n",
       "      <td>0.070</td>\n",
       "      <td>5.0</td>\n",
       "      <td>16.0</td>\n",
       "      <td>0.9972</td>\n",
       "      <td>3.15</td>\n",
       "      <td>0.65</td>\n",
       "      <td>11.0</td>\n",
       "      <td>8</td>\n",
       "    </tr>\n",
       "    <tr>\n",
       "      <th>16</th>\n",
       "      <td>7.8</td>\n",
       "      <td>0.520</td>\n",
       "      <td>0.25</td>\n",
       "      <td>1.90</td>\n",
       "      <td>0.081</td>\n",
       "      <td>14.0</td>\n",
       "      <td>38.0</td>\n",
       "      <td>0.9984</td>\n",
       "      <td>3.43</td>\n",
       "      <td>0.65</td>\n",
       "      <td>9.0</td>\n",
       "      <td>6</td>\n",
       "    </tr>\n",
       "    <tr>\n",
       "      <th>17</th>\n",
       "      <td>7.2</td>\n",
       "      <td>0.340</td>\n",
       "      <td>0.32</td>\n",
       "      <td>2.50</td>\n",
       "      <td>0.090</td>\n",
       "      <td>43.0</td>\n",
       "      <td>113.0</td>\n",
       "      <td>0.9966</td>\n",
       "      <td>3.32</td>\n",
       "      <td>0.79</td>\n",
       "      <td>11.1</td>\n",
       "      <td>5</td>\n",
       "    </tr>\n",
       "    <tr>\n",
       "      <th>18</th>\n",
       "      <td>10.7</td>\n",
       "      <td>0.350</td>\n",
       "      <td>0.53</td>\n",
       "      <td>2.60</td>\n",
       "      <td>0.070</td>\n",
       "      <td>5.0</td>\n",
       "      <td>16.0</td>\n",
       "      <td>0.9972</td>\n",
       "      <td>3.15</td>\n",
       "      <td>0.65</td>\n",
       "      <td>11.0</td>\n",
       "      <td>8</td>\n",
       "    </tr>\n",
       "    <tr>\n",
       "      <th>19</th>\n",
       "      <td>8.7</td>\n",
       "      <td>0.690</td>\n",
       "      <td>0.31</td>\n",
       "      <td>3.00</td>\n",
       "      <td>0.086</td>\n",
       "      <td>23.0</td>\n",
       "      <td>81.0</td>\n",
       "      <td>1.0002</td>\n",
       "      <td>3.48</td>\n",
       "      <td>0.74</td>\n",
       "      <td>11.6</td>\n",
       "      <td>6</td>\n",
       "    </tr>\n",
       "    <tr>\n",
       "      <th>20</th>\n",
       "      <td>7.8</td>\n",
       "      <td>0.520</td>\n",
       "      <td>0.25</td>\n",
       "      <td>1.90</td>\n",
       "      <td>0.081</td>\n",
       "      <td>14.0</td>\n",
       "      <td>38.0</td>\n",
       "      <td>0.9984</td>\n",
       "      <td>3.43</td>\n",
       "      <td>0.65</td>\n",
       "      <td>9.0</td>\n",
       "      <td>6</td>\n",
       "    </tr>\n",
       "    <tr>\n",
       "      <th>21</th>\n",
       "      <td>10.4</td>\n",
       "      <td>0.440</td>\n",
       "      <td>0.73</td>\n",
       "      <td>6.55</td>\n",
       "      <td>0.074</td>\n",
       "      <td>38.0</td>\n",
       "      <td>76.0</td>\n",
       "      <td>0.9990</td>\n",
       "      <td>3.17</td>\n",
       "      <td>0.85</td>\n",
       "      <td>12.0</td>\n",
       "      <td>7</td>\n",
       "    </tr>\n",
       "    <tr>\n",
       "      <th>22</th>\n",
       "      <td>10.4</td>\n",
       "      <td>0.440</td>\n",
       "      <td>0.73</td>\n",
       "      <td>6.55</td>\n",
       "      <td>0.074</td>\n",
       "      <td>38.0</td>\n",
       "      <td>76.0</td>\n",
       "      <td>0.9990</td>\n",
       "      <td>3.17</td>\n",
       "      <td>0.85</td>\n",
       "      <td>12.0</td>\n",
       "      <td>7</td>\n",
       "    </tr>\n",
       "    <tr>\n",
       "      <th>23</th>\n",
       "      <td>10.5</td>\n",
       "      <td>0.260</td>\n",
       "      <td>0.47</td>\n",
       "      <td>1.90</td>\n",
       "      <td>0.078</td>\n",
       "      <td>6.0</td>\n",
       "      <td>24.0</td>\n",
       "      <td>0.9976</td>\n",
       "      <td>3.18</td>\n",
       "      <td>1.04</td>\n",
       "      <td>10.9</td>\n",
       "      <td>7</td>\n",
       "    </tr>\n",
       "    <tr>\n",
       "      <th>24</th>\n",
       "      <td>10.5</td>\n",
       "      <td>0.240</td>\n",
       "      <td>0.42</td>\n",
       "      <td>1.80</td>\n",
       "      <td>0.077</td>\n",
       "      <td>6.0</td>\n",
       "      <td>22.0</td>\n",
       "      <td>0.9976</td>\n",
       "      <td>3.21</td>\n",
       "      <td>1.05</td>\n",
       "      <td>10.8</td>\n",
       "      <td>7</td>\n",
       "    </tr>\n",
       "    <tr>\n",
       "      <th>25</th>\n",
       "      <td>10.2</td>\n",
       "      <td>0.490</td>\n",
       "      <td>0.63</td>\n",
       "      <td>2.90</td>\n",
       "      <td>0.072</td>\n",
       "      <td>10.0</td>\n",
       "      <td>26.0</td>\n",
       "      <td>0.9968</td>\n",
       "      <td>3.16</td>\n",
       "      <td>0.78</td>\n",
       "      <td>12.5</td>\n",
       "      <td>7</td>\n",
       "    </tr>\n",
       "    <tr>\n",
       "      <th>26</th>\n",
       "      <td>10.4</td>\n",
       "      <td>0.240</td>\n",
       "      <td>0.46</td>\n",
       "      <td>1.80</td>\n",
       "      <td>0.075</td>\n",
       "      <td>6.0</td>\n",
       "      <td>21.0</td>\n",
       "      <td>0.9976</td>\n",
       "      <td>3.25</td>\n",
       "      <td>1.02</td>\n",
       "      <td>10.8</td>\n",
       "      <td>7</td>\n",
       "    </tr>\n",
       "    <tr>\n",
       "      <th>27</th>\n",
       "      <td>11.2</td>\n",
       "      <td>0.670</td>\n",
       "      <td>0.55</td>\n",
       "      <td>2.30</td>\n",
       "      <td>0.084</td>\n",
       "      <td>6.0</td>\n",
       "      <td>13.0</td>\n",
       "      <td>1.0000</td>\n",
       "      <td>3.17</td>\n",
       "      <td>0.71</td>\n",
       "      <td>9.5</td>\n",
       "      <td>6</td>\n",
       "    </tr>\n",
       "    <tr>\n",
       "      <th>28</th>\n",
       "      <td>10.0</td>\n",
       "      <td>0.590</td>\n",
       "      <td>0.31</td>\n",
       "      <td>2.20</td>\n",
       "      <td>0.090</td>\n",
       "      <td>26.0</td>\n",
       "      <td>62.0</td>\n",
       "      <td>0.9994</td>\n",
       "      <td>3.18</td>\n",
       "      <td>0.63</td>\n",
       "      <td>10.2</td>\n",
       "      <td>6</td>\n",
       "    </tr>\n",
       "    <tr>\n",
       "      <th>29</th>\n",
       "      <td>13.3</td>\n",
       "      <td>0.290</td>\n",
       "      <td>0.75</td>\n",
       "      <td>2.80</td>\n",
       "      <td>0.084</td>\n",
       "      <td>23.0</td>\n",
       "      <td>43.0</td>\n",
       "      <td>0.9986</td>\n",
       "      <td>3.04</td>\n",
       "      <td>0.68</td>\n",
       "      <td>11.4</td>\n",
       "      <td>7</td>\n",
       "    </tr>\n",
       "    <tr>\n",
       "      <th>30</th>\n",
       "      <td>12.4</td>\n",
       "      <td>0.420</td>\n",
       "      <td>0.49</td>\n",
       "      <td>4.60</td>\n",
       "      <td>0.073</td>\n",
       "      <td>19.0</td>\n",
       "      <td>43.0</td>\n",
       "      <td>0.9978</td>\n",
       "      <td>3.02</td>\n",
       "      <td>0.61</td>\n",
       "      <td>9.5</td>\n",
       "      <td>5</td>\n",
       "    </tr>\n",
       "    <tr>\n",
       "      <th>31</th>\n",
       "      <td>10.0</td>\n",
       "      <td>0.590</td>\n",
       "      <td>0.31</td>\n",
       "      <td>2.20</td>\n",
       "      <td>0.090</td>\n",
       "      <td>26.0</td>\n",
       "      <td>62.0</td>\n",
       "      <td>0.9994</td>\n",
       "      <td>3.18</td>\n",
       "      <td>0.63</td>\n",
       "      <td>10.2</td>\n",
       "      <td>6</td>\n",
       "    </tr>\n",
       "    <tr>\n",
       "      <th>32</th>\n",
       "      <td>10.7</td>\n",
       "      <td>0.400</td>\n",
       "      <td>0.48</td>\n",
       "      <td>2.10</td>\n",
       "      <td>0.125</td>\n",
       "      <td>15.0</td>\n",
       "      <td>49.0</td>\n",
       "      <td>0.9980</td>\n",
       "      <td>3.03</td>\n",
       "      <td>0.81</td>\n",
       "      <td>9.7</td>\n",
       "      <td>6</td>\n",
       "    </tr>\n",
       "    <tr>\n",
       "      <th>33</th>\n",
       "      <td>10.5</td>\n",
       "      <td>0.510</td>\n",
       "      <td>0.64</td>\n",
       "      <td>2.40</td>\n",
       "      <td>0.107</td>\n",
       "      <td>6.0</td>\n",
       "      <td>15.0</td>\n",
       "      <td>0.9973</td>\n",
       "      <td>3.09</td>\n",
       "      <td>0.66</td>\n",
       "      <td>11.8</td>\n",
       "      <td>7</td>\n",
       "    </tr>\n",
       "    <tr>\n",
       "      <th>34</th>\n",
       "      <td>10.5</td>\n",
       "      <td>0.510</td>\n",
       "      <td>0.64</td>\n",
       "      <td>2.40</td>\n",
       "      <td>0.107</td>\n",
       "      <td>6.0</td>\n",
       "      <td>15.0</td>\n",
       "      <td>0.9973</td>\n",
       "      <td>3.09</td>\n",
       "      <td>0.66</td>\n",
       "      <td>11.8</td>\n",
       "      <td>7</td>\n",
       "    </tr>\n",
       "  </tbody>\n",
       "</table>\n",
       "</div>"
      ],
      "text/plain": [
       "    \"fixed acidity  \"\"volatile acidity\"\"  \"\"citric acid\"\"  \"\"residual sugar\"\"  \\\n",
       "0             10.6                 0.280             0.39               15.50   \n",
       "1              9.4                 0.300             0.56                2.80   \n",
       "2             10.6                 0.360             0.59                2.20   \n",
       "3             10.6                 0.360             0.60                2.20   \n",
       "4             10.6                 0.440             0.68                4.10   \n",
       "5             10.2                 0.670             0.39                1.90   \n",
       "6             10.2                 0.670             0.39                1.90   \n",
       "7             10.2                 0.645             0.36                1.80   \n",
       "8             11.6                 0.320             0.55                2.80   \n",
       "9              9.3                 0.390             0.40                2.60   \n",
       "10             9.3                 0.775             0.27                2.80   \n",
       "11             9.2                 0.410             0.50                2.50   \n",
       "12             8.9                 0.400             0.51                2.60   \n",
       "13             8.7                 0.690             0.31                3.00   \n",
       "14             6.5                 0.390             0.23                8.30   \n",
       "15            10.7                 0.350             0.53                2.60   \n",
       "16             7.8                 0.520             0.25                1.90   \n",
       "17             7.2                 0.340             0.32                2.50   \n",
       "18            10.7                 0.350             0.53                2.60   \n",
       "19             8.7                 0.690             0.31                3.00   \n",
       "20             7.8                 0.520             0.25                1.90   \n",
       "21            10.4                 0.440             0.73                6.55   \n",
       "22            10.4                 0.440             0.73                6.55   \n",
       "23            10.5                 0.260             0.47                1.90   \n",
       "24            10.5                 0.240             0.42                1.80   \n",
       "25            10.2                 0.490             0.63                2.90   \n",
       "26            10.4                 0.240             0.46                1.80   \n",
       "27            11.2                 0.670             0.55                2.30   \n",
       "28            10.0                 0.590             0.31                2.20   \n",
       "29            13.3                 0.290             0.75                2.80   \n",
       "30            12.4                 0.420             0.49                4.60   \n",
       "31            10.0                 0.590             0.31                2.20   \n",
       "32            10.7                 0.400             0.48                2.10   \n",
       "33            10.5                 0.510             0.64                2.40   \n",
       "34            10.5                 0.510             0.64                2.40   \n",
       "\n",
       "    \"\"chlorides\"\"  \"\"free sulfur dioxide\"\"  \"\"total sulfur dioxide\"\"  \\\n",
       "0           0.069                      6.0                      23.0   \n",
       "1           0.080                      6.0                      17.0   \n",
       "2           0.152                      6.0                      18.0   \n",
       "3           0.152                      7.0                      18.0   \n",
       "4           0.114                      6.0                      24.0   \n",
       "5           0.054                      6.0                      17.0   \n",
       "6           0.054                      6.0                      17.0   \n",
       "7           0.053                      5.0                      14.0   \n",
       "8           0.081                     35.0                      67.0   \n",
       "9           0.073                     10.0                      26.0   \n",
       "10          0.078                     24.0                      56.0   \n",
       "11          0.055                     12.0                      25.0   \n",
       "12          0.052                     13.0                      27.0   \n",
       "13          0.086                     23.0                      81.0   \n",
       "14          0.051                     28.0                      91.0   \n",
       "15          0.070                      5.0                      16.0   \n",
       "16          0.081                     14.0                      38.0   \n",
       "17          0.090                     43.0                     113.0   \n",
       "18          0.070                      5.0                      16.0   \n",
       "19          0.086                     23.0                      81.0   \n",
       "20          0.081                     14.0                      38.0   \n",
       "21          0.074                     38.0                      76.0   \n",
       "22          0.074                     38.0                      76.0   \n",
       "23          0.078                      6.0                      24.0   \n",
       "24          0.077                      6.0                      22.0   \n",
       "25          0.072                     10.0                      26.0   \n",
       "26          0.075                      6.0                      21.0   \n",
       "27          0.084                      6.0                      13.0   \n",
       "28          0.090                     26.0                      62.0   \n",
       "29          0.084                     23.0                      43.0   \n",
       "30          0.073                     19.0                      43.0   \n",
       "31          0.090                     26.0                      62.0   \n",
       "32          0.125                     15.0                      49.0   \n",
       "33          0.107                      6.0                      15.0   \n",
       "34          0.107                      6.0                      15.0   \n",
       "\n",
       "    \"\"density\"\"  \"\"pH\"\"  \"\"sulphates\"\"  \"\"alcohol\"\"  \"\"quality\"\"\"  \n",
       "0        1.0026    3.12           0.66          9.2             5  \n",
       "1        0.9964    3.15           0.92         11.7             8  \n",
       "2        0.9986    3.04           1.05          9.4             5  \n",
       "3        0.9986    3.04           1.06          9.4             5  \n",
       "4        0.9970    3.06           0.66         13.4             6  \n",
       "5        0.9976    3.17           0.47         10.0             5  \n",
       "6        0.9976    3.17           0.47         10.0             5  \n",
       "7        0.9982    3.17           0.42         10.0             6  \n",
       "8        1.0002    3.32           0.92         10.8             7  \n",
       "9        0.9984    3.34           0.75         10.2             6  \n",
       "10       0.9984    3.31           0.67         10.6             6  \n",
       "11       0.9952    3.34           0.79         13.3             7  \n",
       "12       0.9950    3.32           0.90         13.4             7  \n",
       "13       1.0002    3.48           0.74         11.6             6  \n",
       "14       0.9952    3.44           0.55         12.1             6  \n",
       "15       0.9972    3.15           0.65         11.0             8  \n",
       "16       0.9984    3.43           0.65          9.0             6  \n",
       "17       0.9966    3.32           0.79         11.1             5  \n",
       "18       0.9972    3.15           0.65         11.0             8  \n",
       "19       1.0002    3.48           0.74         11.6             6  \n",
       "20       0.9984    3.43           0.65          9.0             6  \n",
       "21       0.9990    3.17           0.85         12.0             7  \n",
       "22       0.9990    3.17           0.85         12.0             7  \n",
       "23       0.9976    3.18           1.04         10.9             7  \n",
       "24       0.9976    3.21           1.05         10.8             7  \n",
       "25       0.9968    3.16           0.78         12.5             7  \n",
       "26       0.9976    3.25           1.02         10.8             7  \n",
       "27       1.0000    3.17           0.71          9.5             6  \n",
       "28       0.9994    3.18           0.63         10.2             6  \n",
       "29       0.9986    3.04           0.68         11.4             7  \n",
       "30       0.9978    3.02           0.61          9.5             5  \n",
       "31       0.9994    3.18           0.63         10.2             6  \n",
       "32       0.9980    3.03           0.81          9.7             6  \n",
       "33       0.9973    3.09           0.66         11.8             7  \n",
       "34       0.9973    3.09           0.66         11.8             7  "
      ]
     },
     "execution_count": 21,
     "metadata": {},
     "output_type": "execute_result"
    }
   ],
   "source": [
    "train_data.head(35)"
   ]
  },
  {
   "cell_type": "code",
   "execution_count": 22,
   "metadata": {},
   "outputs": [
    {
     "data": {
      "text/html": [
       "<div>\n",
       "<style scoped>\n",
       "    .dataframe tbody tr th:only-of-type {\n",
       "        vertical-align: middle;\n",
       "    }\n",
       "\n",
       "    .dataframe tbody tr th {\n",
       "        vertical-align: top;\n",
       "    }\n",
       "\n",
       "    .dataframe thead th {\n",
       "        text-align: right;\n",
       "    }\n",
       "</style>\n",
       "<table border=\"1\" class=\"dataframe\">\n",
       "  <thead>\n",
       "    <tr style=\"text-align: right;\">\n",
       "      <th></th>\n",
       "      <th>\"fixed acidity</th>\n",
       "      <th>\"\"volatile acidity\"\"</th>\n",
       "      <th>\"\"citric acid\"\"</th>\n",
       "      <th>\"\"residual sugar\"\"</th>\n",
       "      <th>\"\"chlorides\"\"</th>\n",
       "      <th>\"\"free sulfur dioxide\"\"</th>\n",
       "      <th>\"\"total sulfur dioxide\"\"</th>\n",
       "      <th>\"\"density\"\"</th>\n",
       "      <th>\"\"pH\"\"</th>\n",
       "      <th>\"\"sulphates\"\"</th>\n",
       "      <th>\"\"alcohol\"\"</th>\n",
       "      <th>\"\"quality\"\"\"</th>\n",
       "    </tr>\n",
       "  </thead>\n",
       "  <tbody>\n",
       "    <tr>\n",
       "      <th>1113</th>\n",
       "      <td>6.8</td>\n",
       "      <td>0.620</td>\n",
       "      <td>0.08</td>\n",
       "      <td>1.9</td>\n",
       "      <td>0.068</td>\n",
       "      <td>28.0</td>\n",
       "      <td>38.0</td>\n",
       "      <td>0.99651</td>\n",
       "      <td>3.42</td>\n",
       "      <td>0.82</td>\n",
       "      <td>9.5</td>\n",
       "      <td>6</td>\n",
       "    </tr>\n",
       "    <tr>\n",
       "      <th>1114</th>\n",
       "      <td>6.2</td>\n",
       "      <td>0.600</td>\n",
       "      <td>0.08</td>\n",
       "      <td>2.0</td>\n",
       "      <td>0.090</td>\n",
       "      <td>32.0</td>\n",
       "      <td>44.0</td>\n",
       "      <td>0.99490</td>\n",
       "      <td>3.45</td>\n",
       "      <td>0.58</td>\n",
       "      <td>10.5</td>\n",
       "      <td>5</td>\n",
       "    </tr>\n",
       "    <tr>\n",
       "      <th>1115</th>\n",
       "      <td>5.9</td>\n",
       "      <td>0.550</td>\n",
       "      <td>0.10</td>\n",
       "      <td>2.2</td>\n",
       "      <td>0.062</td>\n",
       "      <td>39.0</td>\n",
       "      <td>51.0</td>\n",
       "      <td>0.99512</td>\n",
       "      <td>3.52</td>\n",
       "      <td>0.76</td>\n",
       "      <td>11.2</td>\n",
       "      <td>6</td>\n",
       "    </tr>\n",
       "    <tr>\n",
       "      <th>1116</th>\n",
       "      <td>6.3</td>\n",
       "      <td>0.510</td>\n",
       "      <td>0.13</td>\n",
       "      <td>2.3</td>\n",
       "      <td>0.076</td>\n",
       "      <td>29.0</td>\n",
       "      <td>40.0</td>\n",
       "      <td>0.99574</td>\n",
       "      <td>3.42</td>\n",
       "      <td>0.75</td>\n",
       "      <td>11.0</td>\n",
       "      <td>6</td>\n",
       "    </tr>\n",
       "    <tr>\n",
       "      <th>1117</th>\n",
       "      <td>5.9</td>\n",
       "      <td>0.645</td>\n",
       "      <td>0.12</td>\n",
       "      <td>2.0</td>\n",
       "      <td>0.075</td>\n",
       "      <td>32.0</td>\n",
       "      <td>44.0</td>\n",
       "      <td>0.99547</td>\n",
       "      <td>3.57</td>\n",
       "      <td>0.71</td>\n",
       "      <td>10.2</td>\n",
       "      <td>5</td>\n",
       "    </tr>\n",
       "  </tbody>\n",
       "</table>\n",
       "</div>"
      ],
      "text/plain": [
       "      \"fixed acidity  \"\"volatile acidity\"\"  \"\"citric acid\"\"  \\\n",
       "1113             6.8                 0.620             0.08   \n",
       "1114             6.2                 0.600             0.08   \n",
       "1115             5.9                 0.550             0.10   \n",
       "1116             6.3                 0.510             0.13   \n",
       "1117             5.9                 0.645             0.12   \n",
       "\n",
       "      \"\"residual sugar\"\"  \"\"chlorides\"\"  \"\"free sulfur dioxide\"\"  \\\n",
       "1113                 1.9          0.068                     28.0   \n",
       "1114                 2.0          0.090                     32.0   \n",
       "1115                 2.2          0.062                     39.0   \n",
       "1116                 2.3          0.076                     29.0   \n",
       "1117                 2.0          0.075                     32.0   \n",
       "\n",
       "      \"\"total sulfur dioxide\"\"  \"\"density\"\"  \"\"pH\"\"  \"\"sulphates\"\"  \\\n",
       "1113                      38.0      0.99651    3.42           0.82   \n",
       "1114                      44.0      0.99490    3.45           0.58   \n",
       "1115                      51.0      0.99512    3.52           0.76   \n",
       "1116                      40.0      0.99574    3.42           0.75   \n",
       "1117                      44.0      0.99547    3.57           0.71   \n",
       "\n",
       "      \"\"alcohol\"\"  \"\"quality\"\"\"  \n",
       "1113          9.5             6  \n",
       "1114         10.5             5  \n",
       "1115         11.2             6  \n",
       "1116         11.0             6  \n",
       "1117         10.2             5  "
      ]
     },
     "execution_count": 22,
     "metadata": {},
     "output_type": "execute_result"
    }
   ],
   "source": [
    "train_data.tail()"
   ]
  },
  {
   "cell_type": "code",
   "execution_count": 23,
   "metadata": {},
   "outputs": [
    {
     "data": {
      "text/plain": [
       "(1118, 12)"
      ]
     },
     "execution_count": 23,
     "metadata": {},
     "output_type": "execute_result"
    }
   ],
   "source": [
    "train_data.shape"
   ]
  },
  {
   "cell_type": "code",
   "execution_count": 24,
   "metadata": {},
   "outputs": [
    {
     "name": "stdout",
     "output_type": "stream",
     "text": [
      "<class 'pandas.core.frame.DataFrame'>\n",
      "RangeIndex: 1118 entries, 0 to 1117\n",
      "Data columns (total 12 columns):\n",
      " #   Column                    Non-Null Count  Dtype  \n",
      "---  ------                    --------------  -----  \n",
      " 0   \"fixed acidity            1118 non-null   float64\n",
      " 1   \"\"volatile acidity\"\"      1118 non-null   float64\n",
      " 2   \"\"citric acid\"\"           1118 non-null   float64\n",
      " 3   \"\"residual sugar\"\"        1118 non-null   float64\n",
      " 4   \"\"chlorides\"\"             1118 non-null   float64\n",
      " 5   \"\"free sulfur dioxide\"\"   1118 non-null   float64\n",
      " 6   \"\"total sulfur dioxide\"\"  1118 non-null   float64\n",
      " 7   \"\"density\"\"               1118 non-null   float64\n",
      " 8   \"\"pH\"\"                    1118 non-null   float64\n",
      " 9   \"\"sulphates\"\"             1118 non-null   float64\n",
      " 10  \"\"alcohol\"\"               1118 non-null   float64\n",
      " 11  \"\"quality\"\"\"              1118 non-null   int64  \n",
      "dtypes: float64(11), int64(1)\n",
      "memory usage: 104.9 KB\n"
     ]
    }
   ],
   "source": [
    "train_data.info()"
   ]
  },
  {
   "cell_type": "code",
   "execution_count": 25,
   "metadata": {},
   "outputs": [],
   "source": [
    "X = train_data[['\"fixed acidity', '\"\"volatile acidity\"\"', '\"\"citric acid\"\"', '\"\"residual sugar\"\"', '\"\"chlorides\"\"', '\"\"free sulfur dioxide\"\"', '\"\"total sulfur dioxide\"\"', '\"\"density\"\"', '\"\"pH\"\"', '\"\"sulphates\"\"', '\"\"alcohol\"\"']]"
   ]
  },
  {
   "cell_type": "code",
   "execution_count": 26,
   "metadata": {},
   "outputs": [],
   "source": [
    "Y = train_data['\"\"quality\"\"\"']"
   ]
  },
  {
   "cell_type": "code",
   "execution_count": 27,
   "metadata": {},
   "outputs": [],
   "source": [
    "from sklearn import linear_model\n",
    "import statsmodels.api as sm"
   ]
  },
  {
   "cell_type": "code",
   "execution_count": 28,
   "metadata": {},
   "outputs": [
    {
     "data": {
      "text/plain": [
       "LinearRegression(copy_X=True, fit_intercept=True, n_jobs=None, normalize=False)"
      ]
     },
     "execution_count": 28,
     "metadata": {},
     "output_type": "execute_result"
    }
   ],
   "source": [
    "regr = linear_model.LinearRegression()\n",
    "regr.fit(X, Y)"
   ]
  },
  {
   "cell_type": "code",
   "execution_count": 29,
   "metadata": {},
   "outputs": [
    {
     "name": "stdout",
     "output_type": "stream",
     "text": [
      "Intercept: \n",
      " 31.646657790531332\n",
      "Coefficients: \n",
      " [-5.98685999e-03 -1.07149047e+00 -6.16635894e-02  1.02262313e-02\n",
      " -1.94206375e+00  3.51909544e-03 -2.15766610e-03 -2.67917412e+01\n",
      " -6.34967170e-01  1.24170827e+00  2.67809065e-01]\n"
     ]
    }
   ],
   "source": [
    "print('Intercept: \\n', regr.intercept_)\n",
    "print('Coefficients: \\n', regr.coef_)"
   ]
  },
  {
   "cell_type": "code",
   "execution_count": 30,
   "metadata": {},
   "outputs": [
    {
     "name": "stdout",
     "output_type": "stream",
     "text": [
      "                            OLS Regression Results                            \n",
      "==============================================================================\n",
      "Dep. Variable:           \"\"quality\"\"\"   R-squared:                       0.386\n",
      "Model:                            OLS   Adj. R-squared:                  0.380\n",
      "Method:                 Least Squares   F-statistic:                     63.30\n",
      "Date:                Mon, 19 Oct 2020   Prob (F-statistic):          3.17e-109\n",
      "Time:                        15:10:24   Log-Likelihood:                -1093.6\n",
      "No. Observations:                1118   AIC:                             2211.\n",
      "Df Residuals:                    1106   BIC:                             2271.\n",
      "Df Model:                          11                                         \n",
      "Covariance Type:            nonrobust                                         \n",
      "============================================================================================\n",
      "                               coef    std err          t      P>|t|      [0.025      0.975]\n",
      "--------------------------------------------------------------------------------------------\n",
      "const                       31.6467     25.010      1.265      0.206     -17.426      80.720\n",
      "\"fixed acidity              -0.0060      0.031     -0.192      0.847      -0.067       0.055\n",
      "\"\"volatile acidity\"\"        -1.0715      0.148     -7.235      0.000      -1.362      -0.781\n",
      "\"\"citric acid\"\"             -0.0617      0.183     -0.336      0.737      -0.422       0.298\n",
      "\"\"residual sugar\"\"           0.0102      0.017      0.592      0.554      -0.024       0.044\n",
      "\"\"chlorides\"\"               -1.9421      0.581     -3.341      0.001      -3.083      -0.802\n",
      "\"\"free sulfur dioxide\"\"      0.0035      0.003      1.386      0.166      -0.001       0.009\n",
      "\"\"total sulfur dioxide\"\"    -0.0022      0.001     -2.455      0.014      -0.004      -0.000\n",
      "\"\"density\"\"                -26.7917     25.509     -1.050      0.294     -76.844      23.260\n",
      "\"\"pH\"\"                      -0.6350      0.228     -2.788      0.005      -1.082      -0.188\n",
      "\"\"sulphates\"\"                1.2417      0.159      7.829      0.000       0.930       1.553\n",
      "\"\"alcohol\"\"                  0.2678      0.033      8.081      0.000       0.203       0.333\n",
      "==============================================================================\n",
      "Omnibus:                       27.727   Durbin-Watson:                   1.685\n",
      "Prob(Omnibus):                  0.000   Jarque-Bera (JB):               40.540\n",
      "Skew:                          -0.243   Prob(JB):                     1.57e-09\n",
      "Kurtosis:                       3.797   Cond. No.                     1.08e+05\n",
      "==============================================================================\n",
      "\n",
      "Warnings:\n",
      "[1] Standard Errors assume that the covariance matrix of the errors is correctly specified.\n",
      "[2] The condition number is large, 1.08e+05. This might indicate that there are\n",
      "strong multicollinearity or other numerical problems.\n"
     ]
    }
   ],
   "source": [
    "X = sm.add_constant(X) # adding a constant\n",
    " \n",
    "model = sm.OLS(Y, X).fit()\n",
    "predictions = model.predict(X) \n",
    " \n",
    "print_model = model.summary()\n",
    "print(print_model)"
   ]
  },
  {
   "cell_type": "code",
   "execution_count": 31,
   "metadata": {},
   "outputs": [
    {
     "data": {
      "text/plain": [
       "<matplotlib.collections.PathCollection at 0x200f29c6808>"
      ]
     },
     "execution_count": 31,
     "metadata": {},
     "output_type": "execute_result"
    },
    {
     "data": {
      "image/png": "[encoded data removed]",
      "text/plain": [
       "<Figure size 864x576 with 1 Axes>"
      ]
     },
     "metadata": {
      "needs_background": "light"
     },
     "output_type": "display_data"
    }
   ],
   "source": [
    "plt.scatter(train_data['\"fixed acidity'],Y)"
   ]
  },
  {
   "cell_type": "code",
   "execution_count": 32,
   "metadata": {},
   "outputs": [
    {
     "data": {
      "text/plain": [
       "<matplotlib.collections.PathCollection at 0x200f2a42088>"
      ]
     },
     "execution_count": 32,
     "metadata": {},
     "output_type": "execute_result"
    },
    {
     "data": {
      "image/png": "[encoded data removed]",
      "text/plain": [
       "<Figure size 864x576 with 1 Axes>"
      ]
     },
     "metadata": {
      "needs_background": "light"
     },
     "output_type": "display_data"
    }
   ],
   "source": [
    "plt.scatter(train_data['\"\"volatile acidity\"\"'],Y, color = 'blue')"
   ]
  },
  {
   "cell_type": "code",
   "execution_count": 33,
   "metadata": {},
   "outputs": [
    {
     "data": {
      "text/plain": [
       "<matplotlib.collections.PathCollection at 0x200f2dbc7c8>"
      ]
     },
     "execution_count": 33,
     "metadata": {},
     "output_type": "execute_result"
    },
    {
     "data": {
      "image/png": "[encoded data removed]",
      "text/plain": [
       "<Figure size 864x576 with 1 Axes>"
      ]
     },
     "metadata": {
      "needs_background": "light"
     },
     "output_type": "display_data"
    }
   ],
   "source": [
    "plt.scatter(train_data['\"\"citric acid\"\"'],Y, color = 'green')"
   ]
  },
  {
   "cell_type": "code",
   "execution_count": 34,
   "metadata": {},
   "outputs": [
    {
     "data": {
      "text/plain": [
       "<matplotlib.collections.PathCollection at 0x200f2e35948>"
      ]
     },
     "execution_count": 34,
     "metadata": {},
     "output_type": "execute_result"
    },
    {
     "data": {
      "image/png": "[encoded data removed]",
      "text/plain": [
       "<Figure size 864x576 with 1 Axes>"
      ]
     },
     "metadata": {
      "needs_background": "light"
     },
     "output_type": "display_data"
    }
   ],
   "source": [
    "plt.scatter(train_data['\"\"residual sugar\"\"'],Y, color = 'purple')"
   ]
  },
  {
   "cell_type": "code",
   "execution_count": 35,
   "metadata": {},
   "outputs": [
    {
     "data": {
      "text/plain": [
       "<matplotlib.collections.PathCollection at 0x200f3164808>"
      ]
     },
     "execution_count": 35,
     "metadata": {},
     "output_type": "execute_result"
    },
    {
     "data": {
      "image/png": "[encoded data removed]",
      "text/plain": [
       "<Figure size 864x576 with 1 Axes>"
      ]
     },
     "metadata": {
      "needs_background": "light"
     },
     "output_type": "display_data"
    }
   ],
   "source": [
    "plt.scatter(train_data['\"\"chlorides\"\"'],Y, color = 'Black')"
   ]
  },
  {
   "cell_type": "code",
   "execution_count": 36,
   "metadata": {},
   "outputs": [
    {
     "data": {
      "text/plain": [
       "<matplotlib.collections.PathCollection at 0x200f33c01c8>"
      ]
     },
     "execution_count": 36,
     "metadata": {},
     "output_type": "execute_result"
    },
    {
     "data": {
      "image/png": "[encoded data removed]",
      "text/plain": [
       "<Figure size 864x576 with 1 Axes>"
      ]
     },
     "metadata": {
      "needs_background": "light"
     },
     "output_type": "display_data"
    }
   ],
   "source": [
    "plt.scatter(train_data['\"\"free sulfur dioxide\"\"'],Y, color = 'yellow')"
   ]
  },
  {
   "cell_type": "code",
   "execution_count": 37,
   "metadata": {},
   "outputs": [
    {
     "data": {
      "text/plain": [
       "<matplotlib.collections.PathCollection at 0x200f33503c8>"
      ]
     },
     "execution_count": 37,
     "metadata": {},
     "output_type": "execute_result"
    },
    {
     "data": {
      "image/png": "[encoded data removed]",
      "text/plain": [
       "<Figure size 864x576 with 1 Axes>"
      ]
     },
     "metadata": {
      "needs_background": "light"
     },
     "output_type": "display_data"
    }
   ],
   "source": [
    "plt.scatter(train_data['\"\"density\"\"'],Y, color = 'violet')"
   ]
  },
  {
   "cell_type": "code",
   "execution_count": 38,
   "metadata": {},
   "outputs": [
    {
     "data": {
      "text/plain": [
       "<matplotlib.collections.PathCollection at 0x200f356a0c8>"
      ]
     },
     "execution_count": 38,
     "metadata": {},
     "output_type": "execute_result"
    },
    {
     "data": {
      "image/png": "[encoded data removed]",
      "text/plain": [
       "<Figure size 864x576 with 1 Axes>"
      ]
     },
     "metadata": {
      "needs_background": "light"
     },
     "output_type": "display_data"
    }
   ],
   "source": [
    "plt.scatter(train_data['\"\"pH\"\"'],Y, color = 'indigo')"
   ]
  },
  {
   "cell_type": "code",
   "execution_count": 39,
   "metadata": {},
   "outputs": [
    {
     "data": {
      "text/plain": [
       "<matplotlib.collections.PathCollection at 0x200f35d5688>"
      ]
     },
     "execution_count": 39,
     "metadata": {},
     "output_type": "execute_result"
    },
    {
     "data": {
      "image/png": "[encoded data removed]",
      "text/plain": [
       "<Figure size 864x576 with 1 Axes>"
      ]
     },
     "metadata": {
      "needs_background": "light"
     },
     "output_type": "display_data"
    }
   ],
   "source": [
    "plt.scatter(train_data['\"\"sulphates\"\"'],Y, color = 'brown')"
   ]
  },
  {
   "cell_type": "code",
   "execution_count": 40,
   "metadata": {},
   "outputs": [
    {
     "data": {
      "text/plain": [
       "<matplotlib.collections.PathCollection at 0x200f3c61e48>"
      ]
     },
     "execution_count": 40,
     "metadata": {},
     "output_type": "execute_result"
    },
    {
     "data": {
      "image/png": "[encoded data removed]",
      "text/plain": [
       "<Figure size 864x576 with 1 Axes>"
      ]
     },
     "metadata": {
      "needs_background": "light"
     },
     "output_type": "display_data"
    }
   ],
   "source": [
    "plt.scatter(train_data['\"\"alcohol\"\"'],Y, color = 'orange')"
   ]
  },
  {
   "cell_type": "code",
   "execution_count": 41,
   "metadata": {},
   "outputs": [],
   "source": [
    "bins = (2, 6, 10)\n",
    "group_names = ['bad', 'good']\n",
    "train_data['\"\"quality\"\"\"'] = pd.cut(train_data['\"\"quality\"\"\"'], bins = bins, labels = group_names)"
   ]
  },
  {
   "cell_type": "code",
   "execution_count": 42,
   "metadata": {},
   "outputs": [],
   "source": [
    "bins = (2, 6, 10)\n",
    "group_names = ['bad', 'good']\n",
    "test_data['\"\"quality\"\"\"'] = pd.cut(test_data['\"\"quality\"\"\"'], bins = bins, labels = group_names)"
   ]
  },
  {
   "cell_type": "code",
   "execution_count": 43,
   "metadata": {},
   "outputs": [
    {
     "data": {
      "text/html": [
       "<div>\n",
       "<style scoped>\n",
       "    .dataframe tbody tr th:only-of-type {\n",
       "        vertical-align: middle;\n",
       "    }\n",
       "\n",
       "    .dataframe tbody tr th {\n",
       "        vertical-align: top;\n",
       "    }\n",
       "\n",
       "    .dataframe thead th {\n",
       "        text-align: right;\n",
       "    }\n",
       "</style>\n",
       "<table border=\"1\" class=\"dataframe\">\n",
       "  <thead>\n",
       "    <tr style=\"text-align: right;\">\n",
       "      <th></th>\n",
       "      <th>\"fixed acidity</th>\n",
       "      <th>\"\"volatile acidity\"\"</th>\n",
       "      <th>\"\"citric acid\"\"</th>\n",
       "      <th>\"\"residual sugar\"\"</th>\n",
       "      <th>\"\"chlorides\"\"</th>\n",
       "      <th>\"\"free sulfur dioxide\"\"</th>\n",
       "      <th>\"\"total sulfur dioxide\"\"</th>\n",
       "      <th>\"\"density\"\"</th>\n",
       "      <th>\"\"pH\"\"</th>\n",
       "      <th>\"\"sulphates\"\"</th>\n",
       "      <th>\"\"alcohol\"\"</th>\n",
       "      <th>\"\"quality\"\"\"</th>\n",
       "    </tr>\n",
       "  </thead>\n",
       "  <tbody>\n",
       "    <tr>\n",
       "      <th>0</th>\n",
       "      <td>10.6</td>\n",
       "      <td>0.28</td>\n",
       "      <td>0.39</td>\n",
       "      <td>15.5</td>\n",
       "      <td>0.069</td>\n",
       "      <td>6.0</td>\n",
       "      <td>23.0</td>\n",
       "      <td>1.0026</td>\n",
       "      <td>3.12</td>\n",
       "      <td>0.66</td>\n",
       "      <td>9.2</td>\n",
       "      <td>bad</td>\n",
       "    </tr>\n",
       "    <tr>\n",
       "      <th>1</th>\n",
       "      <td>9.4</td>\n",
       "      <td>0.30</td>\n",
       "      <td>0.56</td>\n",
       "      <td>2.8</td>\n",
       "      <td>0.080</td>\n",
       "      <td>6.0</td>\n",
       "      <td>17.0</td>\n",
       "      <td>0.9964</td>\n",
       "      <td>3.15</td>\n",
       "      <td>0.92</td>\n",
       "      <td>11.7</td>\n",
       "      <td>good</td>\n",
       "    </tr>\n",
       "    <tr>\n",
       "      <th>2</th>\n",
       "      <td>10.6</td>\n",
       "      <td>0.36</td>\n",
       "      <td>0.59</td>\n",
       "      <td>2.2</td>\n",
       "      <td>0.152</td>\n",
       "      <td>6.0</td>\n",
       "      <td>18.0</td>\n",
       "      <td>0.9986</td>\n",
       "      <td>3.04</td>\n",
       "      <td>1.05</td>\n",
       "      <td>9.4</td>\n",
       "      <td>bad</td>\n",
       "    </tr>\n",
       "    <tr>\n",
       "      <th>3</th>\n",
       "      <td>10.6</td>\n",
       "      <td>0.36</td>\n",
       "      <td>0.60</td>\n",
       "      <td>2.2</td>\n",
       "      <td>0.152</td>\n",
       "      <td>7.0</td>\n",
       "      <td>18.0</td>\n",
       "      <td>0.9986</td>\n",
       "      <td>3.04</td>\n",
       "      <td>1.06</td>\n",
       "      <td>9.4</td>\n",
       "      <td>bad</td>\n",
       "    </tr>\n",
       "    <tr>\n",
       "      <th>4</th>\n",
       "      <td>10.6</td>\n",
       "      <td>0.44</td>\n",
       "      <td>0.68</td>\n",
       "      <td>4.1</td>\n",
       "      <td>0.114</td>\n",
       "      <td>6.0</td>\n",
       "      <td>24.0</td>\n",
       "      <td>0.9970</td>\n",
       "      <td>3.06</td>\n",
       "      <td>0.66</td>\n",
       "      <td>13.4</td>\n",
       "      <td>bad</td>\n",
       "    </tr>\n",
       "  </tbody>\n",
       "</table>\n",
       "</div>"
      ],
      "text/plain": [
       "   \"fixed acidity  \"\"volatile acidity\"\"  \"\"citric acid\"\"  \"\"residual sugar\"\"  \\\n",
       "0            10.6                  0.28             0.39                15.5   \n",
       "1             9.4                  0.30             0.56                 2.8   \n",
       "2            10.6                  0.36             0.59                 2.2   \n",
       "3            10.6                  0.36             0.60                 2.2   \n",
       "4            10.6                  0.44             0.68                 4.1   \n",
       "\n",
       "   \"\"chlorides\"\"  \"\"free sulfur dioxide\"\"  \"\"total sulfur dioxide\"\"  \\\n",
       "0          0.069                      6.0                      23.0   \n",
       "1          0.080                      6.0                      17.0   \n",
       "2          0.152                      6.0                      18.0   \n",
       "3          0.152                      7.0                      18.0   \n",
       "4          0.114                      6.0                      24.0   \n",
       "\n",
       "   \"\"density\"\"  \"\"pH\"\"  \"\"sulphates\"\"  \"\"alcohol\"\" \"\"quality\"\"\"  \n",
       "0       1.0026    3.12           0.66          9.2          bad  \n",
       "1       0.9964    3.15           0.92         11.7         good  \n",
       "2       0.9986    3.04           1.05          9.4          bad  \n",
       "3       0.9986    3.04           1.06          9.4          bad  \n",
       "4       0.9970    3.06           0.66         13.4          bad  "
      ]
     },
     "execution_count": 43,
     "metadata": {},
     "output_type": "execute_result"
    }
   ],
   "source": [
    "train_data.head(5)"
   ]
  },
  {
   "cell_type": "code",
   "execution_count": 44,
   "metadata": {},
   "outputs": [
    {
     "data": {
      "text/html": [
       "<div>\n",
       "<style scoped>\n",
       "    .dataframe tbody tr th:only-of-type {\n",
       "        vertical-align: middle;\n",
       "    }\n",
       "\n",
       "    .dataframe tbody tr th {\n",
       "        vertical-align: top;\n",
       "    }\n",
       "\n",
       "    .dataframe thead th {\n",
       "        text-align: right;\n",
       "    }\n",
       "</style>\n",
       "<table border=\"1\" class=\"dataframe\">\n",
       "  <thead>\n",
       "    <tr style=\"text-align: right;\">\n",
       "      <th></th>\n",
       "      <th>\"fixed acidity</th>\n",
       "      <th>\"\"volatile acidity\"\"</th>\n",
       "      <th>\"\"citric acid\"\"</th>\n",
       "      <th>\"\"residual sugar\"\"</th>\n",
       "      <th>\"\"chlorides\"\"</th>\n",
       "      <th>\"\"free sulfur dioxide\"\"</th>\n",
       "      <th>\"\"total sulfur dioxide\"\"</th>\n",
       "      <th>\"\"density\"\"</th>\n",
       "      <th>\"\"pH\"\"</th>\n",
       "      <th>\"\"sulphates\"\"</th>\n",
       "      <th>\"\"alcohol\"\"</th>\n",
       "      <th>\"\"quality\"\"\"</th>\n",
       "    </tr>\n",
       "  </thead>\n",
       "  <tbody>\n",
       "    <tr>\n",
       "      <th>1113</th>\n",
       "      <td>6.8</td>\n",
       "      <td>0.620</td>\n",
       "      <td>0.08</td>\n",
       "      <td>1.9</td>\n",
       "      <td>0.068</td>\n",
       "      <td>28.0</td>\n",
       "      <td>38.0</td>\n",
       "      <td>0.99651</td>\n",
       "      <td>3.42</td>\n",
       "      <td>0.82</td>\n",
       "      <td>9.5</td>\n",
       "      <td>bad</td>\n",
       "    </tr>\n",
       "    <tr>\n",
       "      <th>1114</th>\n",
       "      <td>6.2</td>\n",
       "      <td>0.600</td>\n",
       "      <td>0.08</td>\n",
       "      <td>2.0</td>\n",
       "      <td>0.090</td>\n",
       "      <td>32.0</td>\n",
       "      <td>44.0</td>\n",
       "      <td>0.99490</td>\n",
       "      <td>3.45</td>\n",
       "      <td>0.58</td>\n",
       "      <td>10.5</td>\n",
       "      <td>bad</td>\n",
       "    </tr>\n",
       "    <tr>\n",
       "      <th>1115</th>\n",
       "      <td>5.9</td>\n",
       "      <td>0.550</td>\n",
       "      <td>0.10</td>\n",
       "      <td>2.2</td>\n",
       "      <td>0.062</td>\n",
       "      <td>39.0</td>\n",
       "      <td>51.0</td>\n",
       "      <td>0.99512</td>\n",
       "      <td>3.52</td>\n",
       "      <td>0.76</td>\n",
       "      <td>11.2</td>\n",
       "      <td>bad</td>\n",
       "    </tr>\n",
       "    <tr>\n",
       "      <th>1116</th>\n",
       "      <td>6.3</td>\n",
       "      <td>0.510</td>\n",
       "      <td>0.13</td>\n",
       "      <td>2.3</td>\n",
       "      <td>0.076</td>\n",
       "      <td>29.0</td>\n",
       "      <td>40.0</td>\n",
       "      <td>0.99574</td>\n",
       "      <td>3.42</td>\n",
       "      <td>0.75</td>\n",
       "      <td>11.0</td>\n",
       "      <td>bad</td>\n",
       "    </tr>\n",
       "    <tr>\n",
       "      <th>1117</th>\n",
       "      <td>5.9</td>\n",
       "      <td>0.645</td>\n",
       "      <td>0.12</td>\n",
       "      <td>2.0</td>\n",
       "      <td>0.075</td>\n",
       "      <td>32.0</td>\n",
       "      <td>44.0</td>\n",
       "      <td>0.99547</td>\n",
       "      <td>3.57</td>\n",
       "      <td>0.71</td>\n",
       "      <td>10.2</td>\n",
       "      <td>bad</td>\n",
       "    </tr>\n",
       "  </tbody>\n",
       "</table>\n",
       "</div>"
      ],
      "text/plain": [
       "      \"fixed acidity  \"\"volatile acidity\"\"  \"\"citric acid\"\"  \\\n",
       "1113             6.8                 0.620             0.08   \n",
       "1114             6.2                 0.600             0.08   \n",
       "1115             5.9                 0.550             0.10   \n",
       "1116             6.3                 0.510             0.13   \n",
       "1117             5.9                 0.645             0.12   \n",
       "\n",
       "      \"\"residual sugar\"\"  \"\"chlorides\"\"  \"\"free sulfur dioxide\"\"  \\\n",
       "1113                 1.9          0.068                     28.0   \n",
       "1114                 2.0          0.090                     32.0   \n",
       "1115                 2.2          0.062                     39.0   \n",
       "1116                 2.3          0.076                     29.0   \n",
       "1117                 2.0          0.075                     32.0   \n",
       "\n",
       "      \"\"total sulfur dioxide\"\"  \"\"density\"\"  \"\"pH\"\"  \"\"sulphates\"\"  \\\n",
       "1113                      38.0      0.99651    3.42           0.82   \n",
       "1114                      44.0      0.99490    3.45           0.58   \n",
       "1115                      51.0      0.99512    3.52           0.76   \n",
       "1116                      40.0      0.99574    3.42           0.75   \n",
       "1117                      44.0      0.99547    3.57           0.71   \n",
       "\n",
       "      \"\"alcohol\"\" \"\"quality\"\"\"  \n",
       "1113          9.5          bad  \n",
       "1114         10.5          bad  \n",
       "1115         11.2          bad  \n",
       "1116         11.0          bad  \n",
       "1117         10.2          bad  "
      ]
     },
     "execution_count": 44,
     "metadata": {},
     "output_type": "execute_result"
    }
   ],
   "source": [
    "train_data.tail()"
   ]
  },
  {
   "cell_type": "code",
   "execution_count": 45,
   "metadata": {},
   "outputs": [
    {
     "data": {
      "text/plain": [
       "bad     955\n",
       "good    163\n",
       "Name: \"\"quality\"\"\", dtype: int64"
      ]
     },
     "execution_count": 45,
     "metadata": {},
     "output_type": "execute_result"
    }
   ],
   "source": [
    "train_data['\"\"quality\"\"\"'].value_counts()"
   ]
  },
  {
   "cell_type": "code",
   "execution_count": 46,
   "metadata": {},
   "outputs": [
    {
     "data": {
      "text/plain": [
       "<matplotlib.axes._subplots.AxesSubplot at 0x200f3912b48>"
      ]
     },
     "execution_count": 46,
     "metadata": {},
     "output_type": "execute_result"
    },
    {
     "data": {
      "image/png": "[encoded data removed]",
      "text/plain": [
       "<Figure size 864x576 with 1 Axes>"
      ]
     },
     "metadata": {
      "needs_background": "light"
     },
     "output_type": "display_data"
    }
   ],
   "source": [
    "sns.countplot(train_data['\"\"quality\"\"\"'])"
   ]
  },
  {
   "cell_type": "code",
   "execution_count": 47,
   "metadata": {},
   "outputs": [
    {
     "data": {
      "text/plain": [
       "<matplotlib.axes._subplots.AxesSubplot at 0x200f3c8c308>"
      ]
     },
     "execution_count": 47,
     "metadata": {},
     "output_type": "execute_result"
    },
    {
     "data": {
      "image/png": "[encoded data removed]",
      "text/plain": [
       "<Figure size 864x576 with 1 Axes>"
      ]
     },
     "metadata": {
      "needs_background": "light"
     },
     "output_type": "display_data"
    }
   ],
   "source": [
    "sns.countplot(test_data['\"\"quality\"\"\"'])"
   ]
  },
  {
   "cell_type": "code",
   "execution_count": 48,
   "metadata": {},
   "outputs": [],
   "source": [
    "from sklearn.preprocessing import StandardScaler, LabelEncoder"
   ]
  },
  {
   "cell_type": "code",
   "execution_count": 49,
   "metadata": {},
   "outputs": [],
   "source": [
    "label_quality = LabelEncoder()"
   ]
  },
  {
   "cell_type": "code",
   "execution_count": 50,
   "metadata": {},
   "outputs": [],
   "source": [
    "train_data['\"\"quality\"\"\"'] = label_quality.fit_transform(train_data['\"\"quality\"\"\"'])"
   ]
  },
  {
   "cell_type": "code",
   "execution_count": 51,
   "metadata": {},
   "outputs": [],
   "source": [
    "test_data['\"\"quality\"\"\"'] = label_quality.fit_transform(test_data['\"\"quality\"\"\"'])"
   ]
  },
  {
   "cell_type": "code",
   "execution_count": 52,
   "metadata": {},
   "outputs": [
    {
     "data": {
      "text/html": [
       "<div>\n",
       "<style scoped>\n",
       "    .dataframe tbody tr th:only-of-type {\n",
       "        vertical-align: middle;\n",
       "    }\n",
       "\n",
       "    .dataframe tbody tr th {\n",
       "        vertical-align: top;\n",
       "    }\n",
       "\n",
       "    .dataframe thead th {\n",
       "        text-align: right;\n",
       "    }\n",
       "</style>\n",
       "<table border=\"1\" class=\"dataframe\">\n",
       "  <thead>\n",
       "    <tr style=\"text-align: right;\">\n",
       "      <th></th>\n",
       "      <th>\"fixed acidity</th>\n",
       "      <th>\"\"volatile acidity\"\"</th>\n",
       "      <th>\"\"citric acid\"\"</th>\n",
       "      <th>\"\"residual sugar\"\"</th>\n",
       "      <th>\"\"chlorides\"\"</th>\n",
       "      <th>\"\"free sulfur dioxide\"\"</th>\n",
       "      <th>\"\"total sulfur dioxide\"\"</th>\n",
       "      <th>\"\"density\"\"</th>\n",
       "      <th>\"\"pH\"\"</th>\n",
       "      <th>\"\"sulphates\"\"</th>\n",
       "      <th>\"\"alcohol\"\"</th>\n",
       "      <th>\"\"quality\"\"\"</th>\n",
       "    </tr>\n",
       "  </thead>\n",
       "  <tbody>\n",
       "    <tr>\n",
       "      <th>0</th>\n",
       "      <td>10.6</td>\n",
       "      <td>0.280</td>\n",
       "      <td>0.39</td>\n",
       "      <td>15.50</td>\n",
       "      <td>0.069</td>\n",
       "      <td>6.0</td>\n",
       "      <td>23.0</td>\n",
       "      <td>1.0026</td>\n",
       "      <td>3.12</td>\n",
       "      <td>0.66</td>\n",
       "      <td>9.2</td>\n",
       "      <td>0</td>\n",
       "    </tr>\n",
       "    <tr>\n",
       "      <th>1</th>\n",
       "      <td>9.4</td>\n",
       "      <td>0.300</td>\n",
       "      <td>0.56</td>\n",
       "      <td>2.80</td>\n",
       "      <td>0.080</td>\n",
       "      <td>6.0</td>\n",
       "      <td>17.0</td>\n",
       "      <td>0.9964</td>\n",
       "      <td>3.15</td>\n",
       "      <td>0.92</td>\n",
       "      <td>11.7</td>\n",
       "      <td>1</td>\n",
       "    </tr>\n",
       "    <tr>\n",
       "      <th>2</th>\n",
       "      <td>10.6</td>\n",
       "      <td>0.360</td>\n",
       "      <td>0.59</td>\n",
       "      <td>2.20</td>\n",
       "      <td>0.152</td>\n",
       "      <td>6.0</td>\n",
       "      <td>18.0</td>\n",
       "      <td>0.9986</td>\n",
       "      <td>3.04</td>\n",
       "      <td>1.05</td>\n",
       "      <td>9.4</td>\n",
       "      <td>0</td>\n",
       "    </tr>\n",
       "    <tr>\n",
       "      <th>3</th>\n",
       "      <td>10.6</td>\n",
       "      <td>0.360</td>\n",
       "      <td>0.60</td>\n",
       "      <td>2.20</td>\n",
       "      <td>0.152</td>\n",
       "      <td>7.0</td>\n",
       "      <td>18.0</td>\n",
       "      <td>0.9986</td>\n",
       "      <td>3.04</td>\n",
       "      <td>1.06</td>\n",
       "      <td>9.4</td>\n",
       "      <td>0</td>\n",
       "    </tr>\n",
       "    <tr>\n",
       "      <th>4</th>\n",
       "      <td>10.6</td>\n",
       "      <td>0.440</td>\n",
       "      <td>0.68</td>\n",
       "      <td>4.10</td>\n",
       "      <td>0.114</td>\n",
       "      <td>6.0</td>\n",
       "      <td>24.0</td>\n",
       "      <td>0.9970</td>\n",
       "      <td>3.06</td>\n",
       "      <td>0.66</td>\n",
       "      <td>13.4</td>\n",
       "      <td>0</td>\n",
       "    </tr>\n",
       "    <tr>\n",
       "      <th>5</th>\n",
       "      <td>10.2</td>\n",
       "      <td>0.670</td>\n",
       "      <td>0.39</td>\n",
       "      <td>1.90</td>\n",
       "      <td>0.054</td>\n",
       "      <td>6.0</td>\n",
       "      <td>17.0</td>\n",
       "      <td>0.9976</td>\n",
       "      <td>3.17</td>\n",
       "      <td>0.47</td>\n",
       "      <td>10.0</td>\n",
       "      <td>0</td>\n",
       "    </tr>\n",
       "    <tr>\n",
       "      <th>6</th>\n",
       "      <td>10.2</td>\n",
       "      <td>0.670</td>\n",
       "      <td>0.39</td>\n",
       "      <td>1.90</td>\n",
       "      <td>0.054</td>\n",
       "      <td>6.0</td>\n",
       "      <td>17.0</td>\n",
       "      <td>0.9976</td>\n",
       "      <td>3.17</td>\n",
       "      <td>0.47</td>\n",
       "      <td>10.0</td>\n",
       "      <td>0</td>\n",
       "    </tr>\n",
       "    <tr>\n",
       "      <th>7</th>\n",
       "      <td>10.2</td>\n",
       "      <td>0.645</td>\n",
       "      <td>0.36</td>\n",
       "      <td>1.80</td>\n",
       "      <td>0.053</td>\n",
       "      <td>5.0</td>\n",
       "      <td>14.0</td>\n",
       "      <td>0.9982</td>\n",
       "      <td>3.17</td>\n",
       "      <td>0.42</td>\n",
       "      <td>10.0</td>\n",
       "      <td>0</td>\n",
       "    </tr>\n",
       "    <tr>\n",
       "      <th>8</th>\n",
       "      <td>11.6</td>\n",
       "      <td>0.320</td>\n",
       "      <td>0.55</td>\n",
       "      <td>2.80</td>\n",
       "      <td>0.081</td>\n",
       "      <td>35.0</td>\n",
       "      <td>67.0</td>\n",
       "      <td>1.0002</td>\n",
       "      <td>3.32</td>\n",
       "      <td>0.92</td>\n",
       "      <td>10.8</td>\n",
       "      <td>1</td>\n",
       "    </tr>\n",
       "    <tr>\n",
       "      <th>9</th>\n",
       "      <td>9.3</td>\n",
       "      <td>0.390</td>\n",
       "      <td>0.40</td>\n",
       "      <td>2.60</td>\n",
       "      <td>0.073</td>\n",
       "      <td>10.0</td>\n",
       "      <td>26.0</td>\n",
       "      <td>0.9984</td>\n",
       "      <td>3.34</td>\n",
       "      <td>0.75</td>\n",
       "      <td>10.2</td>\n",
       "      <td>0</td>\n",
       "    </tr>\n",
       "    <tr>\n",
       "      <th>10</th>\n",
       "      <td>9.3</td>\n",
       "      <td>0.775</td>\n",
       "      <td>0.27</td>\n",
       "      <td>2.80</td>\n",
       "      <td>0.078</td>\n",
       "      <td>24.0</td>\n",
       "      <td>56.0</td>\n",
       "      <td>0.9984</td>\n",
       "      <td>3.31</td>\n",
       "      <td>0.67</td>\n",
       "      <td>10.6</td>\n",
       "      <td>0</td>\n",
       "    </tr>\n",
       "    <tr>\n",
       "      <th>11</th>\n",
       "      <td>9.2</td>\n",
       "      <td>0.410</td>\n",
       "      <td>0.50</td>\n",
       "      <td>2.50</td>\n",
       "      <td>0.055</td>\n",
       "      <td>12.0</td>\n",
       "      <td>25.0</td>\n",
       "      <td>0.9952</td>\n",
       "      <td>3.34</td>\n",
       "      <td>0.79</td>\n",
       "      <td>13.3</td>\n",
       "      <td>1</td>\n",
       "    </tr>\n",
       "    <tr>\n",
       "      <th>12</th>\n",
       "      <td>8.9</td>\n",
       "      <td>0.400</td>\n",
       "      <td>0.51</td>\n",
       "      <td>2.60</td>\n",
       "      <td>0.052</td>\n",
       "      <td>13.0</td>\n",
       "      <td>27.0</td>\n",
       "      <td>0.9950</td>\n",
       "      <td>3.32</td>\n",
       "      <td>0.90</td>\n",
       "      <td>13.4</td>\n",
       "      <td>1</td>\n",
       "    </tr>\n",
       "    <tr>\n",
       "      <th>13</th>\n",
       "      <td>8.7</td>\n",
       "      <td>0.690</td>\n",
       "      <td>0.31</td>\n",
       "      <td>3.00</td>\n",
       "      <td>0.086</td>\n",
       "      <td>23.0</td>\n",
       "      <td>81.0</td>\n",
       "      <td>1.0002</td>\n",
       "      <td>3.48</td>\n",
       "      <td>0.74</td>\n",
       "      <td>11.6</td>\n",
       "      <td>0</td>\n",
       "    </tr>\n",
       "    <tr>\n",
       "      <th>14</th>\n",
       "      <td>6.5</td>\n",
       "      <td>0.390</td>\n",
       "      <td>0.23</td>\n",
       "      <td>8.30</td>\n",
       "      <td>0.051</td>\n",
       "      <td>28.0</td>\n",
       "      <td>91.0</td>\n",
       "      <td>0.9952</td>\n",
       "      <td>3.44</td>\n",
       "      <td>0.55</td>\n",
       "      <td>12.1</td>\n",
       "      <td>0</td>\n",
       "    </tr>\n",
       "    <tr>\n",
       "      <th>15</th>\n",
       "      <td>10.7</td>\n",
       "      <td>0.350</td>\n",
       "      <td>0.53</td>\n",
       "      <td>2.60</td>\n",
       "      <td>0.070</td>\n",
       "      <td>5.0</td>\n",
       "      <td>16.0</td>\n",
       "      <td>0.9972</td>\n",
       "      <td>3.15</td>\n",
       "      <td>0.65</td>\n",
       "      <td>11.0</td>\n",
       "      <td>1</td>\n",
       "    </tr>\n",
       "    <tr>\n",
       "      <th>16</th>\n",
       "      <td>7.8</td>\n",
       "      <td>0.520</td>\n",
       "      <td>0.25</td>\n",
       "      <td>1.90</td>\n",
       "      <td>0.081</td>\n",
       "      <td>14.0</td>\n",
       "      <td>38.0</td>\n",
       "      <td>0.9984</td>\n",
       "      <td>3.43</td>\n",
       "      <td>0.65</td>\n",
       "      <td>9.0</td>\n",
       "      <td>0</td>\n",
       "    </tr>\n",
       "    <tr>\n",
       "      <th>17</th>\n",
       "      <td>7.2</td>\n",
       "      <td>0.340</td>\n",
       "      <td>0.32</td>\n",
       "      <td>2.50</td>\n",
       "      <td>0.090</td>\n",
       "      <td>43.0</td>\n",
       "      <td>113.0</td>\n",
       "      <td>0.9966</td>\n",
       "      <td>3.32</td>\n",
       "      <td>0.79</td>\n",
       "      <td>11.1</td>\n",
       "      <td>0</td>\n",
       "    </tr>\n",
       "    <tr>\n",
       "      <th>18</th>\n",
       "      <td>10.7</td>\n",
       "      <td>0.350</td>\n",
       "      <td>0.53</td>\n",
       "      <td>2.60</td>\n",
       "      <td>0.070</td>\n",
       "      <td>5.0</td>\n",
       "      <td>16.0</td>\n",
       "      <td>0.9972</td>\n",
       "      <td>3.15</td>\n",
       "      <td>0.65</td>\n",
       "      <td>11.0</td>\n",
       "      <td>1</td>\n",
       "    </tr>\n",
       "    <tr>\n",
       "      <th>19</th>\n",
       "      <td>8.7</td>\n",
       "      <td>0.690</td>\n",
       "      <td>0.31</td>\n",
       "      <td>3.00</td>\n",
       "      <td>0.086</td>\n",
       "      <td>23.0</td>\n",
       "      <td>81.0</td>\n",
       "      <td>1.0002</td>\n",
       "      <td>3.48</td>\n",
       "      <td>0.74</td>\n",
       "      <td>11.6</td>\n",
       "      <td>0</td>\n",
       "    </tr>\n",
       "    <tr>\n",
       "      <th>20</th>\n",
       "      <td>7.8</td>\n",
       "      <td>0.520</td>\n",
       "      <td>0.25</td>\n",
       "      <td>1.90</td>\n",
       "      <td>0.081</td>\n",
       "      <td>14.0</td>\n",
       "      <td>38.0</td>\n",
       "      <td>0.9984</td>\n",
       "      <td>3.43</td>\n",
       "      <td>0.65</td>\n",
       "      <td>9.0</td>\n",
       "      <td>0</td>\n",
       "    </tr>\n",
       "    <tr>\n",
       "      <th>21</th>\n",
       "      <td>10.4</td>\n",
       "      <td>0.440</td>\n",
       "      <td>0.73</td>\n",
       "      <td>6.55</td>\n",
       "      <td>0.074</td>\n",
       "      <td>38.0</td>\n",
       "      <td>76.0</td>\n",
       "      <td>0.9990</td>\n",
       "      <td>3.17</td>\n",
       "      <td>0.85</td>\n",
       "      <td>12.0</td>\n",
       "      <td>1</td>\n",
       "    </tr>\n",
       "    <tr>\n",
       "      <th>22</th>\n",
       "      <td>10.4</td>\n",
       "      <td>0.440</td>\n",
       "      <td>0.73</td>\n",
       "      <td>6.55</td>\n",
       "      <td>0.074</td>\n",
       "      <td>38.0</td>\n",
       "      <td>76.0</td>\n",
       "      <td>0.9990</td>\n",
       "      <td>3.17</td>\n",
       "      <td>0.85</td>\n",
       "      <td>12.0</td>\n",
       "      <td>1</td>\n",
       "    </tr>\n",
       "    <tr>\n",
       "      <th>23</th>\n",
       "      <td>10.5</td>\n",
       "      <td>0.260</td>\n",
       "      <td>0.47</td>\n",
       "      <td>1.90</td>\n",
       "      <td>0.078</td>\n",
       "      <td>6.0</td>\n",
       "      <td>24.0</td>\n",
       "      <td>0.9976</td>\n",
       "      <td>3.18</td>\n",
       "      <td>1.04</td>\n",
       "      <td>10.9</td>\n",
       "      <td>1</td>\n",
       "    </tr>\n",
       "    <tr>\n",
       "      <th>24</th>\n",
       "      <td>10.5</td>\n",
       "      <td>0.240</td>\n",
       "      <td>0.42</td>\n",
       "      <td>1.80</td>\n",
       "      <td>0.077</td>\n",
       "      <td>6.0</td>\n",
       "      <td>22.0</td>\n",
       "      <td>0.9976</td>\n",
       "      <td>3.21</td>\n",
       "      <td>1.05</td>\n",
       "      <td>10.8</td>\n",
       "      <td>1</td>\n",
       "    </tr>\n",
       "    <tr>\n",
       "      <th>25</th>\n",
       "      <td>10.2</td>\n",
       "      <td>0.490</td>\n",
       "      <td>0.63</td>\n",
       "      <td>2.90</td>\n",
       "      <td>0.072</td>\n",
       "      <td>10.0</td>\n",
       "      <td>26.0</td>\n",
       "      <td>0.9968</td>\n",
       "      <td>3.16</td>\n",
       "      <td>0.78</td>\n",
       "      <td>12.5</td>\n",
       "      <td>1</td>\n",
       "    </tr>\n",
       "    <tr>\n",
       "      <th>26</th>\n",
       "      <td>10.4</td>\n",
       "      <td>0.240</td>\n",
       "      <td>0.46</td>\n",
       "      <td>1.80</td>\n",
       "      <td>0.075</td>\n",
       "      <td>6.0</td>\n",
       "      <td>21.0</td>\n",
       "      <td>0.9976</td>\n",
       "      <td>3.25</td>\n",
       "      <td>1.02</td>\n",
       "      <td>10.8</td>\n",
       "      <td>1</td>\n",
       "    </tr>\n",
       "    <tr>\n",
       "      <th>27</th>\n",
       "      <td>11.2</td>\n",
       "      <td>0.670</td>\n",
       "      <td>0.55</td>\n",
       "      <td>2.30</td>\n",
       "      <td>0.084</td>\n",
       "      <td>6.0</td>\n",
       "      <td>13.0</td>\n",
       "      <td>1.0000</td>\n",
       "      <td>3.17</td>\n",
       "      <td>0.71</td>\n",
       "      <td>9.5</td>\n",
       "      <td>0</td>\n",
       "    </tr>\n",
       "    <tr>\n",
       "      <th>28</th>\n",
       "      <td>10.0</td>\n",
       "      <td>0.590</td>\n",
       "      <td>0.31</td>\n",
       "      <td>2.20</td>\n",
       "      <td>0.090</td>\n",
       "      <td>26.0</td>\n",
       "      <td>62.0</td>\n",
       "      <td>0.9994</td>\n",
       "      <td>3.18</td>\n",
       "      <td>0.63</td>\n",
       "      <td>10.2</td>\n",
       "      <td>0</td>\n",
       "    </tr>\n",
       "    <tr>\n",
       "      <th>29</th>\n",
       "      <td>13.3</td>\n",
       "      <td>0.290</td>\n",
       "      <td>0.75</td>\n",
       "      <td>2.80</td>\n",
       "      <td>0.084</td>\n",
       "      <td>23.0</td>\n",
       "      <td>43.0</td>\n",
       "      <td>0.9986</td>\n",
       "      <td>3.04</td>\n",
       "      <td>0.68</td>\n",
       "      <td>11.4</td>\n",
       "      <td>1</td>\n",
       "    </tr>\n",
       "    <tr>\n",
       "      <th>30</th>\n",
       "      <td>12.4</td>\n",
       "      <td>0.420</td>\n",
       "      <td>0.49</td>\n",
       "      <td>4.60</td>\n",
       "      <td>0.073</td>\n",
       "      <td>19.0</td>\n",
       "      <td>43.0</td>\n",
       "      <td>0.9978</td>\n",
       "      <td>3.02</td>\n",
       "      <td>0.61</td>\n",
       "      <td>9.5</td>\n",
       "      <td>0</td>\n",
       "    </tr>\n",
       "    <tr>\n",
       "      <th>31</th>\n",
       "      <td>10.0</td>\n",
       "      <td>0.590</td>\n",
       "      <td>0.31</td>\n",
       "      <td>2.20</td>\n",
       "      <td>0.090</td>\n",
       "      <td>26.0</td>\n",
       "      <td>62.0</td>\n",
       "      <td>0.9994</td>\n",
       "      <td>3.18</td>\n",
       "      <td>0.63</td>\n",
       "      <td>10.2</td>\n",
       "      <td>0</td>\n",
       "    </tr>\n",
       "    <tr>\n",
       "      <th>32</th>\n",
       "      <td>10.7</td>\n",
       "      <td>0.400</td>\n",
       "      <td>0.48</td>\n",
       "      <td>2.10</td>\n",
       "      <td>0.125</td>\n",
       "      <td>15.0</td>\n",
       "      <td>49.0</td>\n",
       "      <td>0.9980</td>\n",
       "      <td>3.03</td>\n",
       "      <td>0.81</td>\n",
       "      <td>9.7</td>\n",
       "      <td>0</td>\n",
       "    </tr>\n",
       "    <tr>\n",
       "      <th>33</th>\n",
       "      <td>10.5</td>\n",
       "      <td>0.510</td>\n",
       "      <td>0.64</td>\n",
       "      <td>2.40</td>\n",
       "      <td>0.107</td>\n",
       "      <td>6.0</td>\n",
       "      <td>15.0</td>\n",
       "      <td>0.9973</td>\n",
       "      <td>3.09</td>\n",
       "      <td>0.66</td>\n",
       "      <td>11.8</td>\n",
       "      <td>1</td>\n",
       "    </tr>\n",
       "    <tr>\n",
       "      <th>34</th>\n",
       "      <td>10.5</td>\n",
       "      <td>0.510</td>\n",
       "      <td>0.64</td>\n",
       "      <td>2.40</td>\n",
       "      <td>0.107</td>\n",
       "      <td>6.0</td>\n",
       "      <td>15.0</td>\n",
       "      <td>0.9973</td>\n",
       "      <td>3.09</td>\n",
       "      <td>0.66</td>\n",
       "      <td>11.8</td>\n",
       "      <td>1</td>\n",
       "    </tr>\n",
       "  </tbody>\n",
       "</table>\n",
       "</div>"
      ],
      "text/plain": [
       "    \"fixed acidity  \"\"volatile acidity\"\"  \"\"citric acid\"\"  \"\"residual sugar\"\"  \\\n",
       "0             10.6                 0.280             0.39               15.50   \n",
       "1              9.4                 0.300             0.56                2.80   \n",
       "2             10.6                 0.360             0.59                2.20   \n",
       "3             10.6                 0.360             0.60                2.20   \n",
       "4             10.6                 0.440             0.68                4.10   \n",
       "5             10.2                 0.670             0.39                1.90   \n",
       "6             10.2                 0.670             0.39                1.90   \n",
       "7             10.2                 0.645             0.36                1.80   \n",
       "8             11.6                 0.320             0.55                2.80   \n",
       "9              9.3                 0.390             0.40                2.60   \n",
       "10             9.3                 0.775             0.27                2.80   \n",
       "11             9.2                 0.410             0.50                2.50   \n",
       "12             8.9                 0.400             0.51                2.60   \n",
       "13             8.7                 0.690             0.31                3.00   \n",
       "14             6.5                 0.390             0.23                8.30   \n",
       "15            10.7                 0.350             0.53                2.60   \n",
       "16             7.8                 0.520             0.25                1.90   \n",
       "17             7.2                 0.340             0.32                2.50   \n",
       "18            10.7                 0.350             0.53                2.60   \n",
       "19             8.7                 0.690             0.31                3.00   \n",
       "20             7.8                 0.520             0.25                1.90   \n",
       "21            10.4                 0.440             0.73                6.55   \n",
       "22            10.4                 0.440             0.73                6.55   \n",
       "23            10.5                 0.260             0.47                1.90   \n",
       "24            10.5                 0.240             0.42                1.80   \n",
       "25            10.2                 0.490             0.63                2.90   \n",
       "26            10.4                 0.240             0.46                1.80   \n",
       "27            11.2                 0.670             0.55                2.30   \n",
       "28            10.0                 0.590             0.31                2.20   \n",
       "29            13.3                 0.290             0.75                2.80   \n",
       "30            12.4                 0.420             0.49                4.60   \n",
       "31            10.0                 0.590             0.31                2.20   \n",
       "32            10.7                 0.400             0.48                2.10   \n",
       "33            10.5                 0.510             0.64                2.40   \n",
       "34            10.5                 0.510             0.64                2.40   \n",
       "\n",
       "    \"\"chlorides\"\"  \"\"free sulfur dioxide\"\"  \"\"total sulfur dioxide\"\"  \\\n",
       "0           0.069                      6.0                      23.0   \n",
       "1           0.080                      6.0                      17.0   \n",
       "2           0.152                      6.0                      18.0   \n",
       "3           0.152                      7.0                      18.0   \n",
       "4           0.114                      6.0                      24.0   \n",
       "5           0.054                      6.0                      17.0   \n",
       "6           0.054                      6.0                      17.0   \n",
       "7           0.053                      5.0                      14.0   \n",
       "8           0.081                     35.0                      67.0   \n",
       "9           0.073                     10.0                      26.0   \n",
       "10          0.078                     24.0                      56.0   \n",
       "11          0.055                     12.0                      25.0   \n",
       "12          0.052                     13.0                      27.0   \n",
       "13          0.086                     23.0                      81.0   \n",
       "14          0.051                     28.0                      91.0   \n",
       "15          0.070                      5.0                      16.0   \n",
       "16          0.081                     14.0                      38.0   \n",
       "17          0.090                     43.0                     113.0   \n",
       "18          0.070                      5.0                      16.0   \n",
       "19          0.086                     23.0                      81.0   \n",
       "20          0.081                     14.0                      38.0   \n",
       "21          0.074                     38.0                      76.0   \n",
       "22          0.074                     38.0                      76.0   \n",
       "23          0.078                      6.0                      24.0   \n",
       "24          0.077                      6.0                      22.0   \n",
       "25          0.072                     10.0                      26.0   \n",
       "26          0.075                      6.0                      21.0   \n",
       "27          0.084                      6.0                      13.0   \n",
       "28          0.090                     26.0                      62.0   \n",
       "29          0.084                     23.0                      43.0   \n",
       "30          0.073                     19.0                      43.0   \n",
       "31          0.090                     26.0                      62.0   \n",
       "32          0.125                     15.0                      49.0   \n",
       "33          0.107                      6.0                      15.0   \n",
       "34          0.107                      6.0                      15.0   \n",
       "\n",
       "    \"\"density\"\"  \"\"pH\"\"  \"\"sulphates\"\"  \"\"alcohol\"\"  \"\"quality\"\"\"  \n",
       "0        1.0026    3.12           0.66          9.2             0  \n",
       "1        0.9964    3.15           0.92         11.7             1  \n",
       "2        0.9986    3.04           1.05          9.4             0  \n",
       "3        0.9986    3.04           1.06          9.4             0  \n",
       "4        0.9970    3.06           0.66         13.4             0  \n",
       "5        0.9976    3.17           0.47         10.0             0  \n",
       "6        0.9976    3.17           0.47         10.0             0  \n",
       "7        0.9982    3.17           0.42         10.0             0  \n",
       "8        1.0002    3.32           0.92         10.8             1  \n",
       "9        0.9984    3.34           0.75         10.2             0  \n",
       "10       0.9984    3.31           0.67         10.6             0  \n",
       "11       0.9952    3.34           0.79         13.3             1  \n",
       "12       0.9950    3.32           0.90         13.4             1  \n",
       "13       1.0002    3.48           0.74         11.6             0  \n",
       "14       0.9952    3.44           0.55         12.1             0  \n",
       "15       0.9972    3.15           0.65         11.0             1  \n",
       "16       0.9984    3.43           0.65          9.0             0  \n",
       "17       0.9966    3.32           0.79         11.1             0  \n",
       "18       0.9972    3.15           0.65         11.0             1  \n",
       "19       1.0002    3.48           0.74         11.6             0  \n",
       "20       0.9984    3.43           0.65          9.0             0  \n",
       "21       0.9990    3.17           0.85         12.0             1  \n",
       "22       0.9990    3.17           0.85         12.0             1  \n",
       "23       0.9976    3.18           1.04         10.9             1  \n",
       "24       0.9976    3.21           1.05         10.8             1  \n",
       "25       0.9968    3.16           0.78         12.5             1  \n",
       "26       0.9976    3.25           1.02         10.8             1  \n",
       "27       1.0000    3.17           0.71          9.5             0  \n",
       "28       0.9994    3.18           0.63         10.2             0  \n",
       "29       0.9986    3.04           0.68         11.4             1  \n",
       "30       0.9978    3.02           0.61          9.5             0  \n",
       "31       0.9994    3.18           0.63         10.2             0  \n",
       "32       0.9980    3.03           0.81          9.7             0  \n",
       "33       0.9973    3.09           0.66         11.8             1  \n",
       "34       0.9973    3.09           0.66         11.8             1  "
      ]
     },
     "execution_count": 52,
     "metadata": {},
     "output_type": "execute_result"
    }
   ],
   "source": [
    "train_data.head(35)"
   ]
  },
  {
   "cell_type": "code",
   "execution_count": 53,
   "metadata": {},
   "outputs": [
    {
     "data": {
      "text/html": [
       "<div>\n",
       "<style scoped>\n",
       "    .dataframe tbody tr th:only-of-type {\n",
       "        vertical-align: middle;\n",
       "    }\n",
       "\n",
       "    .dataframe tbody tr th {\n",
       "        vertical-align: top;\n",
       "    }\n",
       "\n",
       "    .dataframe thead th {\n",
       "        text-align: right;\n",
       "    }\n",
       "</style>\n",
       "<table border=\"1\" class=\"dataframe\">\n",
       "  <thead>\n",
       "    <tr style=\"text-align: right;\">\n",
       "      <th></th>\n",
       "      <th>\"fixed acidity</th>\n",
       "      <th>\"\"volatile acidity\"\"</th>\n",
       "      <th>\"\"citric acid\"\"</th>\n",
       "      <th>\"\"residual sugar\"\"</th>\n",
       "      <th>\"\"chlorides\"\"</th>\n",
       "      <th>\"\"free sulfur dioxide\"\"</th>\n",
       "      <th>\"\"total sulfur dioxide\"\"</th>\n",
       "      <th>\"\"density\"\"</th>\n",
       "      <th>\"\"pH\"\"</th>\n",
       "      <th>\"\"sulphates\"\"</th>\n",
       "      <th>\"\"alcohol\"\"</th>\n",
       "      <th>\"\"quality\"\"\"</th>\n",
       "    </tr>\n",
       "  </thead>\n",
       "  <tbody>\n",
       "    <tr>\n",
       "      <th>0</th>\n",
       "      <td>7.4</td>\n",
       "      <td>0.700</td>\n",
       "      <td>0.00</td>\n",
       "      <td>1.9</td>\n",
       "      <td>0.076</td>\n",
       "      <td>11.0</td>\n",
       "      <td>34</td>\n",
       "      <td>0.9978</td>\n",
       "      <td>3.51</td>\n",
       "      <td>0.56</td>\n",
       "      <td>9.4</td>\n",
       "      <td>0</td>\n",
       "    </tr>\n",
       "    <tr>\n",
       "      <th>1</th>\n",
       "      <td>7.8</td>\n",
       "      <td>0.880</td>\n",
       "      <td>0.00</td>\n",
       "      <td>2.6</td>\n",
       "      <td>0.098</td>\n",
       "      <td>25.0</td>\n",
       "      <td>67</td>\n",
       "      <td>0.9968</td>\n",
       "      <td>3.20</td>\n",
       "      <td>0.68</td>\n",
       "      <td>9.8</td>\n",
       "      <td>0</td>\n",
       "    </tr>\n",
       "    <tr>\n",
       "      <th>2</th>\n",
       "      <td>7.8</td>\n",
       "      <td>0.760</td>\n",
       "      <td>0.04</td>\n",
       "      <td>2.3</td>\n",
       "      <td>0.092</td>\n",
       "      <td>15.0</td>\n",
       "      <td>54</td>\n",
       "      <td>0.9970</td>\n",
       "      <td>3.26</td>\n",
       "      <td>0.65</td>\n",
       "      <td>9.8</td>\n",
       "      <td>0</td>\n",
       "    </tr>\n",
       "    <tr>\n",
       "      <th>3</th>\n",
       "      <td>11.2</td>\n",
       "      <td>0.280</td>\n",
       "      <td>0.56</td>\n",
       "      <td>1.9</td>\n",
       "      <td>0.075</td>\n",
       "      <td>17.0</td>\n",
       "      <td>60</td>\n",
       "      <td>0.9980</td>\n",
       "      <td>3.16</td>\n",
       "      <td>0.58</td>\n",
       "      <td>9.8</td>\n",
       "      <td>0</td>\n",
       "    </tr>\n",
       "    <tr>\n",
       "      <th>4</th>\n",
       "      <td>7.4</td>\n",
       "      <td>0.700</td>\n",
       "      <td>0.00</td>\n",
       "      <td>1.9</td>\n",
       "      <td>0.076</td>\n",
       "      <td>11.0</td>\n",
       "      <td>34</td>\n",
       "      <td>0.9978</td>\n",
       "      <td>3.51</td>\n",
       "      <td>0.56</td>\n",
       "      <td>9.4</td>\n",
       "      <td>0</td>\n",
       "    </tr>\n",
       "    <tr>\n",
       "      <th>5</th>\n",
       "      <td>7.4</td>\n",
       "      <td>0.660</td>\n",
       "      <td>0.00</td>\n",
       "      <td>1.8</td>\n",
       "      <td>0.075</td>\n",
       "      <td>13.0</td>\n",
       "      <td>40</td>\n",
       "      <td>0.9978</td>\n",
       "      <td>3.51</td>\n",
       "      <td>0.56</td>\n",
       "      <td>9.4</td>\n",
       "      <td>0</td>\n",
       "    </tr>\n",
       "    <tr>\n",
       "      <th>6</th>\n",
       "      <td>7.9</td>\n",
       "      <td>0.600</td>\n",
       "      <td>0.06</td>\n",
       "      <td>1.6</td>\n",
       "      <td>0.069</td>\n",
       "      <td>15.0</td>\n",
       "      <td>59</td>\n",
       "      <td>0.9964</td>\n",
       "      <td>3.30</td>\n",
       "      <td>0.46</td>\n",
       "      <td>9.4</td>\n",
       "      <td>0</td>\n",
       "    </tr>\n",
       "    <tr>\n",
       "      <th>7</th>\n",
       "      <td>7.3</td>\n",
       "      <td>0.650</td>\n",
       "      <td>0.00</td>\n",
       "      <td>1.2</td>\n",
       "      <td>0.065</td>\n",
       "      <td>15.0</td>\n",
       "      <td>21</td>\n",
       "      <td>0.9946</td>\n",
       "      <td>3.39</td>\n",
       "      <td>0.47</td>\n",
       "      <td>10.0</td>\n",
       "      <td>1</td>\n",
       "    </tr>\n",
       "    <tr>\n",
       "      <th>8</th>\n",
       "      <td>7.8</td>\n",
       "      <td>0.580</td>\n",
       "      <td>0.02</td>\n",
       "      <td>2.0</td>\n",
       "      <td>0.073</td>\n",
       "      <td>9.0</td>\n",
       "      <td>18</td>\n",
       "      <td>0.9968</td>\n",
       "      <td>3.36</td>\n",
       "      <td>0.57</td>\n",
       "      <td>9.5</td>\n",
       "      <td>1</td>\n",
       "    </tr>\n",
       "    <tr>\n",
       "      <th>9</th>\n",
       "      <td>7.5</td>\n",
       "      <td>0.500</td>\n",
       "      <td>0.36</td>\n",
       "      <td>6.1</td>\n",
       "      <td>0.071</td>\n",
       "      <td>17.0</td>\n",
       "      <td>102</td>\n",
       "      <td>0.9978</td>\n",
       "      <td>3.35</td>\n",
       "      <td>0.80</td>\n",
       "      <td>10.5</td>\n",
       "      <td>0</td>\n",
       "    </tr>\n",
       "    <tr>\n",
       "      <th>10</th>\n",
       "      <td>6.7</td>\n",
       "      <td>0.580</td>\n",
       "      <td>0.08</td>\n",
       "      <td>1.8</td>\n",
       "      <td>0.097</td>\n",
       "      <td>15.0</td>\n",
       "      <td>65</td>\n",
       "      <td>0.9959</td>\n",
       "      <td>3.28</td>\n",
       "      <td>0.54</td>\n",
       "      <td>9.2</td>\n",
       "      <td>0</td>\n",
       "    </tr>\n",
       "    <tr>\n",
       "      <th>11</th>\n",
       "      <td>7.5</td>\n",
       "      <td>0.500</td>\n",
       "      <td>0.36</td>\n",
       "      <td>6.1</td>\n",
       "      <td>0.071</td>\n",
       "      <td>17.0</td>\n",
       "      <td>102</td>\n",
       "      <td>0.9978</td>\n",
       "      <td>3.35</td>\n",
       "      <td>0.80</td>\n",
       "      <td>10.5</td>\n",
       "      <td>0</td>\n",
       "    </tr>\n",
       "    <tr>\n",
       "      <th>12</th>\n",
       "      <td>5.6</td>\n",
       "      <td>0.615</td>\n",
       "      <td>0.00</td>\n",
       "      <td>1.6</td>\n",
       "      <td>0.089</td>\n",
       "      <td>16.0</td>\n",
       "      <td>59</td>\n",
       "      <td>0.9943</td>\n",
       "      <td>3.58</td>\n",
       "      <td>0.52</td>\n",
       "      <td>9.9</td>\n",
       "      <td>0</td>\n",
       "    </tr>\n",
       "    <tr>\n",
       "      <th>13</th>\n",
       "      <td>7.8</td>\n",
       "      <td>0.610</td>\n",
       "      <td>0.29</td>\n",
       "      <td>1.6</td>\n",
       "      <td>0.114</td>\n",
       "      <td>9.0</td>\n",
       "      <td>29</td>\n",
       "      <td>0.9974</td>\n",
       "      <td>3.26</td>\n",
       "      <td>1.56</td>\n",
       "      <td>9.1</td>\n",
       "      <td>0</td>\n",
       "    </tr>\n",
       "    <tr>\n",
       "      <th>14</th>\n",
       "      <td>8.9</td>\n",
       "      <td>0.620</td>\n",
       "      <td>0.18</td>\n",
       "      <td>3.8</td>\n",
       "      <td>0.176</td>\n",
       "      <td>52.0</td>\n",
       "      <td>145</td>\n",
       "      <td>0.9986</td>\n",
       "      <td>3.16</td>\n",
       "      <td>0.88</td>\n",
       "      <td>9.2</td>\n",
       "      <td>0</td>\n",
       "    </tr>\n",
       "    <tr>\n",
       "      <th>15</th>\n",
       "      <td>8.9</td>\n",
       "      <td>0.620</td>\n",
       "      <td>0.19</td>\n",
       "      <td>3.9</td>\n",
       "      <td>0.170</td>\n",
       "      <td>51.0</td>\n",
       "      <td>148</td>\n",
       "      <td>0.9986</td>\n",
       "      <td>3.17</td>\n",
       "      <td>0.93</td>\n",
       "      <td>9.2</td>\n",
       "      <td>0</td>\n",
       "    </tr>\n",
       "    <tr>\n",
       "      <th>16</th>\n",
       "      <td>8.5</td>\n",
       "      <td>0.280</td>\n",
       "      <td>0.56</td>\n",
       "      <td>1.8</td>\n",
       "      <td>0.092</td>\n",
       "      <td>35.0</td>\n",
       "      <td>103</td>\n",
       "      <td>0.9969</td>\n",
       "      <td>3.30</td>\n",
       "      <td>0.75</td>\n",
       "      <td>10.5</td>\n",
       "      <td>1</td>\n",
       "    </tr>\n",
       "    <tr>\n",
       "      <th>17</th>\n",
       "      <td>8.1</td>\n",
       "      <td>0.560</td>\n",
       "      <td>0.28</td>\n",
       "      <td>1.7</td>\n",
       "      <td>0.368</td>\n",
       "      <td>16.0</td>\n",
       "      <td>56</td>\n",
       "      <td>0.9968</td>\n",
       "      <td>3.11</td>\n",
       "      <td>1.28</td>\n",
       "      <td>9.3</td>\n",
       "      <td>0</td>\n",
       "    </tr>\n",
       "    <tr>\n",
       "      <th>18</th>\n",
       "      <td>7.4</td>\n",
       "      <td>0.590</td>\n",
       "      <td>0.08</td>\n",
       "      <td>4.4</td>\n",
       "      <td>0.086</td>\n",
       "      <td>6.0</td>\n",
       "      <td>29</td>\n",
       "      <td>0.9974</td>\n",
       "      <td>3.38</td>\n",
       "      <td>0.50</td>\n",
       "      <td>9.0</td>\n",
       "      <td>0</td>\n",
       "    </tr>\n",
       "    <tr>\n",
       "      <th>19</th>\n",
       "      <td>7.9</td>\n",
       "      <td>0.320</td>\n",
       "      <td>0.51</td>\n",
       "      <td>1.8</td>\n",
       "      <td>0.341</td>\n",
       "      <td>17.0</td>\n",
       "      <td>56</td>\n",
       "      <td>0.9969</td>\n",
       "      <td>3.04</td>\n",
       "      <td>1.08</td>\n",
       "      <td>9.2</td>\n",
       "      <td>0</td>\n",
       "    </tr>\n",
       "    <tr>\n",
       "      <th>20</th>\n",
       "      <td>8.9</td>\n",
       "      <td>0.220</td>\n",
       "      <td>0.48</td>\n",
       "      <td>1.8</td>\n",
       "      <td>0.077</td>\n",
       "      <td>29.0</td>\n",
       "      <td>60</td>\n",
       "      <td>0.9968</td>\n",
       "      <td>3.39</td>\n",
       "      <td>0.53</td>\n",
       "      <td>9.4</td>\n",
       "      <td>0</td>\n",
       "    </tr>\n",
       "    <tr>\n",
       "      <th>21</th>\n",
       "      <td>7.6</td>\n",
       "      <td>0.390</td>\n",
       "      <td>0.31</td>\n",
       "      <td>2.3</td>\n",
       "      <td>0.082</td>\n",
       "      <td>23.0</td>\n",
       "      <td>71</td>\n",
       "      <td>0.9982</td>\n",
       "      <td>3.52</td>\n",
       "      <td>0.65</td>\n",
       "      <td>9.7</td>\n",
       "      <td>0</td>\n",
       "    </tr>\n",
       "    <tr>\n",
       "      <th>22</th>\n",
       "      <td>7.9</td>\n",
       "      <td>0.430</td>\n",
       "      <td>0.21</td>\n",
       "      <td>1.6</td>\n",
       "      <td>0.106</td>\n",
       "      <td>10.0</td>\n",
       "      <td>37</td>\n",
       "      <td>0.9966</td>\n",
       "      <td>3.17</td>\n",
       "      <td>0.91</td>\n",
       "      <td>9.5</td>\n",
       "      <td>0</td>\n",
       "    </tr>\n",
       "    <tr>\n",
       "      <th>23</th>\n",
       "      <td>8.5</td>\n",
       "      <td>0.490</td>\n",
       "      <td>0.11</td>\n",
       "      <td>2.3</td>\n",
       "      <td>0.084</td>\n",
       "      <td>9.0</td>\n",
       "      <td>67</td>\n",
       "      <td>0.9968</td>\n",
       "      <td>3.17</td>\n",
       "      <td>0.53</td>\n",
       "      <td>9.4</td>\n",
       "      <td>0</td>\n",
       "    </tr>\n",
       "    <tr>\n",
       "      <th>24</th>\n",
       "      <td>6.9</td>\n",
       "      <td>0.400</td>\n",
       "      <td>0.14</td>\n",
       "      <td>2.4</td>\n",
       "      <td>0.085</td>\n",
       "      <td>21.0</td>\n",
       "      <td>40</td>\n",
       "      <td>0.9968</td>\n",
       "      <td>3.43</td>\n",
       "      <td>0.63</td>\n",
       "      <td>9.7</td>\n",
       "      <td>0</td>\n",
       "    </tr>\n",
       "    <tr>\n",
       "      <th>25</th>\n",
       "      <td>6.3</td>\n",
       "      <td>0.390</td>\n",
       "      <td>0.16</td>\n",
       "      <td>1.4</td>\n",
       "      <td>0.080</td>\n",
       "      <td>11.0</td>\n",
       "      <td>23</td>\n",
       "      <td>0.9955</td>\n",
       "      <td>3.34</td>\n",
       "      <td>0.56</td>\n",
       "      <td>9.3</td>\n",
       "      <td>0</td>\n",
       "    </tr>\n",
       "    <tr>\n",
       "      <th>26</th>\n",
       "      <td>7.6</td>\n",
       "      <td>0.410</td>\n",
       "      <td>0.24</td>\n",
       "      <td>1.8</td>\n",
       "      <td>0.080</td>\n",
       "      <td>4.0</td>\n",
       "      <td>11</td>\n",
       "      <td>0.9962</td>\n",
       "      <td>3.28</td>\n",
       "      <td>0.59</td>\n",
       "      <td>9.5</td>\n",
       "      <td>0</td>\n",
       "    </tr>\n",
       "    <tr>\n",
       "      <th>27</th>\n",
       "      <td>7.9</td>\n",
       "      <td>0.430</td>\n",
       "      <td>0.21</td>\n",
       "      <td>1.6</td>\n",
       "      <td>0.106</td>\n",
       "      <td>10.0</td>\n",
       "      <td>37</td>\n",
       "      <td>0.9966</td>\n",
       "      <td>3.17</td>\n",
       "      <td>0.91</td>\n",
       "      <td>9.5</td>\n",
       "      <td>0</td>\n",
       "    </tr>\n",
       "    <tr>\n",
       "      <th>28</th>\n",
       "      <td>7.1</td>\n",
       "      <td>0.710</td>\n",
       "      <td>0.00</td>\n",
       "      <td>1.9</td>\n",
       "      <td>0.080</td>\n",
       "      <td>14.0</td>\n",
       "      <td>35</td>\n",
       "      <td>0.9972</td>\n",
       "      <td>3.47</td>\n",
       "      <td>0.55</td>\n",
       "      <td>9.4</td>\n",
       "      <td>0</td>\n",
       "    </tr>\n",
       "    <tr>\n",
       "      <th>29</th>\n",
       "      <td>7.8</td>\n",
       "      <td>0.645</td>\n",
       "      <td>0.00</td>\n",
       "      <td>2.0</td>\n",
       "      <td>0.082</td>\n",
       "      <td>8.0</td>\n",
       "      <td>16</td>\n",
       "      <td>0.9964</td>\n",
       "      <td>3.38</td>\n",
       "      <td>0.59</td>\n",
       "      <td>9.8</td>\n",
       "      <td>0</td>\n",
       "    </tr>\n",
       "    <tr>\n",
       "      <th>30</th>\n",
       "      <td>6.7</td>\n",
       "      <td>0.675</td>\n",
       "      <td>0.07</td>\n",
       "      <td>2.4</td>\n",
       "      <td>0.089</td>\n",
       "      <td>17.0</td>\n",
       "      <td>82</td>\n",
       "      <td>0.9958</td>\n",
       "      <td>3.35</td>\n",
       "      <td>0.54</td>\n",
       "      <td>10.1</td>\n",
       "      <td>0</td>\n",
       "    </tr>\n",
       "    <tr>\n",
       "      <th>31</th>\n",
       "      <td>6.9</td>\n",
       "      <td>0.685</td>\n",
       "      <td>0.00</td>\n",
       "      <td>2.5</td>\n",
       "      <td>0.105</td>\n",
       "      <td>22.0</td>\n",
       "      <td>37</td>\n",
       "      <td>0.9966</td>\n",
       "      <td>3.46</td>\n",
       "      <td>0.57</td>\n",
       "      <td>10.6</td>\n",
       "      <td>0</td>\n",
       "    </tr>\n",
       "    <tr>\n",
       "      <th>32</th>\n",
       "      <td>8.3</td>\n",
       "      <td>0.655</td>\n",
       "      <td>0.12</td>\n",
       "      <td>2.3</td>\n",
       "      <td>0.083</td>\n",
       "      <td>15.0</td>\n",
       "      <td>113</td>\n",
       "      <td>0.9966</td>\n",
       "      <td>3.17</td>\n",
       "      <td>0.66</td>\n",
       "      <td>9.8</td>\n",
       "      <td>0</td>\n",
       "    </tr>\n",
       "    <tr>\n",
       "      <th>33</th>\n",
       "      <td>6.9</td>\n",
       "      <td>0.605</td>\n",
       "      <td>0.12</td>\n",
       "      <td>10.7</td>\n",
       "      <td>0.073</td>\n",
       "      <td>40.0</td>\n",
       "      <td>83</td>\n",
       "      <td>0.9993</td>\n",
       "      <td>3.45</td>\n",
       "      <td>0.52</td>\n",
       "      <td>9.4</td>\n",
       "      <td>0</td>\n",
       "    </tr>\n",
       "    <tr>\n",
       "      <th>34</th>\n",
       "      <td>5.2</td>\n",
       "      <td>0.320</td>\n",
       "      <td>0.25</td>\n",
       "      <td>1.8</td>\n",
       "      <td>0.103</td>\n",
       "      <td>13.0</td>\n",
       "      <td>50</td>\n",
       "      <td>0.9957</td>\n",
       "      <td>3.38</td>\n",
       "      <td>0.55</td>\n",
       "      <td>9.2</td>\n",
       "      <td>0</td>\n",
       "    </tr>\n",
       "  </tbody>\n",
       "</table>\n",
       "</div>"
      ],
      "text/plain": [
       "    \"fixed acidity  \"\"volatile acidity\"\"  \"\"citric acid\"\"  \"\"residual sugar\"\"  \\\n",
       "0              7.4                 0.700             0.00                 1.9   \n",
       "1              7.8                 0.880             0.00                 2.6   \n",
       "2              7.8                 0.760             0.04                 2.3   \n",
       "3             11.2                 0.280             0.56                 1.9   \n",
       "4              7.4                 0.700             0.00                 1.9   \n",
       "5              7.4                 0.660             0.00                 1.8   \n",
       "6              7.9                 0.600             0.06                 1.6   \n",
       "7              7.3                 0.650             0.00                 1.2   \n",
       "8              7.8                 0.580             0.02                 2.0   \n",
       "9              7.5                 0.500             0.36                 6.1   \n",
       "10             6.7                 0.580             0.08                 1.8   \n",
       "11             7.5                 0.500             0.36                 6.1   \n",
       "12             5.6                 0.615             0.00                 1.6   \n",
       "13             7.8                 0.610             0.29                 1.6   \n",
       "14             8.9                 0.620             0.18                 3.8   \n",
       "15             8.9                 0.620             0.19                 3.9   \n",
       "16             8.5                 0.280             0.56                 1.8   \n",
       "17             8.1                 0.560             0.28                 1.7   \n",
       "18             7.4                 0.590             0.08                 4.4   \n",
       "19             7.9                 0.320             0.51                 1.8   \n",
       "20             8.9                 0.220             0.48                 1.8   \n",
       "21             7.6                 0.390             0.31                 2.3   \n",
       "22             7.9                 0.430             0.21                 1.6   \n",
       "23             8.5                 0.490             0.11                 2.3   \n",
       "24             6.9                 0.400             0.14                 2.4   \n",
       "25             6.3                 0.390             0.16                 1.4   \n",
       "26             7.6                 0.410             0.24                 1.8   \n",
       "27             7.9                 0.430             0.21                 1.6   \n",
       "28             7.1                 0.710             0.00                 1.9   \n",
       "29             7.8                 0.645             0.00                 2.0   \n",
       "30             6.7                 0.675             0.07                 2.4   \n",
       "31             6.9                 0.685             0.00                 2.5   \n",
       "32             8.3                 0.655             0.12                 2.3   \n",
       "33             6.9                 0.605             0.12                10.7   \n",
       "34             5.2                 0.320             0.25                 1.8   \n",
       "\n",
       "    \"\"chlorides\"\"  \"\"free sulfur dioxide\"\"  \"\"total sulfur dioxide\"\"  \\\n",
       "0           0.076                     11.0                        34   \n",
       "1           0.098                     25.0                        67   \n",
       "2           0.092                     15.0                        54   \n",
       "3           0.075                     17.0                        60   \n",
       "4           0.076                     11.0                        34   \n",
       "5           0.075                     13.0                        40   \n",
       "6           0.069                     15.0                        59   \n",
       "7           0.065                     15.0                        21   \n",
       "8           0.073                      9.0                        18   \n",
       "9           0.071                     17.0                       102   \n",
       "10          0.097                     15.0                        65   \n",
       "11          0.071                     17.0                       102   \n",
       "12          0.089                     16.0                        59   \n",
       "13          0.114                      9.0                        29   \n",
       "14          0.176                     52.0                       145   \n",
       "15          0.170                     51.0                       148   \n",
       "16          0.092                     35.0                       103   \n",
       "17          0.368                     16.0                        56   \n",
       "18          0.086                      6.0                        29   \n",
       "19          0.341                     17.0                        56   \n",
       "20          0.077                     29.0                        60   \n",
       "21          0.082                     23.0                        71   \n",
       "22          0.106                     10.0                        37   \n",
       "23          0.084                      9.0                        67   \n",
       "24          0.085                     21.0                        40   \n",
       "25          0.080                     11.0                        23   \n",
       "26          0.080                      4.0                        11   \n",
       "27          0.106                     10.0                        37   \n",
       "28          0.080                     14.0                        35   \n",
       "29          0.082                      8.0                        16   \n",
       "30          0.089                     17.0                        82   \n",
       "31          0.105                     22.0                        37   \n",
       "32          0.083                     15.0                       113   \n",
       "33          0.073                     40.0                        83   \n",
       "34          0.103                     13.0                        50   \n",
       "\n",
       "    \"\"density\"\"  \"\"pH\"\"  \"\"sulphates\"\"  \"\"alcohol\"\"  \"\"quality\"\"\"  \n",
       "0        0.9978    3.51           0.56          9.4             0  \n",
       "1        0.9968    3.20           0.68          9.8             0  \n",
       "2        0.9970    3.26           0.65          9.8             0  \n",
       "3        0.9980    3.16           0.58          9.8             0  \n",
       "4        0.9978    3.51           0.56          9.4             0  \n",
       "5        0.9978    3.51           0.56          9.4             0  \n",
       "6        0.9964    3.30           0.46          9.4             0  \n",
       "7        0.9946    3.39           0.47         10.0             1  \n",
       "8        0.9968    3.36           0.57          9.5             1  \n",
       "9        0.9978    3.35           0.80         10.5             0  \n",
       "10       0.9959    3.28           0.54          9.2             0  \n",
       "11       0.9978    3.35           0.80         10.5             0  \n",
       "12       0.9943    3.58           0.52          9.9             0  \n",
       "13       0.9974    3.26           1.56          9.1             0  \n",
       "14       0.9986    3.16           0.88          9.2             0  \n",
       "15       0.9986    3.17           0.93          9.2             0  \n",
       "16       0.9969    3.30           0.75         10.5             1  \n",
       "17       0.9968    3.11           1.28          9.3             0  \n",
       "18       0.9974    3.38           0.50          9.0             0  \n",
       "19       0.9969    3.04           1.08          9.2             0  \n",
       "20       0.9968    3.39           0.53          9.4             0  \n",
       "21       0.9982    3.52           0.65          9.7             0  \n",
       "22       0.9966    3.17           0.91          9.5             0  \n",
       "23       0.9968    3.17           0.53          9.4             0  \n",
       "24       0.9968    3.43           0.63          9.7             0  \n",
       "25       0.9955    3.34           0.56          9.3             0  \n",
       "26       0.9962    3.28           0.59          9.5             0  \n",
       "27       0.9966    3.17           0.91          9.5             0  \n",
       "28       0.9972    3.47           0.55          9.4             0  \n",
       "29       0.9964    3.38           0.59          9.8             0  \n",
       "30       0.9958    3.35           0.54         10.1             0  \n",
       "31       0.9966    3.46           0.57         10.6             0  \n",
       "32       0.9966    3.17           0.66          9.8             0  \n",
       "33       0.9993    3.45           0.52          9.4             0  \n",
       "34       0.9957    3.38           0.55          9.2             0  "
      ]
     },
     "execution_count": 53,
     "metadata": {},
     "output_type": "execute_result"
    }
   ],
   "source": [
    "test_data.head(35)"
   ]
  },
  {
   "cell_type": "code",
   "execution_count": 54,
   "metadata": {},
   "outputs": [],
   "source": [
    "X_train = train_data.drop('\"\"quality\"\"\"', axis = 1)\n",
    "Y_train = train_data['\"\"quality\"\"\"']\n",
    "x_test =  test_data.drop('\"\"quality\"\"\"', axis = 1)\n",
    "y_test =  test_data['\"\"quality\"\"\"']"
   ]
  },
  {
   "cell_type": "code",
   "execution_count": 55,
   "metadata": {},
   "outputs": [
    {
     "data": {
      "text/html": [
       "<div>\n",
       "<style scoped>\n",
       "    .dataframe tbody tr th:only-of-type {\n",
       "        vertical-align: middle;\n",
       "    }\n",
       "\n",
       "    .dataframe tbody tr th {\n",
       "        vertical-align: top;\n",
       "    }\n",
       "\n",
       "    .dataframe thead th {\n",
       "        text-align: right;\n",
       "    }\n",
       "</style>\n",
       "<table border=\"1\" class=\"dataframe\">\n",
       "  <thead>\n",
       "    <tr style=\"text-align: right;\">\n",
       "      <th></th>\n",
       "      <th>\"fixed acidity</th>\n",
       "      <th>\"\"volatile acidity\"\"</th>\n",
       "      <th>\"\"citric acid\"\"</th>\n",
       "      <th>\"\"residual sugar\"\"</th>\n",
       "      <th>\"\"chlorides\"\"</th>\n",
       "      <th>\"\"free sulfur dioxide\"\"</th>\n",
       "      <th>\"\"total sulfur dioxide\"\"</th>\n",
       "      <th>\"\"density\"\"</th>\n",
       "      <th>\"\"pH\"\"</th>\n",
       "      <th>\"\"sulphates\"\"</th>\n",
       "      <th>\"\"alcohol\"\"</th>\n",
       "    </tr>\n",
       "  </thead>\n",
       "  <tbody>\n",
       "    <tr>\n",
       "      <th>0</th>\n",
       "      <td>10.6</td>\n",
       "      <td>0.280</td>\n",
       "      <td>0.39</td>\n",
       "      <td>15.50</td>\n",
       "      <td>0.069</td>\n",
       "      <td>6.0</td>\n",
       "      <td>23.0</td>\n",
       "      <td>1.0026</td>\n",
       "      <td>3.12</td>\n",
       "      <td>0.66</td>\n",
       "      <td>9.2</td>\n",
       "    </tr>\n",
       "    <tr>\n",
       "      <th>1</th>\n",
       "      <td>9.4</td>\n",
       "      <td>0.300</td>\n",
       "      <td>0.56</td>\n",
       "      <td>2.80</td>\n",
       "      <td>0.080</td>\n",
       "      <td>6.0</td>\n",
       "      <td>17.0</td>\n",
       "      <td>0.9964</td>\n",
       "      <td>3.15</td>\n",
       "      <td>0.92</td>\n",
       "      <td>11.7</td>\n",
       "    </tr>\n",
       "    <tr>\n",
       "      <th>2</th>\n",
       "      <td>10.6</td>\n",
       "      <td>0.360</td>\n",
       "      <td>0.59</td>\n",
       "      <td>2.20</td>\n",
       "      <td>0.152</td>\n",
       "      <td>6.0</td>\n",
       "      <td>18.0</td>\n",
       "      <td>0.9986</td>\n",
       "      <td>3.04</td>\n",
       "      <td>1.05</td>\n",
       "      <td>9.4</td>\n",
       "    </tr>\n",
       "    <tr>\n",
       "      <th>3</th>\n",
       "      <td>10.6</td>\n",
       "      <td>0.360</td>\n",
       "      <td>0.60</td>\n",
       "      <td>2.20</td>\n",
       "      <td>0.152</td>\n",
       "      <td>7.0</td>\n",
       "      <td>18.0</td>\n",
       "      <td>0.9986</td>\n",
       "      <td>3.04</td>\n",
       "      <td>1.06</td>\n",
       "      <td>9.4</td>\n",
       "    </tr>\n",
       "    <tr>\n",
       "      <th>4</th>\n",
       "      <td>10.6</td>\n",
       "      <td>0.440</td>\n",
       "      <td>0.68</td>\n",
       "      <td>4.10</td>\n",
       "      <td>0.114</td>\n",
       "      <td>6.0</td>\n",
       "      <td>24.0</td>\n",
       "      <td>0.9970</td>\n",
       "      <td>3.06</td>\n",
       "      <td>0.66</td>\n",
       "      <td>13.4</td>\n",
       "    </tr>\n",
       "    <tr>\n",
       "      <th>5</th>\n",
       "      <td>10.2</td>\n",
       "      <td>0.670</td>\n",
       "      <td>0.39</td>\n",
       "      <td>1.90</td>\n",
       "      <td>0.054</td>\n",
       "      <td>6.0</td>\n",
       "      <td>17.0</td>\n",
       "      <td>0.9976</td>\n",
       "      <td>3.17</td>\n",
       "      <td>0.47</td>\n",
       "      <td>10.0</td>\n",
       "    </tr>\n",
       "    <tr>\n",
       "      <th>6</th>\n",
       "      <td>10.2</td>\n",
       "      <td>0.670</td>\n",
       "      <td>0.39</td>\n",
       "      <td>1.90</td>\n",
       "      <td>0.054</td>\n",
       "      <td>6.0</td>\n",
       "      <td>17.0</td>\n",
       "      <td>0.9976</td>\n",
       "      <td>3.17</td>\n",
       "      <td>0.47</td>\n",
       "      <td>10.0</td>\n",
       "    </tr>\n",
       "    <tr>\n",
       "      <th>7</th>\n",
       "      <td>10.2</td>\n",
       "      <td>0.645</td>\n",
       "      <td>0.36</td>\n",
       "      <td>1.80</td>\n",
       "      <td>0.053</td>\n",
       "      <td>5.0</td>\n",
       "      <td>14.0</td>\n",
       "      <td>0.9982</td>\n",
       "      <td>3.17</td>\n",
       "      <td>0.42</td>\n",
       "      <td>10.0</td>\n",
       "    </tr>\n",
       "    <tr>\n",
       "      <th>8</th>\n",
       "      <td>11.6</td>\n",
       "      <td>0.320</td>\n",
       "      <td>0.55</td>\n",
       "      <td>2.80</td>\n",
       "      <td>0.081</td>\n",
       "      <td>35.0</td>\n",
       "      <td>67.0</td>\n",
       "      <td>1.0002</td>\n",
       "      <td>3.32</td>\n",
       "      <td>0.92</td>\n",
       "      <td>10.8</td>\n",
       "    </tr>\n",
       "    <tr>\n",
       "      <th>9</th>\n",
       "      <td>9.3</td>\n",
       "      <td>0.390</td>\n",
       "      <td>0.40</td>\n",
       "      <td>2.60</td>\n",
       "      <td>0.073</td>\n",
       "      <td>10.0</td>\n",
       "      <td>26.0</td>\n",
       "      <td>0.9984</td>\n",
       "      <td>3.34</td>\n",
       "      <td>0.75</td>\n",
       "      <td>10.2</td>\n",
       "    </tr>\n",
       "    <tr>\n",
       "      <th>10</th>\n",
       "      <td>9.3</td>\n",
       "      <td>0.775</td>\n",
       "      <td>0.27</td>\n",
       "      <td>2.80</td>\n",
       "      <td>0.078</td>\n",
       "      <td>24.0</td>\n",
       "      <td>56.0</td>\n",
       "      <td>0.9984</td>\n",
       "      <td>3.31</td>\n",
       "      <td>0.67</td>\n",
       "      <td>10.6</td>\n",
       "    </tr>\n",
       "    <tr>\n",
       "      <th>11</th>\n",
       "      <td>9.2</td>\n",
       "      <td>0.410</td>\n",
       "      <td>0.50</td>\n",
       "      <td>2.50</td>\n",
       "      <td>0.055</td>\n",
       "      <td>12.0</td>\n",
       "      <td>25.0</td>\n",
       "      <td>0.9952</td>\n",
       "      <td>3.34</td>\n",
       "      <td>0.79</td>\n",
       "      <td>13.3</td>\n",
       "    </tr>\n",
       "    <tr>\n",
       "      <th>12</th>\n",
       "      <td>8.9</td>\n",
       "      <td>0.400</td>\n",
       "      <td>0.51</td>\n",
       "      <td>2.60</td>\n",
       "      <td>0.052</td>\n",
       "      <td>13.0</td>\n",
       "      <td>27.0</td>\n",
       "      <td>0.9950</td>\n",
       "      <td>3.32</td>\n",
       "      <td>0.90</td>\n",
       "      <td>13.4</td>\n",
       "    </tr>\n",
       "    <tr>\n",
       "      <th>13</th>\n",
       "      <td>8.7</td>\n",
       "      <td>0.690</td>\n",
       "      <td>0.31</td>\n",
       "      <td>3.00</td>\n",
       "      <td>0.086</td>\n",
       "      <td>23.0</td>\n",
       "      <td>81.0</td>\n",
       "      <td>1.0002</td>\n",
       "      <td>3.48</td>\n",
       "      <td>0.74</td>\n",
       "      <td>11.6</td>\n",
       "    </tr>\n",
       "    <tr>\n",
       "      <th>14</th>\n",
       "      <td>6.5</td>\n",
       "      <td>0.390</td>\n",
       "      <td>0.23</td>\n",
       "      <td>8.30</td>\n",
       "      <td>0.051</td>\n",
       "      <td>28.0</td>\n",
       "      <td>91.0</td>\n",
       "      <td>0.9952</td>\n",
       "      <td>3.44</td>\n",
       "      <td>0.55</td>\n",
       "      <td>12.1</td>\n",
       "    </tr>\n",
       "    <tr>\n",
       "      <th>15</th>\n",
       "      <td>10.7</td>\n",
       "      <td>0.350</td>\n",
       "      <td>0.53</td>\n",
       "      <td>2.60</td>\n",
       "      <td>0.070</td>\n",
       "      <td>5.0</td>\n",
       "      <td>16.0</td>\n",
       "      <td>0.9972</td>\n",
       "      <td>3.15</td>\n",
       "      <td>0.65</td>\n",
       "      <td>11.0</td>\n",
       "    </tr>\n",
       "    <tr>\n",
       "      <th>16</th>\n",
       "      <td>7.8</td>\n",
       "      <td>0.520</td>\n",
       "      <td>0.25</td>\n",
       "      <td>1.90</td>\n",
       "      <td>0.081</td>\n",
       "      <td>14.0</td>\n",
       "      <td>38.0</td>\n",
       "      <td>0.9984</td>\n",
       "      <td>3.43</td>\n",
       "      <td>0.65</td>\n",
       "      <td>9.0</td>\n",
       "    </tr>\n",
       "    <tr>\n",
       "      <th>17</th>\n",
       "      <td>7.2</td>\n",
       "      <td>0.340</td>\n",
       "      <td>0.32</td>\n",
       "      <td>2.50</td>\n",
       "      <td>0.090</td>\n",
       "      <td>43.0</td>\n",
       "      <td>113.0</td>\n",
       "      <td>0.9966</td>\n",
       "      <td>3.32</td>\n",
       "      <td>0.79</td>\n",
       "      <td>11.1</td>\n",
       "    </tr>\n",
       "    <tr>\n",
       "      <th>18</th>\n",
       "      <td>10.7</td>\n",
       "      <td>0.350</td>\n",
       "      <td>0.53</td>\n",
       "      <td>2.60</td>\n",
       "      <td>0.070</td>\n",
       "      <td>5.0</td>\n",
       "      <td>16.0</td>\n",
       "      <td>0.9972</td>\n",
       "      <td>3.15</td>\n",
       "      <td>0.65</td>\n",
       "      <td>11.0</td>\n",
       "    </tr>\n",
       "    <tr>\n",
       "      <th>19</th>\n",
       "      <td>8.7</td>\n",
       "      <td>0.690</td>\n",
       "      <td>0.31</td>\n",
       "      <td>3.00</td>\n",
       "      <td>0.086</td>\n",
       "      <td>23.0</td>\n",
       "      <td>81.0</td>\n",
       "      <td>1.0002</td>\n",
       "      <td>3.48</td>\n",
       "      <td>0.74</td>\n",
       "      <td>11.6</td>\n",
       "    </tr>\n",
       "    <tr>\n",
       "      <th>20</th>\n",
       "      <td>7.8</td>\n",
       "      <td>0.520</td>\n",
       "      <td>0.25</td>\n",
       "      <td>1.90</td>\n",
       "      <td>0.081</td>\n",
       "      <td>14.0</td>\n",
       "      <td>38.0</td>\n",
       "      <td>0.9984</td>\n",
       "      <td>3.43</td>\n",
       "      <td>0.65</td>\n",
       "      <td>9.0</td>\n",
       "    </tr>\n",
       "    <tr>\n",
       "      <th>21</th>\n",
       "      <td>10.4</td>\n",
       "      <td>0.440</td>\n",
       "      <td>0.73</td>\n",
       "      <td>6.55</td>\n",
       "      <td>0.074</td>\n",
       "      <td>38.0</td>\n",
       "      <td>76.0</td>\n",
       "      <td>0.9990</td>\n",
       "      <td>3.17</td>\n",
       "      <td>0.85</td>\n",
       "      <td>12.0</td>\n",
       "    </tr>\n",
       "    <tr>\n",
       "      <th>22</th>\n",
       "      <td>10.4</td>\n",
       "      <td>0.440</td>\n",
       "      <td>0.73</td>\n",
       "      <td>6.55</td>\n",
       "      <td>0.074</td>\n",
       "      <td>38.0</td>\n",
       "      <td>76.0</td>\n",
       "      <td>0.9990</td>\n",
       "      <td>3.17</td>\n",
       "      <td>0.85</td>\n",
       "      <td>12.0</td>\n",
       "    </tr>\n",
       "    <tr>\n",
       "      <th>23</th>\n",
       "      <td>10.5</td>\n",
       "      <td>0.260</td>\n",
       "      <td>0.47</td>\n",
       "      <td>1.90</td>\n",
       "      <td>0.078</td>\n",
       "      <td>6.0</td>\n",
       "      <td>24.0</td>\n",
       "      <td>0.9976</td>\n",
       "      <td>3.18</td>\n",
       "      <td>1.04</td>\n",
       "      <td>10.9</td>\n",
       "    </tr>\n",
       "    <tr>\n",
       "      <th>24</th>\n",
       "      <td>10.5</td>\n",
       "      <td>0.240</td>\n",
       "      <td>0.42</td>\n",
       "      <td>1.80</td>\n",
       "      <td>0.077</td>\n",
       "      <td>6.0</td>\n",
       "      <td>22.0</td>\n",
       "      <td>0.9976</td>\n",
       "      <td>3.21</td>\n",
       "      <td>1.05</td>\n",
       "      <td>10.8</td>\n",
       "    </tr>\n",
       "    <tr>\n",
       "      <th>25</th>\n",
       "      <td>10.2</td>\n",
       "      <td>0.490</td>\n",
       "      <td>0.63</td>\n",
       "      <td>2.90</td>\n",
       "      <td>0.072</td>\n",
       "      <td>10.0</td>\n",
       "      <td>26.0</td>\n",
       "      <td>0.9968</td>\n",
       "      <td>3.16</td>\n",
       "      <td>0.78</td>\n",
       "      <td>12.5</td>\n",
       "    </tr>\n",
       "    <tr>\n",
       "      <th>26</th>\n",
       "      <td>10.4</td>\n",
       "      <td>0.240</td>\n",
       "      <td>0.46</td>\n",
       "      <td>1.80</td>\n",
       "      <td>0.075</td>\n",
       "      <td>6.0</td>\n",
       "      <td>21.0</td>\n",
       "      <td>0.9976</td>\n",
       "      <td>3.25</td>\n",
       "      <td>1.02</td>\n",
       "      <td>10.8</td>\n",
       "    </tr>\n",
       "    <tr>\n",
       "      <th>27</th>\n",
       "      <td>11.2</td>\n",
       "      <td>0.670</td>\n",
       "      <td>0.55</td>\n",
       "      <td>2.30</td>\n",
       "      <td>0.084</td>\n",
       "      <td>6.0</td>\n",
       "      <td>13.0</td>\n",
       "      <td>1.0000</td>\n",
       "      <td>3.17</td>\n",
       "      <td>0.71</td>\n",
       "      <td>9.5</td>\n",
       "    </tr>\n",
       "    <tr>\n",
       "      <th>28</th>\n",
       "      <td>10.0</td>\n",
       "      <td>0.590</td>\n",
       "      <td>0.31</td>\n",
       "      <td>2.20</td>\n",
       "      <td>0.090</td>\n",
       "      <td>26.0</td>\n",
       "      <td>62.0</td>\n",
       "      <td>0.9994</td>\n",
       "      <td>3.18</td>\n",
       "      <td>0.63</td>\n",
       "      <td>10.2</td>\n",
       "    </tr>\n",
       "    <tr>\n",
       "      <th>29</th>\n",
       "      <td>13.3</td>\n",
       "      <td>0.290</td>\n",
       "      <td>0.75</td>\n",
       "      <td>2.80</td>\n",
       "      <td>0.084</td>\n",
       "      <td>23.0</td>\n",
       "      <td>43.0</td>\n",
       "      <td>0.9986</td>\n",
       "      <td>3.04</td>\n",
       "      <td>0.68</td>\n",
       "      <td>11.4</td>\n",
       "    </tr>\n",
       "    <tr>\n",
       "      <th>30</th>\n",
       "      <td>12.4</td>\n",
       "      <td>0.420</td>\n",
       "      <td>0.49</td>\n",
       "      <td>4.60</td>\n",
       "      <td>0.073</td>\n",
       "      <td>19.0</td>\n",
       "      <td>43.0</td>\n",
       "      <td>0.9978</td>\n",
       "      <td>3.02</td>\n",
       "      <td>0.61</td>\n",
       "      <td>9.5</td>\n",
       "    </tr>\n",
       "    <tr>\n",
       "      <th>31</th>\n",
       "      <td>10.0</td>\n",
       "      <td>0.590</td>\n",
       "      <td>0.31</td>\n",
       "      <td>2.20</td>\n",
       "      <td>0.090</td>\n",
       "      <td>26.0</td>\n",
       "      <td>62.0</td>\n",
       "      <td>0.9994</td>\n",
       "      <td>3.18</td>\n",
       "      <td>0.63</td>\n",
       "      <td>10.2</td>\n",
       "    </tr>\n",
       "    <tr>\n",
       "      <th>32</th>\n",
       "      <td>10.7</td>\n",
       "      <td>0.400</td>\n",
       "      <td>0.48</td>\n",
       "      <td>2.10</td>\n",
       "      <td>0.125</td>\n",
       "      <td>15.0</td>\n",
       "      <td>49.0</td>\n",
       "      <td>0.9980</td>\n",
       "      <td>3.03</td>\n",
       "      <td>0.81</td>\n",
       "      <td>9.7</td>\n",
       "    </tr>\n",
       "    <tr>\n",
       "      <th>33</th>\n",
       "      <td>10.5</td>\n",
       "      <td>0.510</td>\n",
       "      <td>0.64</td>\n",
       "      <td>2.40</td>\n",
       "      <td>0.107</td>\n",
       "      <td>6.0</td>\n",
       "      <td>15.0</td>\n",
       "      <td>0.9973</td>\n",
       "      <td>3.09</td>\n",
       "      <td>0.66</td>\n",
       "      <td>11.8</td>\n",
       "    </tr>\n",
       "    <tr>\n",
       "      <th>34</th>\n",
       "      <td>10.5</td>\n",
       "      <td>0.510</td>\n",
       "      <td>0.64</td>\n",
       "      <td>2.40</td>\n",
       "      <td>0.107</td>\n",
       "      <td>6.0</td>\n",
       "      <td>15.0</td>\n",
       "      <td>0.9973</td>\n",
       "      <td>3.09</td>\n",
       "      <td>0.66</td>\n",
       "      <td>11.8</td>\n",
       "    </tr>\n",
       "  </tbody>\n",
       "</table>\n",
       "</div>"
      ],
      "text/plain": [
       "    \"fixed acidity  \"\"volatile acidity\"\"  \"\"citric acid\"\"  \"\"residual sugar\"\"  \\\n",
       "0             10.6                 0.280             0.39               15.50   \n",
       "1              9.4                 0.300             0.56                2.80   \n",
       "2             10.6                 0.360             0.59                2.20   \n",
       "3             10.6                 0.360             0.60                2.20   \n",
       "4             10.6                 0.440             0.68                4.10   \n",
       "5             10.2                 0.670             0.39                1.90   \n",
       "6             10.2                 0.670             0.39                1.90   \n",
       "7             10.2                 0.645             0.36                1.80   \n",
       "8             11.6                 0.320             0.55                2.80   \n",
       "9              9.3                 0.390             0.40                2.60   \n",
       "10             9.3                 0.775             0.27                2.80   \n",
       "11             9.2                 0.410             0.50                2.50   \n",
       "12             8.9                 0.400             0.51                2.60   \n",
       "13             8.7                 0.690             0.31                3.00   \n",
       "14             6.5                 0.390             0.23                8.30   \n",
       "15            10.7                 0.350             0.53                2.60   \n",
       "16             7.8                 0.520             0.25                1.90   \n",
       "17             7.2                 0.340             0.32                2.50   \n",
       "18            10.7                 0.350             0.53                2.60   \n",
       "19             8.7                 0.690             0.31                3.00   \n",
       "20             7.8                 0.520             0.25                1.90   \n",
       "21            10.4                 0.440             0.73                6.55   \n",
       "22            10.4                 0.440             0.73                6.55   \n",
       "23            10.5                 0.260             0.47                1.90   \n",
       "24            10.5                 0.240             0.42                1.80   \n",
       "25            10.2                 0.490             0.63                2.90   \n",
       "26            10.4                 0.240             0.46                1.80   \n",
       "27            11.2                 0.670             0.55                2.30   \n",
       "28            10.0                 0.590             0.31                2.20   \n",
       "29            13.3                 0.290             0.75                2.80   \n",
       "30            12.4                 0.420             0.49                4.60   \n",
       "31            10.0                 0.590             0.31                2.20   \n",
       "32            10.7                 0.400             0.48                2.10   \n",
       "33            10.5                 0.510             0.64                2.40   \n",
       "34            10.5                 0.510             0.64                2.40   \n",
       "\n",
       "    \"\"chlorides\"\"  \"\"free sulfur dioxide\"\"  \"\"total sulfur dioxide\"\"  \\\n",
       "0           0.069                      6.0                      23.0   \n",
       "1           0.080                      6.0                      17.0   \n",
       "2           0.152                      6.0                      18.0   \n",
       "3           0.152                      7.0                      18.0   \n",
       "4           0.114                      6.0                      24.0   \n",
       "5           0.054                      6.0                      17.0   \n",
       "6           0.054                      6.0                      17.0   \n",
       "7           0.053                      5.0                      14.0   \n",
       "8           0.081                     35.0                      67.0   \n",
       "9           0.073                     10.0                      26.0   \n",
       "10          0.078                     24.0                      56.0   \n",
       "11          0.055                     12.0                      25.0   \n",
       "12          0.052                     13.0                      27.0   \n",
       "13          0.086                     23.0                      81.0   \n",
       "14          0.051                     28.0                      91.0   \n",
       "15          0.070                      5.0                      16.0   \n",
       "16          0.081                     14.0                      38.0   \n",
       "17          0.090                     43.0                     113.0   \n",
       "18          0.070                      5.0                      16.0   \n",
       "19          0.086                     23.0                      81.0   \n",
       "20          0.081                     14.0                      38.0   \n",
       "21          0.074                     38.0                      76.0   \n",
       "22          0.074                     38.0                      76.0   \n",
       "23          0.078                      6.0                      24.0   \n",
       "24          0.077                      6.0                      22.0   \n",
       "25          0.072                     10.0                      26.0   \n",
       "26          0.075                      6.0                      21.0   \n",
       "27          0.084                      6.0                      13.0   \n",
       "28          0.090                     26.0                      62.0   \n",
       "29          0.084                     23.0                      43.0   \n",
       "30          0.073                     19.0                      43.0   \n",
       "31          0.090                     26.0                      62.0   \n",
       "32          0.125                     15.0                      49.0   \n",
       "33          0.107                      6.0                      15.0   \n",
       "34          0.107                      6.0                      15.0   \n",
       "\n",
       "    \"\"density\"\"  \"\"pH\"\"  \"\"sulphates\"\"  \"\"alcohol\"\"  \n",
       "0        1.0026    3.12           0.66          9.2  \n",
       "1        0.9964    3.15           0.92         11.7  \n",
       "2        0.9986    3.04           1.05          9.4  \n",
       "3        0.9986    3.04           1.06          9.4  \n",
       "4        0.9970    3.06           0.66         13.4  \n",
       "5        0.9976    3.17           0.47         10.0  \n",
       "6        0.9976    3.17           0.47         10.0  \n",
       "7        0.9982    3.17           0.42         10.0  \n",
       "8        1.0002    3.32           0.92         10.8  \n",
       "9        0.9984    3.34           0.75         10.2  \n",
       "10       0.9984    3.31           0.67         10.6  \n",
       "11       0.9952    3.34           0.79         13.3  \n",
       "12       0.9950    3.32           0.90         13.4  \n",
       "13       1.0002    3.48           0.74         11.6  \n",
       "14       0.9952    3.44           0.55         12.1  \n",
       "15       0.9972    3.15           0.65         11.0  \n",
       "16       0.9984    3.43           0.65          9.0  \n",
       "17       0.9966    3.32           0.79         11.1  \n",
       "18       0.9972    3.15           0.65         11.0  \n",
       "19       1.0002    3.48           0.74         11.6  \n",
       "20       0.9984    3.43           0.65          9.0  \n",
       "21       0.9990    3.17           0.85         12.0  \n",
       "22       0.9990    3.17           0.85         12.0  \n",
       "23       0.9976    3.18           1.04         10.9  \n",
       "24       0.9976    3.21           1.05         10.8  \n",
       "25       0.9968    3.16           0.78         12.5  \n",
       "26       0.9976    3.25           1.02         10.8  \n",
       "27       1.0000    3.17           0.71          9.5  \n",
       "28       0.9994    3.18           0.63         10.2  \n",
       "29       0.9986    3.04           0.68         11.4  \n",
       "30       0.9978    3.02           0.61          9.5  \n",
       "31       0.9994    3.18           0.63         10.2  \n",
       "32       0.9980    3.03           0.81          9.7  \n",
       "33       0.9973    3.09           0.66         11.8  \n",
       "34       0.9973    3.09           0.66         11.8  "
      ]
     },
     "execution_count": 55,
     "metadata": {},
     "output_type": "execute_result"
    }
   ],
   "source": [
    "X_train.head(35)"
   ]
  },
  {
   "cell_type": "code",
   "execution_count": 56,
   "metadata": {},
   "outputs": [
    {
     "data": {
      "text/plain": [
       "0       0\n",
       "1       1\n",
       "2       0\n",
       "3       0\n",
       "4       0\n",
       "       ..\n",
       "1113    0\n",
       "1114    0\n",
       "1115    0\n",
       "1116    0\n",
       "1117    0\n",
       "Name: \"\"quality\"\"\", Length: 1118, dtype: int32"
      ]
     },
     "execution_count": 56,
     "metadata": {},
     "output_type": "execute_result"
    }
   ],
   "source": [
    "Y_train"
   ]
  },
  {
   "cell_type": "code",
   "execution_count": 57,
   "metadata": {},
   "outputs": [
    {
     "data": {
      "text/html": [
       "<div>\n",
       "<style scoped>\n",
       "    .dataframe tbody tr th:only-of-type {\n",
       "        vertical-align: middle;\n",
       "    }\n",
       "\n",
       "    .dataframe tbody tr th {\n",
       "        vertical-align: top;\n",
       "    }\n",
       "\n",
       "    .dataframe thead th {\n",
       "        text-align: right;\n",
       "    }\n",
       "</style>\n",
       "<table border=\"1\" class=\"dataframe\">\n",
       "  <thead>\n",
       "    <tr style=\"text-align: right;\">\n",
       "      <th></th>\n",
       "      <th>\"fixed acidity</th>\n",
       "      <th>\"\"volatile acidity\"\"</th>\n",
       "      <th>\"\"citric acid\"\"</th>\n",
       "      <th>\"\"residual sugar\"\"</th>\n",
       "      <th>\"\"chlorides\"\"</th>\n",
       "      <th>\"\"free sulfur dioxide\"\"</th>\n",
       "      <th>\"\"total sulfur dioxide\"\"</th>\n",
       "      <th>\"\"density\"\"</th>\n",
       "      <th>\"\"pH\"\"</th>\n",
       "      <th>\"\"sulphates\"\"</th>\n",
       "      <th>\"\"alcohol\"\"</th>\n",
       "    </tr>\n",
       "  </thead>\n",
       "  <tbody>\n",
       "    <tr>\n",
       "      <th>0</th>\n",
       "      <td>7.4</td>\n",
       "      <td>0.70</td>\n",
       "      <td>0.00</td>\n",
       "      <td>1.9</td>\n",
       "      <td>0.076</td>\n",
       "      <td>11.0</td>\n",
       "      <td>34</td>\n",
       "      <td>0.9978</td>\n",
       "      <td>3.51</td>\n",
       "      <td>0.56</td>\n",
       "      <td>9.4</td>\n",
       "    </tr>\n",
       "    <tr>\n",
       "      <th>1</th>\n",
       "      <td>7.8</td>\n",
       "      <td>0.88</td>\n",
       "      <td>0.00</td>\n",
       "      <td>2.6</td>\n",
       "      <td>0.098</td>\n",
       "      <td>25.0</td>\n",
       "      <td>67</td>\n",
       "      <td>0.9968</td>\n",
       "      <td>3.20</td>\n",
       "      <td>0.68</td>\n",
       "      <td>9.8</td>\n",
       "    </tr>\n",
       "    <tr>\n",
       "      <th>2</th>\n",
       "      <td>7.8</td>\n",
       "      <td>0.76</td>\n",
       "      <td>0.04</td>\n",
       "      <td>2.3</td>\n",
       "      <td>0.092</td>\n",
       "      <td>15.0</td>\n",
       "      <td>54</td>\n",
       "      <td>0.9970</td>\n",
       "      <td>3.26</td>\n",
       "      <td>0.65</td>\n",
       "      <td>9.8</td>\n",
       "    </tr>\n",
       "    <tr>\n",
       "      <th>3</th>\n",
       "      <td>11.2</td>\n",
       "      <td>0.28</td>\n",
       "      <td>0.56</td>\n",
       "      <td>1.9</td>\n",
       "      <td>0.075</td>\n",
       "      <td>17.0</td>\n",
       "      <td>60</td>\n",
       "      <td>0.9980</td>\n",
       "      <td>3.16</td>\n",
       "      <td>0.58</td>\n",
       "      <td>9.8</td>\n",
       "    </tr>\n",
       "    <tr>\n",
       "      <th>4</th>\n",
       "      <td>7.4</td>\n",
       "      <td>0.70</td>\n",
       "      <td>0.00</td>\n",
       "      <td>1.9</td>\n",
       "      <td>0.076</td>\n",
       "      <td>11.0</td>\n",
       "      <td>34</td>\n",
       "      <td>0.9978</td>\n",
       "      <td>3.51</td>\n",
       "      <td>0.56</td>\n",
       "      <td>9.4</td>\n",
       "    </tr>\n",
       "  </tbody>\n",
       "</table>\n",
       "</div>"
      ],
      "text/plain": [
       "   \"fixed acidity  \"\"volatile acidity\"\"  \"\"citric acid\"\"  \"\"residual sugar\"\"  \\\n",
       "0             7.4                  0.70             0.00                 1.9   \n",
       "1             7.8                  0.88             0.00                 2.6   \n",
       "2             7.8                  0.76             0.04                 2.3   \n",
       "3            11.2                  0.28             0.56                 1.9   \n",
       "4             7.4                  0.70             0.00                 1.9   \n",
       "\n",
       "   \"\"chlorides\"\"  \"\"free sulfur dioxide\"\"  \"\"total sulfur dioxide\"\"  \\\n",
       "0          0.076                     11.0                        34   \n",
       "1          0.098                     25.0                        67   \n",
       "2          0.092                     15.0                        54   \n",
       "3          0.075                     17.0                        60   \n",
       "4          0.076                     11.0                        34   \n",
       "\n",
       "   \"\"density\"\"  \"\"pH\"\"  \"\"sulphates\"\"  \"\"alcohol\"\"  \n",
       "0       0.9978    3.51           0.56          9.4  \n",
       "1       0.9968    3.20           0.68          9.8  \n",
       "2       0.9970    3.26           0.65          9.8  \n",
       "3       0.9980    3.16           0.58          9.8  \n",
       "4       0.9978    3.51           0.56          9.4  "
      ]
     },
     "execution_count": 57,
     "metadata": {},
     "output_type": "execute_result"
    }
   ],
   "source": [
    "x_test.head()"
   ]
  },
  {
   "cell_type": "code",
   "execution_count": 58,
   "metadata": {},
   "outputs": [
    {
     "data": {
      "text/plain": [
       "0    0\n",
       "1    0\n",
       "2    0\n",
       "3    0\n",
       "4    0\n",
       "Name: \"\"quality\"\"\", dtype: int32"
      ]
     },
     "execution_count": 58,
     "metadata": {},
     "output_type": "execute_result"
    }
   ],
   "source": [
    "y_test.head()"
   ]
  },
  {
   "cell_type": "markdown",
   "metadata": {},
   "source": [
    "# Question: 2"
   ]
  },
  {
   "cell_type": "markdown",
   "metadata": {},
   "source": [
    "# a) Logistic Regression"
   ]
  },
  {
   "cell_type": "code",
   "execution_count": 59,
   "metadata": {},
   "outputs": [],
   "source": [
    "from sklearn.linear_model import LogisticRegression as LogReg"
   ]
  },
  {
   "cell_type": "code",
   "execution_count": 60,
   "metadata": {},
   "outputs": [],
   "source": [
    "logreg = LogReg()"
   ]
  },
  {
   "cell_type": "code",
   "execution_count": 61,
   "metadata": {},
   "outputs": [
    {
     "name": "stderr",
     "output_type": "stream",
     "text": [
      "C:\\Users\\jayde\\anaconda3\\lib\\site-packages\\sklearn\\linear_model\\_logistic.py:940: ConvergenceWarning: lbfgs failed to converge (status=1):\n",
      "STOP: TOTAL NO. of ITERATIONS REACHED LIMIT.\n",
      "\n",
      "Increase the number of iterations (max_iter) or scale the data as shown in:\n",
      "    https://scikit-learn.org/stable/modules/preprocessing.html\n",
      "Please also refer to the documentation for alternative solver options:\n",
      "    https://scikit-learn.org/stable/modules/linear_model.html#logistic-regression\n",
      "  extra_warning_msg=_LOGISTIC_SOLVER_CONVERGENCE_MSG)\n"
     ]
    },
    {
     "data": {
      "text/plain": [
       "LogisticRegression(C=1.0, class_weight=None, dual=False, fit_intercept=True,\n",
       "                   intercept_scaling=1, l1_ratio=None, max_iter=100,\n",
       "                   multi_class='auto', n_jobs=None, penalty='l2',\n",
       "                   random_state=None, solver='lbfgs', tol=0.0001, verbose=0,\n",
       "                   warm_start=False)"
      ]
     },
     "execution_count": 61,
     "metadata": {},
     "output_type": "execute_result"
    }
   ],
   "source": [
    "logreg.fit(X_train, Y_train)\n"
   ]
  },
  {
   "cell_type": "code",
   "execution_count": 62,
   "metadata": {},
   "outputs": [
    {
     "data": {
      "text/plain": [
       "array([0, 0, 0, 0, 0, 0, 0, 0, 0, 0, 0, 0, 0, 0, 0, 0, 0, 0, 0, 0, 0, 0,\n",
       "       0, 0, 0, 0, 0, 0, 0, 0, 0, 0, 0, 0, 0, 0, 0, 0, 0, 0, 0, 0, 0, 0,\n",
       "       0, 0, 0, 0, 0, 0, 0, 0, 0, 0, 0, 0, 0, 0, 0, 0, 0, 0, 0, 0, 0, 0,\n",
       "       0, 0, 0, 0, 0, 0, 0, 0, 0, 0, 0, 0, 0, 0, 0, 0, 0, 0, 0, 0, 1, 0,\n",
       "       0, 0, 0, 1, 1, 0, 0, 0, 0, 0, 0, 0, 0, 0, 0, 0, 0, 0, 0, 0, 0, 0,\n",
       "       0, 0, 0, 0, 0, 0, 0, 0, 0, 0, 0, 0, 0, 0, 0, 0, 0, 0, 0, 0, 0, 0,\n",
       "       0, 0, 0, 0, 0, 0, 0, 0, 0, 0, 1, 0, 1, 0, 0, 0, 0, 0, 0, 1, 0, 0,\n",
       "       0, 0, 0, 0, 0, 0, 0, 0, 0, 0, 0, 0, 0, 0, 0, 0, 0, 0, 0, 0, 0, 0,\n",
       "       0, 0, 0, 0, 0, 0, 0, 0, 0, 0, 0, 0, 0, 0, 0, 0, 0, 0, 0, 0, 0, 0,\n",
       "       0, 0, 0, 0, 0, 0, 0, 0, 0, 0, 0, 0, 1, 0, 0, 0, 0, 0, 0, 0, 0, 0,\n",
       "       0, 0, 0, 0, 0, 0, 0, 0, 0, 0, 0, 0, 0, 0, 0, 0, 0, 0, 0, 0, 0, 0,\n",
       "       0, 0, 0, 0, 0, 0, 0, 0, 0, 0, 0, 0, 0, 0, 0, 0, 0, 0, 0, 0, 0, 0,\n",
       "       0, 0, 0, 1, 0, 0, 0, 0, 0, 0, 0, 0, 0, 0, 1, 0, 0, 0, 0, 0, 0, 0,\n",
       "       0, 0, 0, 0, 0, 0, 0, 0, 0, 0, 0, 0, 0, 0, 0, 0, 0, 0, 0, 0, 0, 0,\n",
       "       0, 0, 0, 0, 0, 0, 0, 0, 0, 0, 0, 0, 0, 0, 0, 0, 0, 0, 0, 0, 0, 0,\n",
       "       1, 1, 0, 0, 0, 0, 0, 0, 0, 0, 0, 0, 0, 0, 0, 0, 0, 1, 0, 0, 0, 0,\n",
       "       0, 0, 0, 0, 0, 0, 0, 0, 0, 0, 0, 0, 0, 1, 0, 0, 0, 1, 0, 0, 0, 0,\n",
       "       0, 1, 0, 1, 1, 0, 0, 0, 0, 0, 0, 0, 0, 0, 0, 0, 0, 0, 0, 0, 0, 1,\n",
       "       0, 0, 0, 0, 0, 0, 0, 0, 0, 0, 0, 0, 0, 0, 0, 0, 0, 1, 0, 0, 0, 0,\n",
       "       0, 0, 0, 0, 0, 0, 0, 0, 0, 0, 0, 0, 0, 0, 1, 0, 0, 0, 0, 0, 0, 0,\n",
       "       0, 0, 0, 0, 0, 0, 0, 0, 0, 0, 0, 0, 0, 0, 0, 1, 0, 0, 0, 0, 0, 0,\n",
       "       0, 0, 0, 0, 0, 1, 0, 0, 0, 0, 0, 0, 0, 0, 0, 1, 0])"
      ]
     },
     "execution_count": 62,
     "metadata": {},
     "output_type": "execute_result"
    }
   ],
   "source": [
    "logistic_predict = logreg.predict(x_test)\n",
    "logistic_predict"
   ]
  },
  {
   "cell_type": "markdown",
   "metadata": {},
   "source": [
    "# b) Linear Regression as a classifier"
   ]
  },
  {
   "cell_type": "code",
   "execution_count": 63,
   "metadata": {},
   "outputs": [],
   "source": [
    "from sklearn.linear_model import LinearRegression as LR"
   ]
  },
  {
   "cell_type": "code",
   "execution_count": 64,
   "metadata": {},
   "outputs": [],
   "source": [
    "lr = LR()"
   ]
  },
  {
   "cell_type": "code",
   "execution_count": 65,
   "metadata": {},
   "outputs": [
    {
     "data": {
      "text/plain": [
       "LinearRegression(copy_X=True, fit_intercept=True, n_jobs=None, normalize=False)"
      ]
     },
     "execution_count": 65,
     "metadata": {},
     "output_type": "execute_result"
    }
   ],
   "source": [
    "lr.fit(X_train, Y_train)"
   ]
  },
  {
   "cell_type": "code",
   "execution_count": 66,
   "metadata": {},
   "outputs": [
    {
     "data": {
      "text/plain": [
       "array([-1.25246849e-01, -4.55651883e-02, -2.64182832e-02,  1.71959665e-01,\n",
       "       -1.25246849e-01, -1.22622679e-01, -7.71487094e-02,  1.45642727e-02,\n",
       "       -1.11226390e-02,  2.26319710e-01, -8.32586356e-02,  2.26319710e-01,\n",
       "       -3.53389810e-02,  3.67935614e-01, -4.83817535e-02, -1.78120234e-02,\n",
       "        2.01785400e-01,  8.58127547e-02, -6.25329981e-02,  8.05933570e-02,\n",
       "        8.20151323e-02,  5.72980917e-03,  1.70677338e-01, -8.35605360e-04,\n",
       "        3.19222469e-02,  1.16693236e-02,  7.86046017e-02,  1.70677338e-01,\n",
       "       -1.21221742e-01,  1.26492764e-02, -3.05189590e-02, -1.88596174e-02,\n",
       "        2.69247306e-02, -8.70158048e-03, -4.07786511e-02, -2.50146562e-02,\n",
       "        7.41645633e-02,  1.61135489e-01, -1.89209162e-01,  2.49384853e-01,\n",
       "        2.49384853e-01, -3.89315201e-02,  5.52161460e-02,  3.52711664e-01,\n",
       "       -4.42144796e-02,  2.78010129e-01, -8.31662650e-02,  8.68640473e-02,\n",
       "        2.73996135e-02,  8.81685288e-03,  7.43468036e-02,  4.73175083e-02,\n",
       "        6.14825262e-02,  3.56809811e-02,  9.25264830e-02, -7.08555826e-02,\n",
       "        2.38275765e-01, -2.66810562e-02, -3.27085481e-03,  4.71281251e-02,\n",
       "        3.59393517e-02, -2.29002147e-02,  7.73420622e-03, -6.60444160e-02,\n",
       "        4.19251805e-02,  4.19251805e-02, -1.68332232e-02,  2.84685070e-02,\n",
       "        2.95465000e-01,  2.35389600e-01, -4.16916360e-02, -7.75310576e-02,\n",
       "       -8.04932004e-02, -8.05505770e-02,  1.68679477e-01,  1.30639506e-01,\n",
       "        1.30639506e-01, -3.98405850e-02, -5.42371437e-02,  1.48541681e-01,\n",
       "        2.56307874e-03,  4.98927976e-02, -3.87231953e-02, -5.08110467e-02,\n",
       "        2.09938465e-01,  4.24992615e-02,  6.23874288e-01,  7.84566966e-02,\n",
       "        2.91260250e-01, -1.46499854e-01, -5.35053217e-02,  6.23874288e-01,\n",
       "        6.36760469e-01,  7.84566966e-02, -1.07639252e-01,  2.55734886e-01,\n",
       "       -8.71546457e-04,  4.45090662e-02, -5.02322024e-02, -3.55423416e-02,\n",
       "        5.33896430e-02,  1.28044365e-01, -3.55423416e-02, -4.43752079e-02,\n",
       "        3.95202301e-03, -4.43752079e-02,  6.04222218e-02, -7.38024840e-03,\n",
       "        1.46503488e-01, -7.61458714e-02,  1.53732392e-01,  4.64073387e-02,\n",
       "        4.70134813e-02,  1.20567695e-01,  1.53732392e-01,  1.92339469e-01,\n",
       "        3.30766778e-02, -5.31611795e-02,  1.15129379e-01, -1.17456575e-01,\n",
       "       -2.58332022e-01,  1.15129379e-01, -1.34028522e-01, -9.00036076e-02,\n",
       "       -5.11603770e-02, -9.77078856e-02, -1.04245658e-01, -1.10553932e-01,\n",
       "        2.67187272e-01,  3.82366003e-02, -5.16236341e-02,  3.14550959e-01,\n",
       "        3.14550959e-01,  4.55658941e-02, -5.89457002e-02,  7.77544476e-02,\n",
       "        5.06674536e-02,  1.23077512e-02, -2.35755550e-02, -2.90091763e-02,\n",
       "        7.77544476e-02,  5.06674536e-02,  5.49142892e-01,  5.07638270e-02,\n",
       "        5.49142892e-01, -5.81457277e-02, -5.10421991e-02, -4.28592160e-02,\n",
       "        7.59443457e-02,  1.32522013e-01,  1.62829648e-01,  2.67973914e-01,\n",
       "        6.01689379e-03,  6.01689379e-03,  1.80304010e-01,  1.76313020e-01,\n",
       "        1.80304010e-01,  1.76313020e-01, -1.10933092e-01, -9.68242962e-02,\n",
       "       -6.58109706e-02,  1.74471963e-01,  2.60272935e-02, -3.86462275e-02,\n",
       "       -3.69545848e-02,  1.72611763e-02, -2.37515834e-02, -7.11480699e-02,\n",
       "        3.96412768e-02,  2.12911928e-01, -2.12888369e-01,  3.32874829e-02,\n",
       "        3.32874829e-02,  1.10085705e-01,  1.18726409e-02,  7.39129228e-02,\n",
       "        1.18726409e-02,  8.63890818e-02, -7.70347893e-02,  4.06524783e-02,\n",
       "        4.06524783e-02,  4.11615280e-02, -1.26356596e-01, -8.85043321e-02,\n",
       "       -8.28126713e-02,  5.33336928e-02, -1.09514724e-02, -8.84957289e-02,\n",
       "       -3.03104962e-02, -3.24488454e-02,  1.73427036e-03, -1.19077800e-03,\n",
       "       -5.55126974e-02,  3.78440045e-02,  3.78440045e-02, -5.68241678e-02,\n",
       "        4.39118244e-02,  4.05779641e-01,  3.70971055e-01, -1.34191500e-03,\n",
       "        3.14696618e-01,  1.94058946e-01,  1.08158194e-01, -2.12675855e-03,\n",
       "        1.15212692e-03,  3.55174915e-01,  3.55174915e-01, -4.68518268e-02,\n",
       "        5.41944316e-02,  3.92422511e-01,  5.24077909e-01,  6.11546833e-03,\n",
       "        2.73184353e-01,  2.30265827e-02,  7.64818252e-03,  2.04848510e-01,\n",
       "        1.16711956e-01, -5.04498776e-02,  4.58993304e-02, -5.41636071e-03,\n",
       "        6.13404733e-02,  7.36963711e-03,  3.74515345e-02,  5.99555734e-03,\n",
       "        3.25002854e-02,  1.20032386e-01,  3.22939299e-01, -3.43834021e-02,\n",
       "        1.20032386e-01,  6.21612134e-02,  2.60860176e-01,  4.56363399e-02,\n",
       "        7.41433701e-02,  6.21612134e-02, -1.20863852e-01, -1.05956269e-01,\n",
       "       -1.05956269e-01, -9.71727507e-02, -1.05956269e-01, -1.20863852e-01,\n",
       "        9.88619947e-02,  2.73551036e-01, -5.03619517e-02,  3.19533823e-01,\n",
       "        3.19533823e-01,  7.87709848e-02, -1.01172912e-01, -4.65540546e-02,\n",
       "       -9.62625827e-03,  7.87709848e-02,  2.32323487e-01,  6.54642814e-03,\n",
       "        1.90442670e-01, -9.77813985e-03,  6.54642814e-03, -9.62433981e-03,\n",
       "        9.66584588e-02, -7.43040796e-02, -1.99396910e-02,  2.13822282e-01,\n",
       "        8.80002142e-02, -1.01913357e-01,  7.48778505e-02,  8.25347389e-02,\n",
       "        3.19565407e-01,  3.64914546e-01, -1.53716028e-01,  4.48596196e-01,\n",
       "        4.93321352e-02,  3.84667334e-01,  1.47789247e-01,  3.84667334e-01,\n",
       "        2.51771899e-01, -1.14992112e-03,  3.07947648e-02,  1.47789247e-01,\n",
       "        4.93321352e-02,  3.84667334e-01,  5.84994826e-01,  2.24235564e-01,\n",
       "        2.96831918e-01,  1.93106597e-01, -2.10396650e-02,  2.24235564e-01,\n",
       "       -2.98948050e-02, -2.98948050e-02,  2.05837639e-01,  1.24036977e-01,\n",
       "        1.86572474e-01,  1.30616911e-01,  1.86572474e-01,  1.00385151e-01,\n",
       "        6.27824967e-02,  9.89785973e-02,  1.86362932e-01,  6.39250852e-02,\n",
       "       -1.89142968e-02, -5.62715361e-02, -5.40291569e-02, -7.36055552e-02,\n",
       "        8.03304244e-02,  2.82590168e-01, -3.20612488e-02, -1.11180384e-01,\n",
       "       -6.72858301e-02,  2.54901541e-02, -3.12120109e-02, -2.88703091e-02,\n",
       "       -2.55569110e-02,  5.56167438e-02,  2.54901541e-02, -5.06348882e-05,\n",
       "        1.62150559e-02, -3.64573252e-02,  1.84392802e-01,  1.77382356e-01,\n",
       "       -1.29493841e-02,  1.93344456e-03,  1.77425670e-01,  1.93344456e-03,\n",
       "        1.77425670e-01, -5.25367757e-02, -1.81662763e-02,  3.60159574e-02,\n",
       "        1.53347949e-01,  1.53347949e-01,  3.78786271e-01,  3.99844689e-01,\n",
       "        2.31364771e-01,  1.33748696e-01,  3.51135656e-01,  3.51135656e-01,\n",
       "       -3.14447945e-02,  1.06248555e-01,  2.16105863e-01,  3.51230441e-01,\n",
       "        4.68776901e-01,  9.54371587e-02,  3.31943659e-01,  5.20739695e-01,\n",
       "        3.78187496e-01,  4.37764022e-01,  1.87080257e-01,  1.87080257e-01,\n",
       "        2.01394244e-01, -2.63889155e-02,  2.86228660e-01,  5.51380396e-01,\n",
       "        2.26897019e-01, -8.95263595e-03,  1.23199102e-01, -2.60864941e-02,\n",
       "       -9.33387178e-04,  3.80404010e-01,  3.66619156e-01,  1.97806883e-01,\n",
       "        2.89329937e-01,  3.88158041e-01,  2.77793576e-01,  1.45540158e-01,\n",
       "       -1.86464185e-02,  1.77128686e-01,  1.33258703e-01,  3.47934877e-01,\n",
       "        1.76272562e-01,  4.32249227e-01,  1.76272562e-01,  3.64232606e-02,\n",
       "        8.48603108e-04,  6.32012867e-01, -2.29514714e-02,  1.96128692e-01,\n",
       "        4.13038552e-01,  1.22174965e-02,  3.26174877e-01,  4.32460436e-01,\n",
       "        3.89596561e-01,  6.32012867e-01,  6.29815209e-01,  1.45061593e-01,\n",
       "        1.85910858e-01,  2.32371544e-01,  1.85910858e-01,  1.85910858e-01,\n",
       "       -3.46576503e-03,  8.49208154e-03, -1.37573233e-02, -4.68597579e-02,\n",
       "       -1.33746382e-03,  1.35485938e-01,  3.59597943e-01,  2.32371544e-01,\n",
       "        6.31891513e-02, -5.88256787e-02,  1.37644594e-01,  4.05387290e-01,\n",
       "       -1.79320178e-01,  2.11080017e-01,  2.11080017e-01,  1.56425981e-02,\n",
       "       -1.79320178e-01,  1.96511593e-01,  1.41273945e-01,  1.37961921e-01,\n",
       "       -5.97984641e-02,  2.51970813e-01,  2.21523280e-01,  2.37293085e-01,\n",
       "        3.30466944e-01,  2.13435907e-01, -2.31475333e-03,  1.27674164e-03,\n",
       "       -7.84833593e-02,  4.43668645e-01, -2.27045728e-02,  3.78114017e-02,\n",
       "        3.28338303e-01, -3.82512224e-02,  2.12086511e-01, -9.03900518e-02,\n",
       "        2.46355372e-01,  1.25111948e-01,  6.97283428e-03,  4.23923796e-01,\n",
       "        6.97283428e-03,  1.25111948e-01,  1.01135353e-01, -1.28289689e-03,\n",
       "        1.78148296e-02,  1.02094507e-01,  4.23923796e-01, -4.36804610e-02,\n",
       "        5.49823640e-01,  5.29864239e-02,  2.28117464e-01,  5.29864239e-02,\n",
       "        5.73983676e-02,  3.22186996e-01,  2.28117464e-01,  3.70406176e-02,\n",
       "        3.50300344e-01,  3.29459486e-01,  2.13117730e-01,  3.47704336e-01,\n",
       "        3.81756522e-01, -2.45710943e-02,  2.39850445e-01,  2.39378485e-01,\n",
       "        7.56127998e-02,  2.25705210e-01,  2.25705210e-01, -7.82544882e-03,\n",
       "       -1.09362493e-02,  2.75239518e-01,  2.46314697e-01,  4.72902539e-01,\n",
       "        3.56034686e-02, -6.90654427e-02,  2.75239518e-01, -3.10217925e-02,\n",
       "        2.19827385e-01, -2.62079271e-02,  4.04429589e-01, -8.48070809e-02,\n",
       "        1.91252587e-01,  1.67050985e-01,  2.57286174e-01,  6.12427601e-01,\n",
       "        8.79497113e-02,  5.08848253e-03,  2.44466842e-01,  2.60991561e-01,\n",
       "        2.79561215e-01,  3.46316665e-01,  2.63010441e-01,  2.39985343e-02,\n",
       "        1.61829405e-01,  4.86435544e-01,  2.39985343e-02])"
      ]
     },
     "execution_count": 66,
     "metadata": {},
     "output_type": "execute_result"
    }
   ],
   "source": [
    "linear_predict = lr.predict(x_test)\n",
    "linear_predict"
   ]
  },
  {
   "cell_type": "markdown",
   "metadata": {},
   "source": [
    "# c) SVM"
   ]
  },
  {
   "cell_type": "code",
   "execution_count": 67,
   "metadata": {},
   "outputs": [],
   "source": [
    "from sklearn import svm"
   ]
  },
  {
   "cell_type": "code",
   "execution_count": 68,
   "metadata": {},
   "outputs": [],
   "source": [
    "svc = svm.SVC()\n",
    "svc.fit(X_train, Y_train)\n",
    "pred_svc = svc.predict(x_test)"
   ]
  },
  {
   "cell_type": "markdown",
   "metadata": {},
   "source": [
    "# d) Naïve Bayesian"
   ]
  },
  {
   "cell_type": "code",
   "execution_count": 69,
   "metadata": {},
   "outputs": [],
   "source": [
    "from sklearn.naive_bayes import GaussianNB\n",
    "model = GaussianNB()\n",
    "model.fit(X_train,Y_train)\n",
    "pred_naive_bayes = model.predict(x_test)\n"
   ]
  },
  {
   "cell_type": "markdown",
   "metadata": {},
   "source": [
    "# Question: 3"
   ]
  },
  {
   "cell_type": "markdown",
   "metadata": {},
   "source": [
    "# a) Accuracy"
   ]
  },
  {
   "cell_type": "code",
   "execution_count": 70,
   "metadata": {},
   "outputs": [],
   "source": [
    "from sklearn.metrics import accuracy_score"
   ]
  },
  {
   "cell_type": "code",
   "execution_count": 71,
   "metadata": {},
   "outputs": [
    {
     "data": {
      "text/plain": [
       "0.872651356993737"
      ]
     },
     "execution_count": 71,
     "metadata": {},
     "output_type": "execute_result"
    }
   ],
   "source": [
    "accuracy_score(y_test, logistic_predict)"
   ]
  },
  {
   "cell_type": "code",
   "execution_count": 72,
   "metadata": {},
   "outputs": [
    {
     "ename": "ValueError",
     "evalue": "Classification metrics can't handle a mix of binary and continuous targets",
     "output_type": "error",
     "traceback": [
      "\u001b[1;31m---------------------------------------------------------------------------\u001b[0m",
      "\u001b[1;31mValueError\u001b[0m                                Traceback (most recent call last)",
      "\u001b[1;32m<ipython-input-72-cdbfe0314dc2>\u001b[0m in \u001b[0;36m<module>\u001b[1;34m\u001b[0m\n\u001b[1;32m----> 1\u001b[1;33m \u001b[0maccuracy_score\u001b[0m\u001b[1;33m(\u001b[0m\u001b[0my_test\u001b[0m\u001b[1;33m,\u001b[0m \u001b[0mlinear_predict\u001b[0m\u001b[1;33m)\u001b[0m\u001b[1;33m\u001b[0m\u001b[1;33m\u001b[0m\u001b[0m\n\u001b[0m",
      "\u001b[1;32m~\\anaconda3\\lib\\site-packages\\sklearn\\metrics\\_classification.py\u001b[0m in \u001b[0;36maccuracy_score\u001b[1;34m(y_true, y_pred, normalize, sample_weight)\u001b[0m\n\u001b[0;32m    183\u001b[0m \u001b[1;33m\u001b[0m\u001b[0m\n\u001b[0;32m    184\u001b[0m     \u001b[1;31m# Compute accuracy for each possible representation\u001b[0m\u001b[1;33m\u001b[0m\u001b[1;33m\u001b[0m\u001b[1;33m\u001b[0m\u001b[0m\n\u001b[1;32m--> 185\u001b[1;33m     \u001b[0my_type\u001b[0m\u001b[1;33m,\u001b[0m \u001b[0my_true\u001b[0m\u001b[1;33m,\u001b[0m \u001b[0my_pred\u001b[0m \u001b[1;33m=\u001b[0m \u001b[0m_check_targets\u001b[0m\u001b[1;33m(\u001b[0m\u001b[0my_true\u001b[0m\u001b[1;33m,\u001b[0m \u001b[0my_pred\u001b[0m\u001b[1;33m)\u001b[0m\u001b[1;33m\u001b[0m\u001b[1;33m\u001b[0m\u001b[0m\n\u001b[0m\u001b[0;32m    186\u001b[0m     \u001b[0mcheck_consistent_length\u001b[0m\u001b[1;33m(\u001b[0m\u001b[0my_true\u001b[0m\u001b[1;33m,\u001b[0m \u001b[0my_pred\u001b[0m\u001b[1;33m,\u001b[0m \u001b[0msample_weight\u001b[0m\u001b[1;33m)\u001b[0m\u001b[1;33m\u001b[0m\u001b[1;33m\u001b[0m\u001b[0m\n\u001b[0;32m    187\u001b[0m     \u001b[1;32mif\u001b[0m \u001b[0my_type\u001b[0m\u001b[1;33m.\u001b[0m\u001b[0mstartswith\u001b[0m\u001b[1;33m(\u001b[0m\u001b[1;34m'multilabel'\u001b[0m\u001b[1;33m)\u001b[0m\u001b[1;33m:\u001b[0m\u001b[1;33m\u001b[0m\u001b[1;33m\u001b[0m\u001b[0m\n",
      "\u001b[1;32m~\\anaconda3\\lib\\site-packages\\sklearn\\metrics\\_classification.py\u001b[0m in \u001b[0;36m_check_targets\u001b[1;34m(y_true, y_pred)\u001b[0m\n\u001b[0;32m     88\u001b[0m     \u001b[1;32mif\u001b[0m \u001b[0mlen\u001b[0m\u001b[1;33m(\u001b[0m\u001b[0my_type\u001b[0m\u001b[1;33m)\u001b[0m \u001b[1;33m>\u001b[0m \u001b[1;36m1\u001b[0m\u001b[1;33m:\u001b[0m\u001b[1;33m\u001b[0m\u001b[1;33m\u001b[0m\u001b[0m\n\u001b[0;32m     89\u001b[0m         raise ValueError(\"Classification metrics can't handle a mix of {0} \"\n\u001b[1;32m---> 90\u001b[1;33m                          \"and {1} targets\".format(type_true, type_pred))\n\u001b[0m\u001b[0;32m     91\u001b[0m \u001b[1;33m\u001b[0m\u001b[0m\n\u001b[0;32m     92\u001b[0m     \u001b[1;31m# We can't have more than one value on y_type => The set is no more needed\u001b[0m\u001b[1;33m\u001b[0m\u001b[1;33m\u001b[0m\u001b[1;33m\u001b[0m\u001b[0m\n",
      "\u001b[1;31mValueError\u001b[0m: Classification metrics can't handle a mix of binary and continuous targets"
     ]
    }
   ],
   "source": [
    "accuracy_score(y_test, linear_predict)"
   ]
  },
  {
   "cell_type": "code",
   "execution_count": 73,
   "metadata": {},
   "outputs": [
    {
     "data": {
      "text/plain": [
       "0.8872651356993737"
      ]
     },
     "execution_count": 73,
     "metadata": {},
     "output_type": "execute_result"
    }
   ],
   "source": [
    "accuracy_score(y_test, pred_svc)"
   ]
  },
  {
   "cell_type": "code",
   "execution_count": 74,
   "metadata": {},
   "outputs": [
    {
     "data": {
      "text/plain": [
       "0.8538622129436325"
      ]
     },
     "execution_count": 74,
     "metadata": {},
     "output_type": "execute_result"
    }
   ],
   "source": [
    "accuracy_score(y_test, pred_naive_bayes)"
   ]
  },
  {
   "cell_type": "markdown",
   "metadata": {},
   "source": [
    "# b) Precision"
   ]
  },
  {
   "cell_type": "code",
   "execution_count": 75,
   "metadata": {},
   "outputs": [],
   "source": [
    "from sklearn.metrics import precision_score"
   ]
  },
  {
   "cell_type": "code",
   "execution_count": 76,
   "metadata": {},
   "outputs": [
    {
     "data": {
      "text/plain": [
       "0.34782608695652173"
      ]
     },
     "execution_count": 76,
     "metadata": {},
     "output_type": "execute_result"
    }
   ],
   "source": [
    "precision_score(y_test, logistic_predict)"
   ]
  },
  {
   "cell_type": "code",
   "execution_count": 77,
   "metadata": {},
   "outputs": [
    {
     "name": "stderr",
     "output_type": "stream",
     "text": [
      "C:\\Users\\jayde\\anaconda3\\lib\\site-packages\\sklearn\\metrics\\_classification.py:1272: UndefinedMetricWarning: Precision is ill-defined and being set to 0.0 due to no predicted samples. Use `zero_division` parameter to control this behavior.\n",
      "  _warn_prf(average, modifier, msg_start, len(result))\n"
     ]
    },
    {
     "data": {
      "text/plain": [
       "0.0"
      ]
     },
     "execution_count": 77,
     "metadata": {},
     "output_type": "execute_result"
    }
   ],
   "source": [
    "precision_score(y_test, pred_svc)"
   ]
  },
  {
   "cell_type": "code",
   "execution_count": 78,
   "metadata": {},
   "outputs": [
    {
     "data": {
      "text/plain": [
       "0.35185185185185186"
      ]
     },
     "execution_count": 78,
     "metadata": {},
     "output_type": "execute_result"
    }
   ],
   "source": [
    "precision_score(y_test, pred_naive_bayes)"
   ]
  },
  {
   "cell_type": "markdown",
   "metadata": {},
   "source": [
    "# c) Recall"
   ]
  },
  {
   "cell_type": "code",
   "execution_count": 79,
   "metadata": {},
   "outputs": [],
   "source": [
    "from sklearn.metrics import recall_score"
   ]
  },
  {
   "cell_type": "code",
   "execution_count": 80,
   "metadata": {},
   "outputs": [
    {
     "data": {
      "text/plain": [
       "0.14814814814814814"
      ]
     },
     "execution_count": 80,
     "metadata": {},
     "output_type": "execute_result"
    }
   ],
   "source": [
    "recall_score(y_test, logistic_predict)"
   ]
  },
  {
   "cell_type": "code",
   "execution_count": 81,
   "metadata": {},
   "outputs": [
    {
     "data": {
      "text/plain": [
       "0.0"
      ]
     },
     "execution_count": 81,
     "metadata": {},
     "output_type": "execute_result"
    }
   ],
   "source": [
    "recall_score(y_test, pred_svc)"
   ]
  },
  {
   "cell_type": "code",
   "execution_count": 82,
   "metadata": {},
   "outputs": [
    {
     "data": {
      "text/plain": [
       "0.35185185185185186"
      ]
     },
     "execution_count": 82,
     "metadata": {},
     "output_type": "execute_result"
    }
   ],
   "source": [
    "recall_score(y_test, pred_naive_bayes)"
   ]
  },
  {
   "cell_type": "markdown",
   "metadata": {},
   "source": [
    "# d) F-measure"
   ]
  },
  {
   "cell_type": "code",
   "execution_count": 83,
   "metadata": {},
   "outputs": [],
   "source": [
    "from sklearn.metrics import f1_score"
   ]
  },
  {
   "cell_type": "code",
   "execution_count": 84,
   "metadata": {},
   "outputs": [
    {
     "data": {
      "text/plain": [
       "0.20779220779220778"
      ]
     },
     "execution_count": 84,
     "metadata": {},
     "output_type": "execute_result"
    }
   ],
   "source": [
    "f1_score(y_test, logistic_predict)"
   ]
  },
  {
   "cell_type": "code",
   "execution_count": 85,
   "metadata": {},
   "outputs": [
    {
     "data": {
      "text/plain": [
       "0.0"
      ]
     },
     "execution_count": 85,
     "metadata": {},
     "output_type": "execute_result"
    }
   ],
   "source": [
    "f1_score(y_test, pred_svc)"
   ]
  },
  {
   "cell_type": "code",
   "execution_count": 86,
   "metadata": {},
   "outputs": [
    {
     "data": {
      "text/plain": [
       "0.35185185185185186"
      ]
     },
     "execution_count": 86,
     "metadata": {},
     "output_type": "execute_result"
    }
   ],
   "source": [
    "f1_score(y_test, pred_naive_bayes)"
   ]
  },
  {
   "cell_type": "markdown",
   "metadata": {},
   "source": [
    "# Question 4)"
   ]
  },
  {
   "cell_type": "code",
   "execution_count": null,
   "metadata": {},
   "outputs": [],
   "source": []
  },
  {
   "cell_type": "code",
   "execution_count": 87,
   "metadata": {},
   "outputs": [],
   "source": [
    "from sklearn.preprocessing import StandardScaler"
   ]
  },
  {
   "cell_type": "code",
   "execution_count": 88,
   "metadata": {},
   "outputs": [
    {
     "data": {
      "text/html": [
       "<div>\n",
       "<style scoped>\n",
       "    .dataframe tbody tr th:only-of-type {\n",
       "        vertical-align: middle;\n",
       "    }\n",
       "\n",
       "    .dataframe tbody tr th {\n",
       "        vertical-align: top;\n",
       "    }\n",
       "\n",
       "    .dataframe thead th {\n",
       "        text-align: right;\n",
       "    }\n",
       "</style>\n",
       "<table border=\"1\" class=\"dataframe\">\n",
       "  <thead>\n",
       "    <tr style=\"text-align: right;\">\n",
       "      <th></th>\n",
       "      <th>\"fixed acidity</th>\n",
       "      <th>\"\"volatile acidity\"\"</th>\n",
       "      <th>\"\"citric acid\"\"</th>\n",
       "      <th>\"\"residual sugar\"\"</th>\n",
       "      <th>\"\"chlorides\"\"</th>\n",
       "      <th>\"\"free sulfur dioxide\"\"</th>\n",
       "      <th>\"\"total sulfur dioxide\"\"</th>\n",
       "      <th>\"\"density\"\"</th>\n",
       "      <th>\"\"pH\"\"</th>\n",
       "      <th>\"\"sulphates\"\"</th>\n",
       "      <th>\"\"alcohol\"\"</th>\n",
       "      <th>\"\"quality\"\"\"</th>\n",
       "    </tr>\n",
       "  </thead>\n",
       "  <tbody>\n",
       "    <tr>\n",
       "      <th>0</th>\n",
       "      <td>10.6</td>\n",
       "      <td>0.28</td>\n",
       "      <td>0.39</td>\n",
       "      <td>15.5</td>\n",
       "      <td>0.069</td>\n",
       "      <td>6.0</td>\n",
       "      <td>23.0</td>\n",
       "      <td>1.0026</td>\n",
       "      <td>3.12</td>\n",
       "      <td>0.66</td>\n",
       "      <td>9.2</td>\n",
       "      <td>0</td>\n",
       "    </tr>\n",
       "    <tr>\n",
       "      <th>1</th>\n",
       "      <td>9.4</td>\n",
       "      <td>0.30</td>\n",
       "      <td>0.56</td>\n",
       "      <td>2.8</td>\n",
       "      <td>0.080</td>\n",
       "      <td>6.0</td>\n",
       "      <td>17.0</td>\n",
       "      <td>0.9964</td>\n",
       "      <td>3.15</td>\n",
       "      <td>0.92</td>\n",
       "      <td>11.7</td>\n",
       "      <td>1</td>\n",
       "    </tr>\n",
       "    <tr>\n",
       "      <th>2</th>\n",
       "      <td>10.6</td>\n",
       "      <td>0.36</td>\n",
       "      <td>0.59</td>\n",
       "      <td>2.2</td>\n",
       "      <td>0.152</td>\n",
       "      <td>6.0</td>\n",
       "      <td>18.0</td>\n",
       "      <td>0.9986</td>\n",
       "      <td>3.04</td>\n",
       "      <td>1.05</td>\n",
       "      <td>9.4</td>\n",
       "      <td>0</td>\n",
       "    </tr>\n",
       "    <tr>\n",
       "      <th>3</th>\n",
       "      <td>10.6</td>\n",
       "      <td>0.36</td>\n",
       "      <td>0.60</td>\n",
       "      <td>2.2</td>\n",
       "      <td>0.152</td>\n",
       "      <td>7.0</td>\n",
       "      <td>18.0</td>\n",
       "      <td>0.9986</td>\n",
       "      <td>3.04</td>\n",
       "      <td>1.06</td>\n",
       "      <td>9.4</td>\n",
       "      <td>0</td>\n",
       "    </tr>\n",
       "    <tr>\n",
       "      <th>4</th>\n",
       "      <td>10.6</td>\n",
       "      <td>0.44</td>\n",
       "      <td>0.68</td>\n",
       "      <td>4.1</td>\n",
       "      <td>0.114</td>\n",
       "      <td>6.0</td>\n",
       "      <td>24.0</td>\n",
       "      <td>0.9970</td>\n",
       "      <td>3.06</td>\n",
       "      <td>0.66</td>\n",
       "      <td>13.4</td>\n",
       "      <td>0</td>\n",
       "    </tr>\n",
       "  </tbody>\n",
       "</table>\n",
       "</div>"
      ],
      "text/plain": [
       "   \"fixed acidity  \"\"volatile acidity\"\"  \"\"citric acid\"\"  \"\"residual sugar\"\"  \\\n",
       "0            10.6                  0.28             0.39                15.5   \n",
       "1             9.4                  0.30             0.56                 2.8   \n",
       "2            10.6                  0.36             0.59                 2.2   \n",
       "3            10.6                  0.36             0.60                 2.2   \n",
       "4            10.6                  0.44             0.68                 4.1   \n",
       "\n",
       "   \"\"chlorides\"\"  \"\"free sulfur dioxide\"\"  \"\"total sulfur dioxide\"\"  \\\n",
       "0          0.069                      6.0                      23.0   \n",
       "1          0.080                      6.0                      17.0   \n",
       "2          0.152                      6.0                      18.0   \n",
       "3          0.152                      7.0                      18.0   \n",
       "4          0.114                      6.0                      24.0   \n",
       "\n",
       "   \"\"density\"\"  \"\"pH\"\"  \"\"sulphates\"\"  \"\"alcohol\"\"  \"\"quality\"\"\"  \n",
       "0       1.0026    3.12           0.66          9.2             0  \n",
       "1       0.9964    3.15           0.92         11.7             1  \n",
       "2       0.9986    3.04           1.05          9.4             0  \n",
       "3       0.9986    3.04           1.06          9.4             0  \n",
       "4       0.9970    3.06           0.66         13.4             0  "
      ]
     },
     "execution_count": 88,
     "metadata": {},
     "output_type": "execute_result"
    }
   ],
   "source": [
    "train_data.head()"
   ]
  },
  {
   "cell_type": "code",
   "execution_count": 89,
   "metadata": {},
   "outputs": [],
   "source": [
    "New_train_data = train_data.drop('\"\"quality\"\"\"', axis = 1)\n",
    "New_test_data = test_data.drop('\"\"quality\"\"\"', axis = 1)"
   ]
  },
  {
   "cell_type": "code",
   "execution_count": 90,
   "metadata": {},
   "outputs": [
    {
     "data": {
      "text/plain": [
       "StandardScaler(copy=True, with_mean=True, with_std=True)"
      ]
     },
     "execution_count": 90,
     "metadata": {},
     "output_type": "execute_result"
    }
   ],
   "source": [
    "scaler=StandardScaler()\n",
    "scaler.fit(New_train_data)"
   ]
  },
  {
   "cell_type": "code",
   "execution_count": 91,
   "metadata": {},
   "outputs": [
    {
     "data": {
      "text/plain": [
       "StandardScaler(copy=True, with_mean=True, with_std=True)"
      ]
     },
     "execution_count": 91,
     "metadata": {},
     "output_type": "execute_result"
    }
   ],
   "source": [
    "scaler=StandardScaler()\n",
    "scaler.fit(New_test_data)"
   ]
  },
  {
   "cell_type": "code",
   "execution_count": 92,
   "metadata": {},
   "outputs": [],
   "source": [
    "scaled_data_train =scaler.transform(New_train_data)\n",
    "scaled_data_test =scaler.transform(New_test_data)"
   ]
  },
  {
   "cell_type": "code",
   "execution_count": 93,
   "metadata": {},
   "outputs": [
    {
     "data": {
      "text/plain": [
       "array([[ 1.02894321, -1.45078007,  0.42557775, ..., -1.12565592,\n",
       "        -0.16913101, -0.91545983],\n",
       "       [ 0.39612002, -1.33735093,  1.20679498, ..., -0.93253658,\n",
       "         1.04771335,  1.66580494],\n",
       "       [ 1.02894321, -0.99706349,  1.34465684, ..., -1.64064081,\n",
       "         1.65613553, -0.70895865],\n",
       "       ...,\n",
       "       [-1.4496143 ,  0.08051338, -0.90708693, ...,  1.44926855,\n",
       "         0.29888605,  1.14955198],\n",
       "       [-1.23867324, -0.14634491, -0.76922507, ...,  0.80553744,\n",
       "         0.25208435,  0.9430508 ],\n",
       "       [-1.4496143 ,  0.61930182, -0.81517902, ...,  1.77113411,\n",
       "         0.06487752,  0.11704608]])"
      ]
     },
     "execution_count": 93,
     "metadata": {},
     "output_type": "execute_result"
    }
   ],
   "source": [
    "scaled_data_train"
   ]
  },
  {
   "cell_type": "code",
   "execution_count": 94,
   "metadata": {},
   "outputs": [
    {
     "data": {
      "text/plain": [
       "(1118, 11)"
      ]
     },
     "execution_count": 94,
     "metadata": {},
     "output_type": "execute_result"
    }
   ],
   "source": [
    "scaled_data_train.shape"
   ]
  },
  {
   "cell_type": "code",
   "execution_count": 95,
   "metadata": {},
   "outputs": [
    {
     "data": {
      "text/plain": [
       "array([[-0.65858531,  0.93123197, -1.36662648, ...,  1.38489544,\n",
       "        -0.63714807, -0.70895865],\n",
       "       [-0.44764424,  1.95209427, -1.36662648, ..., -0.61067102,\n",
       "        -0.0755276 , -0.29595629],\n",
       "       [-0.44764424,  1.2715194 , -1.18281066, ..., -0.22443235,\n",
       "        -0.21593272, -0.29595629],\n",
       "       ...,\n",
       "       [ 0.34338475, -1.50749464,  0.51748566, ..., -0.09568613,\n",
       "         0.01807582, -0.39920688],\n",
       "       [ 0.92347268, -1.67763836,  0.8851173 , ..., -0.73941725,\n",
       "         1.70293724,  0.9430508 ],\n",
       "       [ 0.50159055,  0.81780282, -0.26373157, ..., -0.99690969,\n",
       "        -0.44994125,  0.11704608]])"
      ]
     },
     "execution_count": 95,
     "metadata": {},
     "output_type": "execute_result"
    }
   ],
   "source": [
    "scaled_data_test"
   ]
  },
  {
   "cell_type": "code",
   "execution_count": 96,
   "metadata": {},
   "outputs": [
    {
     "data": {
      "text/plain": [
       "(479, 11)"
      ]
     },
     "execution_count": 96,
     "metadata": {},
     "output_type": "execute_result"
    }
   ],
   "source": [
    "scaled_data_test.shape"
   ]
  },
  {
   "cell_type": "markdown",
   "metadata": {},
   "source": [
    "# 4 attributes"
   ]
  },
  {
   "cell_type": "code",
   "execution_count": 97,
   "metadata": {},
   "outputs": [],
   "source": [
    "from sklearn.decomposition import PCA"
   ]
  },
  {
   "cell_type": "code",
   "execution_count": 98,
   "metadata": {},
   "outputs": [],
   "source": [
    "pca = PCA(n_components=4)"
   ]
  },
  {
   "cell_type": "code",
   "execution_count": 99,
   "metadata": {},
   "outputs": [
    {
     "data": {
      "text/plain": [
       "PCA(copy=True, iterated_power='auto', n_components=4, random_state=None,\n",
       "    svd_solver='auto', tol=0.0, whiten=False)"
      ]
     },
     "execution_count": 99,
     "metadata": {},
     "output_type": "execute_result"
    }
   ],
   "source": [
    "pca.fit(scaled_data_train)"
   ]
  },
  {
   "cell_type": "code",
   "execution_count": 100,
   "metadata": {},
   "outputs": [
    {
     "data": {
      "text/plain": [
       "PCA(copy=True, iterated_power='auto', n_components=4, random_state=None,\n",
       "    svd_solver='auto', tol=0.0, whiten=False)"
      ]
     },
     "execution_count": 100,
     "metadata": {},
     "output_type": "execute_result"
    }
   ],
   "source": [
    "pca.fit(scaled_data_test)"
   ]
  },
  {
   "cell_type": "code",
   "execution_count": 101,
   "metadata": {},
   "outputs": [],
   "source": [
    "redwine_4_training_X = pca.transform(scaled_data_train)"
   ]
  },
  {
   "cell_type": "code",
   "execution_count": 102,
   "metadata": {},
   "outputs": [],
   "source": [
    "redwine_4_testing_X = pca.transform(scaled_data_test)"
   ]
  },
  {
   "cell_type": "code",
   "execution_count": 103,
   "metadata": {},
   "outputs": [
    {
     "data": {
      "text/plain": [
       "(1118, 4)"
      ]
     },
     "execution_count": 103,
     "metadata": {},
     "output_type": "execute_result"
    }
   ],
   "source": [
    "redwine_4_training_X.shape"
   ]
  },
  {
   "cell_type": "code",
   "execution_count": 104,
   "metadata": {},
   "outputs": [],
   "source": [
    "redwine_4_training_Y = train_data['\"\"quality\"\"\"']"
   ]
  },
  {
   "cell_type": "code",
   "execution_count": 105,
   "metadata": {},
   "outputs": [],
   "source": [
    "redwine_4_testing_Y = test_data['\"\"quality\"\"\"']"
   ]
  },
  {
   "cell_type": "markdown",
   "metadata": {},
   "source": [
    "# Now Again"
   ]
  },
  {
   "cell_type": "markdown",
   "metadata": {},
   "source": [
    "# 1) Logistic Regression"
   ]
  },
  {
   "cell_type": "code",
   "execution_count": 106,
   "metadata": {},
   "outputs": [
    {
     "data": {
      "text/plain": [
       "LogisticRegression(C=1.0, class_weight=None, dual=False, fit_intercept=True,\n",
       "                   intercept_scaling=1, l1_ratio=None, max_iter=100,\n",
       "                   multi_class='auto', n_jobs=None, penalty='l2',\n",
       "                   random_state=None, solver='lbfgs', tol=0.0001, verbose=0,\n",
       "                   warm_start=False)"
      ]
     },
     "execution_count": 106,
     "metadata": {},
     "output_type": "execute_result"
    }
   ],
   "source": [
    "logreg.fit(redwine_4_training_X, redwine_4_training_Y)"
   ]
  },
  {
   "cell_type": "code",
   "execution_count": 107,
   "metadata": {},
   "outputs": [],
   "source": [
    "logistic_predict = logreg.predict(redwine_4_testing_X)"
   ]
  },
  {
   "cell_type": "markdown",
   "metadata": {},
   "source": [
    "# 2)"
   ]
  },
  {
   "cell_type": "markdown",
   "metadata": {},
   "source": [
    "# 3) SVM"
   ]
  },
  {
   "cell_type": "code",
   "execution_count": 108,
   "metadata": {},
   "outputs": [
    {
     "data": {
      "text/plain": [
       "SVC(C=1.0, break_ties=False, cache_size=200, class_weight=None, coef0=0.0,\n",
       "    decision_function_shape='ovr', degree=3, gamma='scale', kernel='rbf',\n",
       "    max_iter=-1, probability=False, random_state=None, shrinking=True,\n",
       "    tol=0.001, verbose=False)"
      ]
     },
     "execution_count": 108,
     "metadata": {},
     "output_type": "execute_result"
    }
   ],
   "source": [
    "svc.fit(redwine_4_training_X, redwine_4_training_Y)"
   ]
  },
  {
   "cell_type": "code",
   "execution_count": 109,
   "metadata": {},
   "outputs": [],
   "source": [
    "pred_svc = svc.predict(redwine_4_testing_X)"
   ]
  },
  {
   "cell_type": "markdown",
   "metadata": {},
   "source": [
    "# 4) Naive Baysian"
   ]
  },
  {
   "cell_type": "code",
   "execution_count": 110,
   "metadata": {},
   "outputs": [
    {
     "data": {
      "text/plain": [
       "GaussianNB(priors=None, var_smoothing=1e-09)"
      ]
     },
     "execution_count": 110,
     "metadata": {},
     "output_type": "execute_result"
    }
   ],
   "source": [
    "model.fit(redwine_4_training_X, redwine_4_training_Y)"
   ]
  },
  {
   "cell_type": "code",
   "execution_count": 111,
   "metadata": {},
   "outputs": [],
   "source": [
    "pred_naive_bayes = model.predict(redwine_4_testing_X)"
   ]
  },
  {
   "cell_type": "markdown",
   "metadata": {},
   "source": [
    "# a) Accuracy"
   ]
  },
  {
   "cell_type": "code",
   "execution_count": 112,
   "metadata": {},
   "outputs": [
    {
     "data": {
      "text/plain": [
       "0.8747390396659708"
      ]
     },
     "execution_count": 112,
     "metadata": {},
     "output_type": "execute_result"
    }
   ],
   "source": [
    "accuracy_score(redwine_4_testing_Y, logistic_predict)"
   ]
  },
  {
   "cell_type": "code",
   "execution_count": null,
   "metadata": {},
   "outputs": [],
   "source": []
  },
  {
   "cell_type": "code",
   "execution_count": 113,
   "metadata": {},
   "outputs": [
    {
     "data": {
      "text/plain": [
       "0.872651356993737"
      ]
     },
     "execution_count": 113,
     "metadata": {},
     "output_type": "execute_result"
    }
   ],
   "source": [
    "accuracy_score(redwine_4_testing_Y, pred_svc)"
   ]
  },
  {
   "cell_type": "code",
   "execution_count": 114,
   "metadata": {},
   "outputs": [
    {
     "data": {
      "text/plain": [
       "0.8684759916492694"
      ]
     },
     "execution_count": 114,
     "metadata": {},
     "output_type": "execute_result"
    }
   ],
   "source": [
    "accuracy_score(redwine_4_testing_Y, pred_naive_bayes)"
   ]
  },
  {
   "cell_type": "markdown",
   "metadata": {},
   "source": [
    "# b) Precision"
   ]
  },
  {
   "cell_type": "code",
   "execution_count": 115,
   "metadata": {},
   "outputs": [
    {
     "data": {
      "text/plain": [
       "0.35"
      ]
     },
     "execution_count": 115,
     "metadata": {},
     "output_type": "execute_result"
    }
   ],
   "source": [
    "precision_score(redwine_4_testing_Y, logistic_predict)"
   ]
  },
  {
   "cell_type": "code",
   "execution_count": 116,
   "metadata": {},
   "outputs": [
    {
     "data": {
      "text/plain": [
       "0.23076923076923078"
      ]
     },
     "execution_count": 116,
     "metadata": {},
     "output_type": "execute_result"
    }
   ],
   "source": [
    "precision_score(redwine_4_testing_Y, pred_svc)"
   ]
  },
  {
   "cell_type": "code",
   "execution_count": 117,
   "metadata": {},
   "outputs": [
    {
     "data": {
      "text/plain": [
       "0.2"
      ]
     },
     "execution_count": 117,
     "metadata": {},
     "output_type": "execute_result"
    }
   ],
   "source": [
    "precision_score(redwine_4_testing_Y, pred_naive_bayes)"
   ]
  },
  {
   "cell_type": "markdown",
   "metadata": {},
   "source": [
    "# c) Recall"
   ]
  },
  {
   "cell_type": "code",
   "execution_count": 118,
   "metadata": {},
   "outputs": [
    {
     "data": {
      "text/plain": [
       "0.12962962962962962"
      ]
     },
     "execution_count": 118,
     "metadata": {},
     "output_type": "execute_result"
    }
   ],
   "source": [
    "recall_score(redwine_4_testing_Y, logistic_predict)"
   ]
  },
  {
   "cell_type": "code",
   "execution_count": 119,
   "metadata": {},
   "outputs": [
    {
     "data": {
      "text/plain": [
       "0.05555555555555555"
      ]
     },
     "execution_count": 119,
     "metadata": {},
     "output_type": "execute_result"
    }
   ],
   "source": [
    "recall_score(redwine_4_testing_Y, pred_svc)"
   ]
  },
  {
   "cell_type": "code",
   "execution_count": 120,
   "metadata": {},
   "outputs": [
    {
     "data": {
      "text/plain": [
       "0.05555555555555555"
      ]
     },
     "execution_count": 120,
     "metadata": {},
     "output_type": "execute_result"
    }
   ],
   "source": [
    "recall_score(redwine_4_testing_Y, pred_naive_bayes)"
   ]
  },
  {
   "cell_type": "markdown",
   "metadata": {},
   "source": [
    "# d) F-score"
   ]
  },
  {
   "cell_type": "code",
   "execution_count": 121,
   "metadata": {},
   "outputs": [
    {
     "data": {
      "text/plain": [
       "0.18918918918918917"
      ]
     },
     "execution_count": 121,
     "metadata": {},
     "output_type": "execute_result"
    }
   ],
   "source": [
    "f1_score(redwine_4_testing_Y, logistic_predict)"
   ]
  },
  {
   "cell_type": "code",
   "execution_count": 122,
   "metadata": {},
   "outputs": [
    {
     "data": {
      "text/plain": [
       "0.08955223880597016"
      ]
     },
     "execution_count": 122,
     "metadata": {},
     "output_type": "execute_result"
    }
   ],
   "source": [
    "f1_score(redwine_4_testing_Y, pred_svc)"
   ]
  },
  {
   "cell_type": "code",
   "execution_count": 123,
   "metadata": {},
   "outputs": [
    {
     "data": {
      "text/plain": [
       "0.08695652173913045"
      ]
     },
     "execution_count": 123,
     "metadata": {},
     "output_type": "execute_result"
    }
   ],
   "source": [
    "f1_score(redwine_4_testing_Y, pred_naive_bayes)"
   ]
  },
  {
   "cell_type": "markdown",
   "metadata": {},
   "source": [
    "# 7 attributes"
   ]
  },
  {
   "cell_type": "code",
   "execution_count": 124,
   "metadata": {},
   "outputs": [],
   "source": [
    "pca = PCA(n_components=7)"
   ]
  },
  {
   "cell_type": "code",
   "execution_count": 125,
   "metadata": {},
   "outputs": [
    {
     "data": {
      "text/plain": [
       "PCA(copy=True, iterated_power='auto', n_components=7, random_state=None,\n",
       "    svd_solver='auto', tol=0.0, whiten=False)"
      ]
     },
     "execution_count": 125,
     "metadata": {},
     "output_type": "execute_result"
    }
   ],
   "source": [
    "pca.fit(scaled_data_train)"
   ]
  },
  {
   "cell_type": "code",
   "execution_count": 126,
   "metadata": {},
   "outputs": [
    {
     "data": {
      "text/plain": [
       "PCA(copy=True, iterated_power='auto', n_components=7, random_state=None,\n",
       "    svd_solver='auto', tol=0.0, whiten=False)"
      ]
     },
     "execution_count": 126,
     "metadata": {},
     "output_type": "execute_result"
    }
   ],
   "source": [
    "pca.fit(scaled_data_test)"
   ]
  },
  {
   "cell_type": "code",
   "execution_count": 127,
   "metadata": {},
   "outputs": [],
   "source": [
    "redwine_7_training_X = pca.transform(scaled_data_train)"
   ]
  },
  {
   "cell_type": "code",
   "execution_count": 128,
   "metadata": {},
   "outputs": [],
   "source": [
    "redwine_7_testing_X = pca.transform(scaled_data_test)"
   ]
  },
  {
   "cell_type": "code",
   "execution_count": 129,
   "metadata": {},
   "outputs": [
    {
     "data": {
      "text/plain": [
       "(1118, 7)"
      ]
     },
     "execution_count": 129,
     "metadata": {},
     "output_type": "execute_result"
    }
   ],
   "source": [
    "redwine_7_training_X.shape"
   ]
  },
  {
   "cell_type": "code",
   "execution_count": 130,
   "metadata": {},
   "outputs": [],
   "source": [
    "redwine_7_training_Y = train_data['\"\"quality\"\"\"']"
   ]
  },
  {
   "cell_type": "code",
   "execution_count": 131,
   "metadata": {},
   "outputs": [],
   "source": [
    "redwine_7_testing_Y = test_data['\"\"quality\"\"\"']"
   ]
  },
  {
   "cell_type": "markdown",
   "metadata": {},
   "source": [
    "# Now again"
   ]
  },
  {
   "cell_type": "markdown",
   "metadata": {},
   "source": [
    "# 1) Logistic Regression"
   ]
  },
  {
   "cell_type": "code",
   "execution_count": 132,
   "metadata": {},
   "outputs": [
    {
     "data": {
      "text/plain": [
       "LogisticRegression(C=1.0, class_weight=None, dual=False, fit_intercept=True,\n",
       "                   intercept_scaling=1, l1_ratio=None, max_iter=100,\n",
       "                   multi_class='auto', n_jobs=None, penalty='l2',\n",
       "                   random_state=None, solver='lbfgs', tol=0.0001, verbose=0,\n",
       "                   warm_start=False)"
      ]
     },
     "execution_count": 132,
     "metadata": {},
     "output_type": "execute_result"
    }
   ],
   "source": [
    "logreg.fit(redwine_7_training_X, redwine_7_training_Y)"
   ]
  },
  {
   "cell_type": "code",
   "execution_count": 133,
   "metadata": {},
   "outputs": [
    {
     "ename": "ValueError",
     "evalue": "X has 4 features per sample; expecting 7",
     "output_type": "error",
     "traceback": [
      "\u001b[1;31m---------------------------------------------------------------------------\u001b[0m",
      "\u001b[1;31mValueError\u001b[0m                                Traceback (most recent call last)",
      "\u001b[1;32m<ipython-input-133-6a483d7fc78a>\u001b[0m in \u001b[0;36m<module>\u001b[1;34m\u001b[0m\n\u001b[1;32m----> 1\u001b[1;33m \u001b[0mlogistic_predict\u001b[0m \u001b[1;33m=\u001b[0m \u001b[0mlogreg\u001b[0m\u001b[1;33m.\u001b[0m\u001b[0mpredict\u001b[0m\u001b[1;33m(\u001b[0m\u001b[0mredwine_4_testing_X\u001b[0m\u001b[1;33m)\u001b[0m\u001b[1;33m\u001b[0m\u001b[1;33m\u001b[0m\u001b[0m\n\u001b[0m",
      "\u001b[1;32m~\\anaconda3\\lib\\site-packages\\sklearn\\linear_model\\_base.py\u001b[0m in \u001b[0;36mpredict\u001b[1;34m(self, X)\u001b[0m\n\u001b[0;32m    291\u001b[0m             \u001b[0mPredicted\u001b[0m \u001b[1;32mclass\u001b[0m \u001b[0mlabel\u001b[0m \u001b[0mper\u001b[0m \u001b[0msample\u001b[0m\u001b[1;33m.\u001b[0m\u001b[1;33m\u001b[0m\u001b[1;33m\u001b[0m\u001b[0m\n\u001b[0;32m    292\u001b[0m         \"\"\"\n\u001b[1;32m--> 293\u001b[1;33m         \u001b[0mscores\u001b[0m \u001b[1;33m=\u001b[0m \u001b[0mself\u001b[0m\u001b[1;33m.\u001b[0m\u001b[0mdecision_function\u001b[0m\u001b[1;33m(\u001b[0m\u001b[0mX\u001b[0m\u001b[1;33m)\u001b[0m\u001b[1;33m\u001b[0m\u001b[1;33m\u001b[0m\u001b[0m\n\u001b[0m\u001b[0;32m    294\u001b[0m         \u001b[1;32mif\u001b[0m \u001b[0mlen\u001b[0m\u001b[1;33m(\u001b[0m\u001b[0mscores\u001b[0m\u001b[1;33m.\u001b[0m\u001b[0mshape\u001b[0m\u001b[1;33m)\u001b[0m \u001b[1;33m==\u001b[0m \u001b[1;36m1\u001b[0m\u001b[1;33m:\u001b[0m\u001b[1;33m\u001b[0m\u001b[1;33m\u001b[0m\u001b[0m\n\u001b[0;32m    295\u001b[0m             \u001b[0mindices\u001b[0m \u001b[1;33m=\u001b[0m \u001b[1;33m(\u001b[0m\u001b[0mscores\u001b[0m \u001b[1;33m>\u001b[0m \u001b[1;36m0\u001b[0m\u001b[1;33m)\u001b[0m\u001b[1;33m.\u001b[0m\u001b[0mastype\u001b[0m\u001b[1;33m(\u001b[0m\u001b[0mnp\u001b[0m\u001b[1;33m.\u001b[0m\u001b[0mint\u001b[0m\u001b[1;33m)\u001b[0m\u001b[1;33m\u001b[0m\u001b[1;33m\u001b[0m\u001b[0m\n",
      "\u001b[1;32m~\\anaconda3\\lib\\site-packages\\sklearn\\linear_model\\_base.py\u001b[0m in \u001b[0;36mdecision_function\u001b[1;34m(self, X)\u001b[0m\n\u001b[0;32m    271\u001b[0m         \u001b[1;32mif\u001b[0m \u001b[0mX\u001b[0m\u001b[1;33m.\u001b[0m\u001b[0mshape\u001b[0m\u001b[1;33m[\u001b[0m\u001b[1;36m1\u001b[0m\u001b[1;33m]\u001b[0m \u001b[1;33m!=\u001b[0m \u001b[0mn_features\u001b[0m\u001b[1;33m:\u001b[0m\u001b[1;33m\u001b[0m\u001b[1;33m\u001b[0m\u001b[0m\n\u001b[0;32m    272\u001b[0m             raise ValueError(\"X has %d features per sample; expecting %d\"\n\u001b[1;32m--> 273\u001b[1;33m                              % (X.shape[1], n_features))\n\u001b[0m\u001b[0;32m    274\u001b[0m \u001b[1;33m\u001b[0m\u001b[0m\n\u001b[0;32m    275\u001b[0m         scores = safe_sparse_dot(X, self.coef_.T,\n",
      "\u001b[1;31mValueError\u001b[0m: X has 4 features per sample; expecting 7"
     ]
    }
   ],
   "source": [
    "logistic_predict = logreg.predict(redwine_4_testing_X)"
   ]
  },
  {
   "cell_type": "markdown",
   "metadata": {},
   "source": [
    "# 2)"
   ]
  },
  {
   "cell_type": "markdown",
   "metadata": {},
   "source": [
    "# 3) SVM"
   ]
  },
  {
   "cell_type": "code",
   "execution_count": 134,
   "metadata": {},
   "outputs": [
    {
     "data": {
      "text/plain": [
       "SVC(C=1.0, break_ties=False, cache_size=200, class_weight=None, coef0=0.0,\n",
       "    decision_function_shape='ovr', degree=3, gamma='scale', kernel='rbf',\n",
       "    max_iter=-1, probability=False, random_state=None, shrinking=True,\n",
       "    tol=0.001, verbose=False)"
      ]
     },
     "execution_count": 134,
     "metadata": {},
     "output_type": "execute_result"
    }
   ],
   "source": [
    "svc.fit(redwine_7_training_X, redwine_7_training_Y)"
   ]
  },
  {
   "cell_type": "code",
   "execution_count": 135,
   "metadata": {},
   "outputs": [
    {
     "ename": "ValueError",
     "evalue": "X.shape[1] = 4 should be equal to 7, the number of features at training time",
     "output_type": "error",
     "traceback": [
      "\u001b[1;31m---------------------------------------------------------------------------\u001b[0m",
      "\u001b[1;31mValueError\u001b[0m                                Traceback (most recent call last)",
      "\u001b[1;32m<ipython-input-135-7045a02e0c1b>\u001b[0m in \u001b[0;36m<module>\u001b[1;34m\u001b[0m\n\u001b[1;32m----> 1\u001b[1;33m \u001b[0mpred_svc\u001b[0m \u001b[1;33m=\u001b[0m \u001b[0msvc\u001b[0m\u001b[1;33m.\u001b[0m\u001b[0mpredict\u001b[0m\u001b[1;33m(\u001b[0m\u001b[0mredwine_4_testing_X\u001b[0m\u001b[1;33m)\u001b[0m\u001b[1;33m\u001b[0m\u001b[1;33m\u001b[0m\u001b[0m\n\u001b[0m",
      "\u001b[1;32m~\\anaconda3\\lib\\site-packages\\sklearn\\svm\\_base.py\u001b[0m in \u001b[0;36mpredict\u001b[1;34m(self, X)\u001b[0m\n\u001b[0;32m    592\u001b[0m             \u001b[0my\u001b[0m \u001b[1;33m=\u001b[0m \u001b[0mnp\u001b[0m\u001b[1;33m.\u001b[0m\u001b[0margmax\u001b[0m\u001b[1;33m(\u001b[0m\u001b[0mself\u001b[0m\u001b[1;33m.\u001b[0m\u001b[0mdecision_function\u001b[0m\u001b[1;33m(\u001b[0m\u001b[0mX\u001b[0m\u001b[1;33m)\u001b[0m\u001b[1;33m,\u001b[0m \u001b[0maxis\u001b[0m\u001b[1;33m=\u001b[0m\u001b[1;36m1\u001b[0m\u001b[1;33m)\u001b[0m\u001b[1;33m\u001b[0m\u001b[1;33m\u001b[0m\u001b[0m\n\u001b[0;32m    593\u001b[0m         \u001b[1;32melse\u001b[0m\u001b[1;33m:\u001b[0m\u001b[1;33m\u001b[0m\u001b[1;33m\u001b[0m\u001b[0m\n\u001b[1;32m--> 594\u001b[1;33m             \u001b[0my\u001b[0m \u001b[1;33m=\u001b[0m \u001b[0msuper\u001b[0m\u001b[1;33m(\u001b[0m\u001b[1;33m)\u001b[0m\u001b[1;33m.\u001b[0m\u001b[0mpredict\u001b[0m\u001b[1;33m(\u001b[0m\u001b[0mX\u001b[0m\u001b[1;33m)\u001b[0m\u001b[1;33m\u001b[0m\u001b[1;33m\u001b[0m\u001b[0m\n\u001b[0m\u001b[0;32m    595\u001b[0m         \u001b[1;32mreturn\u001b[0m \u001b[0mself\u001b[0m\u001b[1;33m.\u001b[0m\u001b[0mclasses_\u001b[0m\u001b[1;33m.\u001b[0m\u001b[0mtake\u001b[0m\u001b[1;33m(\u001b[0m\u001b[0mnp\u001b[0m\u001b[1;33m.\u001b[0m\u001b[0masarray\u001b[0m\u001b[1;33m(\u001b[0m\u001b[0my\u001b[0m\u001b[1;33m,\u001b[0m \u001b[0mdtype\u001b[0m\u001b[1;33m=\u001b[0m\u001b[0mnp\u001b[0m\u001b[1;33m.\u001b[0m\u001b[0mintp\u001b[0m\u001b[1;33m)\u001b[0m\u001b[1;33m)\u001b[0m\u001b[1;33m\u001b[0m\u001b[1;33m\u001b[0m\u001b[0m\n\u001b[0;32m    596\u001b[0m \u001b[1;33m\u001b[0m\u001b[0m\n",
      "\u001b[1;32m~\\anaconda3\\lib\\site-packages\\sklearn\\svm\\_base.py\u001b[0m in \u001b[0;36mpredict\u001b[1;34m(self, X)\u001b[0m\n\u001b[0;32m    313\u001b[0m         \u001b[0my_pred\u001b[0m \u001b[1;33m:\u001b[0m \u001b[0marray\u001b[0m\u001b[1;33m,\u001b[0m \u001b[0mshape\u001b[0m \u001b[1;33m(\u001b[0m\u001b[0mn_samples\u001b[0m\u001b[1;33m,\u001b[0m\u001b[1;33m)\u001b[0m\u001b[1;33m\u001b[0m\u001b[1;33m\u001b[0m\u001b[0m\n\u001b[0;32m    314\u001b[0m         \"\"\"\n\u001b[1;32m--> 315\u001b[1;33m         \u001b[0mX\u001b[0m \u001b[1;33m=\u001b[0m \u001b[0mself\u001b[0m\u001b[1;33m.\u001b[0m\u001b[0m_validate_for_predict\u001b[0m\u001b[1;33m(\u001b[0m\u001b[0mX\u001b[0m\u001b[1;33m)\u001b[0m\u001b[1;33m\u001b[0m\u001b[1;33m\u001b[0m\u001b[0m\n\u001b[0m\u001b[0;32m    316\u001b[0m         \u001b[0mpredict\u001b[0m \u001b[1;33m=\u001b[0m \u001b[0mself\u001b[0m\u001b[1;33m.\u001b[0m\u001b[0m_sparse_predict\u001b[0m \u001b[1;32mif\u001b[0m \u001b[0mself\u001b[0m\u001b[1;33m.\u001b[0m\u001b[0m_sparse\u001b[0m \u001b[1;32melse\u001b[0m \u001b[0mself\u001b[0m\u001b[1;33m.\u001b[0m\u001b[0m_dense_predict\u001b[0m\u001b[1;33m\u001b[0m\u001b[1;33m\u001b[0m\u001b[0m\n\u001b[0;32m    317\u001b[0m         \u001b[1;32mreturn\u001b[0m \u001b[0mpredict\u001b[0m\u001b[1;33m(\u001b[0m\u001b[0mX\u001b[0m\u001b[1;33m)\u001b[0m\u001b[1;33m\u001b[0m\u001b[1;33m\u001b[0m\u001b[0m\n",
      "\u001b[1;32m~\\anaconda3\\lib\\site-packages\\sklearn\\svm\\_base.py\u001b[0m in \u001b[0;36m_validate_for_predict\u001b[1;34m(self, X)\u001b[0m\n\u001b[0;32m    465\u001b[0m             raise ValueError(\"X.shape[1] = %d should be equal to %d, \"\n\u001b[0;32m    466\u001b[0m                              \u001b[1;34m\"the number of features at training time\"\u001b[0m \u001b[1;33m%\u001b[0m\u001b[1;33m\u001b[0m\u001b[1;33m\u001b[0m\u001b[0m\n\u001b[1;32m--> 467\u001b[1;33m                              (n_features, self.shape_fit_[1]))\n\u001b[0m\u001b[0;32m    468\u001b[0m         \u001b[1;32mreturn\u001b[0m \u001b[0mX\u001b[0m\u001b[1;33m\u001b[0m\u001b[1;33m\u001b[0m\u001b[0m\n\u001b[0;32m    469\u001b[0m \u001b[1;33m\u001b[0m\u001b[0m\n",
      "\u001b[1;31mValueError\u001b[0m: X.shape[1] = 4 should be equal to 7, the number of features at training time"
     ]
    }
   ],
   "source": [
    "pred_svc = svc.predict(redwine_4_testing_X)"
   ]
  },
  {
   "cell_type": "markdown",
   "metadata": {},
   "source": [
    "# 4) Naive Baysian"
   ]
  },
  {
   "cell_type": "code",
   "execution_count": 136,
   "metadata": {},
   "outputs": [
    {
     "data": {
      "text/plain": [
       "GaussianNB(priors=None, var_smoothing=1e-09)"
      ]
     },
     "execution_count": 136,
     "metadata": {},
     "output_type": "execute_result"
    }
   ],
   "source": [
    "model.fit(redwine_4_training_X, redwine_4_training_Y)"
   ]
  },
  {
   "cell_type": "code",
   "execution_count": 137,
   "metadata": {},
   "outputs": [],
   "source": [
    "pred_naive_bayes = model.predict(redwine_4_testing_X)"
   ]
  },
  {
   "cell_type": "markdown",
   "metadata": {},
   "source": [
    "# a) Accuracy"
   ]
  },
  {
   "cell_type": "code",
   "execution_count": 138,
   "metadata": {},
   "outputs": [
    {
     "data": {
      "text/plain": [
       "0.8747390396659708"
      ]
     },
     "execution_count": 138,
     "metadata": {},
     "output_type": "execute_result"
    }
   ],
   "source": [
    "accuracy_score(redwine_7_testing_Y, logistic_predict)"
   ]
  },
  {
   "cell_type": "code",
   "execution_count": 139,
   "metadata": {},
   "outputs": [
    {
     "data": {
      "text/plain": [
       "0.872651356993737"
      ]
     },
     "execution_count": 139,
     "metadata": {},
     "output_type": "execute_result"
    }
   ],
   "source": [
    "accuracy_score(redwine_4_testing_Y, pred_svc)"
   ]
  },
  {
   "cell_type": "code",
   "execution_count": 140,
   "metadata": {},
   "outputs": [
    {
     "data": {
      "text/plain": [
       "0.8684759916492694"
      ]
     },
     "execution_count": 140,
     "metadata": {},
     "output_type": "execute_result"
    }
   ],
   "source": [
    "accuracy_score(redwine_4_testing_Y, pred_naive_bayes)"
   ]
  },
  {
   "cell_type": "markdown",
   "metadata": {},
   "source": [
    "# b) Precision"
   ]
  },
  {
   "cell_type": "code",
   "execution_count": 141,
   "metadata": {},
   "outputs": [
    {
     "data": {
      "text/plain": [
       "0.35"
      ]
     },
     "execution_count": 141,
     "metadata": {},
     "output_type": "execute_result"
    }
   ],
   "source": [
    "precision_score(redwine_7_testing_Y, logistic_predict)"
   ]
  },
  {
   "cell_type": "code",
   "execution_count": 142,
   "metadata": {},
   "outputs": [
    {
     "data": {
      "text/plain": [
       "0.23076923076923078"
      ]
     },
     "execution_count": 142,
     "metadata": {},
     "output_type": "execute_result"
    }
   ],
   "source": [
    "precision_score(redwine_4_testing_Y, pred_svc)"
   ]
  },
  {
   "cell_type": "code",
   "execution_count": 143,
   "metadata": {},
   "outputs": [
    {
     "data": {
      "text/plain": [
       "0.2"
      ]
     },
     "execution_count": 143,
     "metadata": {},
     "output_type": "execute_result"
    }
   ],
   "source": [
    "precision_score(redwine_4_testing_Y, pred_naive_bayes)"
   ]
  },
  {
   "cell_type": "markdown",
   "metadata": {},
   "source": [
    "# c) Recall"
   ]
  },
  {
   "cell_type": "code",
   "execution_count": 144,
   "metadata": {},
   "outputs": [
    {
     "data": {
      "text/plain": [
       "0.12962962962962962"
      ]
     },
     "execution_count": 144,
     "metadata": {},
     "output_type": "execute_result"
    }
   ],
   "source": [
    "recall_score(redwine_7_testing_Y, logistic_predict)"
   ]
  },
  {
   "cell_type": "code",
   "execution_count": 145,
   "metadata": {},
   "outputs": [
    {
     "data": {
      "text/plain": [
       "0.05555555555555555"
      ]
     },
     "execution_count": 145,
     "metadata": {},
     "output_type": "execute_result"
    }
   ],
   "source": [
    "recall_score(redwine_4_testing_Y, pred_svc)"
   ]
  },
  {
   "cell_type": "code",
   "execution_count": 146,
   "metadata": {},
   "outputs": [
    {
     "data": {
      "text/plain": [
       "0.05555555555555555"
      ]
     },
     "execution_count": 146,
     "metadata": {},
     "output_type": "execute_result"
    }
   ],
   "source": [
    "recall_score(redwine_4_testing_Y, pred_naive_bayes)"
   ]
  },
  {
   "cell_type": "markdown",
   "metadata": {},
   "source": [
    "# d) F-measure"
   ]
  },
  {
   "cell_type": "code",
   "execution_count": 147,
   "metadata": {},
   "outputs": [
    {
     "data": {
      "text/plain": [
       "0.18918918918918917"
      ]
     },
     "execution_count": 147,
     "metadata": {},
     "output_type": "execute_result"
    }
   ],
   "source": [
    "f1_score(redwine_7_testing_Y, logistic_predict)"
   ]
  },
  {
   "cell_type": "code",
   "execution_count": 148,
   "metadata": {},
   "outputs": [
    {
     "data": {
      "text/plain": [
       "0.08955223880597016"
      ]
     },
     "execution_count": 148,
     "metadata": {},
     "output_type": "execute_result"
    }
   ],
   "source": [
    "f1_score(redwine_7_testing_Y, pred_svc)"
   ]
  },
  {
   "cell_type": "code",
   "execution_count": 149,
   "metadata": {},
   "outputs": [
    {
     "data": {
      "text/plain": [
       "0.08695652173913045"
      ]
     },
     "execution_count": 149,
     "metadata": {},
     "output_type": "execute_result"
    }
   ],
   "source": [
    "f1_score(redwine_7_testing_Y, pred_naive_bayes)"
   ]
  },
  {
   "cell_type": "code",
   "execution_count": null,
   "metadata": {},
   "outputs": [],
   "source": []
  },
  {
   "cell_type": "code",
   "execution_count": null,
   "metadata": {},
   "outputs": [],
   "source": []
  }
 ],
 "metadata": {
  "kernelspec": {
   "display_name": "Python 3",
   "language": "python",
   "name": "python3"
  },
  "language_info": {
   "codemirror_mode": {
    "name": "ipython",
    "version": 3
   },
   "file_extension": ".py",
   "mimetype": "text/x-python",
   "name": "python",
   "nbconvert_exporter": "python",
   "pygments_lexer": "ipython3",
   "version": "3.7.6"
  }
 },
 "nbformat": 4,
 "nbformat_minor": 4
}
